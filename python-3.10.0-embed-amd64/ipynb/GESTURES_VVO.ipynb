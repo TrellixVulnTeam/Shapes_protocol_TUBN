{
 "cells": [
  {
   "cell_type": "markdown",
   "id": "03e5a279",
   "metadata": {
    "tags": []
   },
   "source": [
    "# Init NIM"
   ]
  },
  {
   "cell_type": "code",
   "execution_count": 1,
   "id": "70601dd1",
   "metadata": {},
   "outputs": [],
   "source": [
    "%config Completer.use_jedi = False\n",
    "\n",
    "import pywinauto\n",
    "\n",
    "from pywinauto import Desktop\n",
    "\n",
    "windows = Desktop(backend='uia').windows()\n",
    "[w.window_text() for w in windows]\n",
    "\n",
    "from pywinauto.application import Application\n",
    "app = Application(backend='uia')\n",
    "app = app.connect(title='NIM Eclipse E4')\n",
    "\n",
    "win = app.window()\n",
    "\n",
    "slides=[]\n",
    "for i in range(8):\n",
    "    zzz=app.window(found_index=0).child_window(class_name_re='Slider', found_index=i).wrapper_object()\n",
    "    slides.append(zzz)\n",
    "    \n",
    "\n",
    "for i in range(8):\n",
    "    slides[i].draw_outline()\n",
    "    "
   ]
  },
  {
   "cell_type": "markdown",
   "id": "1487af3e",
   "metadata": {
    "jp-MarkdownHeadingCollapsed": true,
    "tags": []
   },
   "source": [
    "# Tactile"
   ]
  },
  {
   "cell_type": "code",
   "execution_count": null,
   "id": "a608a48a",
   "metadata": {},
   "outputs": [],
   "source": [
    "ser_tac.close()"
   ]
  },
  {
   "cell_type": "code",
   "execution_count": null,
   "id": "798cea97",
   "metadata": {},
   "outputs": [],
   "source": [
    "import serial\n",
    "import time\n",
    "import numpy as np\n",
    "\n",
    "ser_tac = serial.Serial('COM9', 9600, timeout=0.03)"
   ]
  },
  {
   "cell_type": "code",
   "execution_count": null,
   "id": "52807abe",
   "metadata": {},
   "outputs": [],
   "source": [
    "def read_tac():    \n",
    "    ser_tac.flush();\n",
    "    # time.sleep(0.001)\n",
    "    ser_tac.readline();\n",
    "    # time.sleep(0.001);\n",
    "    l = ser_tac.readline()\n",
    "    if len(l)>0:\n",
    "        try:\n",
    "            line = l.decode('UTF8')\n",
    "            inarray = np.array(list(filter(len, line.replace('\\r\\n', '').split(' ')))).astype(int)\n",
    "            if len(inarray) == 4:\n",
    "                return inarray-500\n",
    "            else:\n",
    "                return None\n",
    "        except Exception as e:\n",
    "            print(e)\n",
    "            print(l)\n",
    "    else:\n",
    "        return None\n",
    "    \n",
    "\n",
    "\n",
    "while True:\n",
    "    inarray = read_tac()\n",
    "    \n",
    "    if inarray is None:\n",
    "        continue\n",
    "    \n",
    "    \n",
    "    print(f'{inarray}                  ', end='\\r')\n",
    "\n",
    "    \n",
    "    # time.sleep(0.1);"
   ]
  },
  {
   "cell_type": "markdown",
   "id": "ebb2962b",
   "metadata": {},
   "source": [
    "## Executing"
   ]
  },
  {
   "cell_type": "code",
   "execution_count": null,
   "id": "abd7211a",
   "metadata": {},
   "outputs": [],
   "source": [
    "min_tac_amplitude = 4.0\n",
    "max_tac_amplitude = 6.0\n",
    "\n",
    "max_pressures = np.array([250, 250, 100, 200]);\n",
    "target_tac = 2;\n",
    "\n",
    "tac_slide = slides[0];\n"
   ]
  },
  {
   "cell_type": "code",
   "execution_count": null,
   "id": "8883231c",
   "metadata": {
    "tags": []
   },
   "outputs": [],
   "source": [
    "tac_slide.set_value(min_tac_amplitude)\n",
    "\n",
    "ser_tac.flush();\n",
    "ser_tac.readline();\n",
    "\n",
    "pressure = (read_tac()/max_pressures)[target_tac]*(max_tac_amplitude - min_tac_amplitude) + min_tac_amplitude \n",
    "prev_pressure = pressure;\n",
    "print(f'{pressure:.3f}      ')\n",
    "\n",
    "while True:\n",
    "    inarray = read_tac()\n",
    "   \n",
    "    if inarray is None:\n",
    "        continue\n",
    "        \n",
    "    print(f'{inarray} ', end=' - ') \n",
    "    \n",
    "    pressure = (read_tac()/max_pressures)[target_tac]\n",
    "    print(f'{pressure:.3f} ', end=' - ')\n",
    "        \n",
    "    pressure *= (max_tac_amplitude - min_tac_amplitude)\n",
    "    pressure += min_tac_amplitude\n",
    "    \n",
    "    pressure = 0.5*pressure + 0.5*prev_pressure\n",
    "    \n",
    "    print(f'{pressure:.3f}', end= ' - ')\n",
    "    \n",
    "    if np.abs(pressure - prev_pressure) > 0.2:\n",
    "        prev_pressure = np.round(pressure, 1)\n",
    "        tac_slide.set_value(np.clip(prev_pressure, \n",
    "                                     min_tac_amplitude,\n",
    "                                     max_tac_amplitude))\n",
    "\n",
    "    print('                             ', end='\\r')\n",
    "        \n",
    "    \n",
    "    ser_tac.flush();\n",
    "    \n",
    "    ser_tac.readline();\n",
    "    \n",
    "    # time.sleep(0.05);"
   ]
  },
  {
   "cell_type": "code",
   "execution_count": null,
   "id": "68acbbbc",
   "metadata": {},
   "outputs": [],
   "source": [
    "min_distance = 60.0;\n",
    "max_distance = 240.0;\n",
    "\n",
    "min_stim_amplitude = 1.7;\n",
    "max_stim_amplitude = 4.5;\n",
    "stim_slide = slides[1];\n",
    "\n",
    "\n",
    "stim_slide.set_value(min_stim_amplitude)\n"
   ]
  },
  {
   "cell_type": "code",
   "execution_count": null,
   "id": "f4d93680",
   "metadata": {
    "tags": []
   },
   "outputs": [],
   "source": [
    "\n",
    "tac_slide.set_value(min_tac_amplitude)\n",
    "\n",
    "ser.flush();\n",
    "ser.readline();\n",
    "\n",
    "inarray = read_serial()\n",
    "print(f'{inarray} ', end='')\n",
    "markers[inarray.reshape(markers.shape)>=0] = inarray[inarray>=0]\n",
    "distance = np.linalg.norm(markers[1] - markers[0])\n",
    "prev_distance = distance;\n",
    "print(f'{distance:.3f}      ', end='\\r')\n",
    "\n",
    "\n",
    "ser_tac.flush();\n",
    "ser_tac.readline();\n",
    "\n",
    "pressure = (read_tac()/max_pressures)[target_tac]*(max_tac_amplitude - min_tac_amplitude) + min_tac_amplitude \n",
    "prev_pressure = pressure;\n",
    "print(f'{pressure:.3f}      ')\n",
    "\n",
    "while True:\n",
    "    inarray = read_tac()\n",
    "    if not (inarray is None):\n",
    "        # print('pressure')\n",
    "        pressure = (inarray/max_pressures)[target_tac]\n",
    "        pressure *= (max_tac_amplitude - min_tac_amplitude)\n",
    "        pressure += min_tac_amplitude\n",
    "        pressure = 0.5*pressure + 0.5*prev_pressure\n",
    "    \n",
    "    inarray = read_serial()\n",
    "    if not (inarray is None):\n",
    "        # print('optic')\n",
    "        markers[inarray.reshape(markers.shape)>=0] = inarray[inarray>=0]\n",
    "        distance -= distance\n",
    "        distance += np.linalg.norm(markers[1] - markers[0])\n",
    "        distance -= max_distance\n",
    "        distance /= (min_distance - max_distance)\n",
    "\n",
    "        distance *= (max_stim_amplitude - min_stim_amplitude)\n",
    "        distance += min_stim_amplitude\n",
    "\n",
    "        distance = 0.5*distance + 0.5*prev_distance\n",
    "\n",
    "    if np.abs(pressure - prev_pressure) > 0.2:\n",
    "        prev_pressure = np.round(pressure, 1)\n",
    "        tac_slide.set_value(np.clip(prev_pressure, \n",
    "                                     min_tac_amplitude,\n",
    "                                     max_tac_amplitude))\n",
    "        \n",
    "    if np.abs(distance - prev_distance) > 0.2:\n",
    "        prev_distance = np.round(distance,1)\n",
    "        stim_slide.set_value(np.clip(prev_distance, min_stim_amplitude, max_stim_amplitude))\n",
    "        \n",
    "    print(f'{prev_pressure:.03f} {prev_distance:.03f}', end = '\\r')\n",
    "        \n",
    "    ser_tac.flush(); ser_tac.readline();\n",
    "    \n",
    "    ser.flush(); ser.readline();"
   ]
  },
  {
   "cell_type": "markdown",
   "id": "cd6c18b8",
   "metadata": {},
   "source": [
    "# Proprioception"
   ]
  },
  {
   "cell_type": "code",
   "execution_count": 12,
   "id": "d447ebcb",
   "metadata": {},
   "outputs": [],
   "source": [
    "ser.close()"
   ]
  },
  {
   "cell_type": "code",
   "execution_count": 13,
   "id": "fbc9ff28",
   "metadata": {
    "tags": []
   },
   "outputs": [],
   "source": [
    "import serial\n",
    "import time\n",
    "import numpy as np\n",
    "\n",
    "ser = serial.Serial('COM8', 115200, timeout=0.05)\n",
    "\n",
    "markers = np.zeros((2,2), dtype='int')"
   ]
  },
  {
   "cell_type": "code",
   "execution_count": 14,
   "id": "36444837",
   "metadata": {
    "tags": []
   },
   "outputs": [],
   "source": [
    "def read_serial():\n",
    "    l = ser.read_until(b'\\r\\n')\n",
    "    if len(l)>0:\n",
    "        line = l.decode('UTF8')\n",
    "        if line[-1] == '-':\n",
    "            line = line[:-1]\n",
    "        # print(f'{time.time():.3f} - {l}             ', end='\\r')\n",
    "        # print(f'{l}               ', end='\\r')\n",
    "        inarray = np.array(list(filter(len, line.replace('\\r\\n', '').split(' ')))).astype(int)\n",
    "        if len(inarray) == 4:\n",
    "            return inarray\n",
    "        else:\n",
    "            return None\n",
    "    else:\n",
    "        return None\n",
    "    "
   ]
  },
  {
   "cell_type": "markdown",
   "id": "d43dcb04",
   "metadata": {},
   "source": [
    "## Monitoring"
   ]
  },
  {
   "cell_type": "code",
   "execution_count": 50,
   "id": "6395b08e",
   "metadata": {
    "tags": []
   },
   "outputs": [
    {
     "name": "stdout",
     "output_type": "stream",
     "text": [
      "[212  24 119 270] 262.992      ] 262.992      0] 262.992      [182  77 118 201] 139.542      \r"
     ]
    },
    {
     "ename": "KeyboardInterrupt",
     "evalue": "",
     "output_type": "error",
     "traceback": [
      "\u001b[1;31m---------------------------------------------------------------------------\u001b[0m",
      "\u001b[1;31mKeyboardInterrupt\u001b[0m                         Traceback (most recent call last)",
      "\u001b[1;32m~\\AppData\\Local\\Temp/ipykernel_8704/2772177990.py\u001b[0m in \u001b[0;36m<module>\u001b[1;34m\u001b[0m\n\u001b[0;32m     14\u001b[0m     \u001b[0mdistance\u001b[0m \u001b[1;33m=\u001b[0m \u001b[0mnp\u001b[0m\u001b[1;33m.\u001b[0m\u001b[0mlinalg\u001b[0m\u001b[1;33m.\u001b[0m\u001b[0mnorm\u001b[0m\u001b[1;33m(\u001b[0m\u001b[0mmarkers\u001b[0m\u001b[1;33m[\u001b[0m\u001b[1;36m1\u001b[0m\u001b[1;33m]\u001b[0m \u001b[1;33m-\u001b[0m \u001b[0mmarkers\u001b[0m\u001b[1;33m[\u001b[0m\u001b[1;36m0\u001b[0m\u001b[1;33m]\u001b[0m\u001b[1;33m)\u001b[0m\u001b[1;33m\u001b[0m\u001b[1;33m\u001b[0m\u001b[0m\n\u001b[0;32m     15\u001b[0m     \u001b[0mprint\u001b[0m\u001b[1;33m(\u001b[0m\u001b[1;34mf'{distance:.3f}      '\u001b[0m\u001b[1;33m,\u001b[0m \u001b[0mend\u001b[0m\u001b[1;33m=\u001b[0m\u001b[1;34m'\\r'\u001b[0m\u001b[1;33m)\u001b[0m\u001b[1;33m\u001b[0m\u001b[1;33m\u001b[0m\u001b[0m\n\u001b[1;32m---> 16\u001b[1;33m     \u001b[1;32mwhile\u001b[0m \u001b[1;33m(\u001b[0m\u001b[0mlen\u001b[0m\u001b[1;33m(\u001b[0m\u001b[0mser\u001b[0m\u001b[1;33m.\u001b[0m\u001b[0mreadline\u001b[0m\u001b[1;33m(\u001b[0m\u001b[1;33m)\u001b[0m\u001b[1;33m)\u001b[0m\u001b[1;33m)\u001b[0m\u001b[1;33m:\u001b[0m\u001b[1;33m\u001b[0m\u001b[1;33m\u001b[0m\u001b[0m\n\u001b[0m\u001b[0;32m     17\u001b[0m            \u001b[1;32mpass\u001b[0m\u001b[1;33m\u001b[0m\u001b[1;33m\u001b[0m\u001b[0m\n\u001b[0;32m     18\u001b[0m \u001b[1;33m\u001b[0m\u001b[0m\n",
      "\u001b[1;32m~\\Desktop\\python-3.10.0-embed-amd64\\lib\\site-packages\\serial\\serialwin32.py\u001b[0m in \u001b[0;36mread\u001b[1;34m(self, size)\u001b[0m\n\u001b[0;32m    278\u001b[0m                 \u001b[0mbuf\u001b[0m \u001b[1;33m=\u001b[0m \u001b[0mctypes\u001b[0m\u001b[1;33m.\u001b[0m\u001b[0mcreate_string_buffer\u001b[0m\u001b[1;33m(\u001b[0m\u001b[0mn\u001b[0m\u001b[1;33m)\u001b[0m\u001b[1;33m\u001b[0m\u001b[1;33m\u001b[0m\u001b[0m\n\u001b[0;32m    279\u001b[0m                 \u001b[0mrc\u001b[0m \u001b[1;33m=\u001b[0m \u001b[0mwin32\u001b[0m\u001b[1;33m.\u001b[0m\u001b[0mDWORD\u001b[0m\u001b[1;33m(\u001b[0m\u001b[1;33m)\u001b[0m\u001b[1;33m\u001b[0m\u001b[1;33m\u001b[0m\u001b[0m\n\u001b[1;32m--> 280\u001b[1;33m                 read_ok = win32.ReadFile(\n\u001b[0m\u001b[0;32m    281\u001b[0m                     \u001b[0mself\u001b[0m\u001b[1;33m.\u001b[0m\u001b[0m_port_handle\u001b[0m\u001b[1;33m,\u001b[0m\u001b[1;33m\u001b[0m\u001b[1;33m\u001b[0m\u001b[0m\n\u001b[0;32m    282\u001b[0m                     \u001b[0mbuf\u001b[0m\u001b[1;33m,\u001b[0m\u001b[1;33m\u001b[0m\u001b[1;33m\u001b[0m\u001b[0m\n",
      "\u001b[1;31mKeyboardInterrupt\u001b[0m: "
     ]
    }
   ],
   "source": [
    "ser.flush();\n",
    "ser.readline();\n",
    "\n",
    "while True:\n",
    "    inarray = read_serial()\n",
    "    \n",
    "    print(f'{inarray} ', end='')\n",
    "    if inarray is None:\n",
    "        continue\n",
    "        \n",
    "    markers[inarray.reshape(markers.shape)>=0] = inarray[inarray>=0]\n",
    "    # m2 = markers.copy()\n",
    "    # m2[-1] = 320 - 2*(320 - m2[-1])\n",
    "    distance = np.linalg.norm(markers[1] - markers[0])\n",
    "    print(f'{distance:.3f}      ', end='\\r')\n",
    "    while (len(ser.readline())):\n",
    "           pass\n",
    "    \n",
    "    # time.sleep(0.1);"
   ]
  },
  {
   "cell_type": "markdown",
   "id": "f557cada",
   "metadata": {},
   "source": [
    "## Executing "
   ]
  },
  {
   "cell_type": "code",
   "execution_count": 57,
   "id": "e8a2156f",
   "metadata": {},
   "outputs": [],
   "source": [
    "min_distance = 150.0;\n",
    "max_distance = 270.0;\n",
    "\n",
    "min_stim_amplitude = 1.5;\n",
    "max_stim_amplitude = 3.7;\n",
    "stim_slide = slides[1];\n",
    "\n",
    "stim_slide.set_value(0);\n"
   ]
  },
  {
   "cell_type": "code",
   "execution_count": null,
   "id": "437e1ea2",
   "metadata": {},
   "outputs": [
    {
     "name": "stdout",
     "output_type": "stream",
     "text": [
      "[ 57 205  -1  -1] - 59.506 5.430                                   264.864 1.497                                  3.667                                  160.627 3.403                                  263.577 1.759                                  264.864 1.747                                  1.747                                  263.928 1.756                                  161.003 3.399                                  177.710 3.046                                  3.046                                  228.600 2.579                                  263.928 1.706                                  265.801 1.688                                  253.160 1.804                                  263.928 1.756                                  177.341 2.999                                  1.756                                  160.627 3.403                                  1.756                                  160.627 3.353                                  263.928 1.706                                  138.192 3.808                                  138.192 3.808                                  264.864 1.747                                  160.462 3.354                                  264.864 1.747                                  160.078 3.358                                  3.099                                  138.192 3.758                                  137.295 3.766                                  179.011 2.984                                  179.011 2.984                                  264.864 1.747                                  263.928 1.756                                  1.759                                  264.864 1.747                                  265.452 1.742                                  1.697                                  1.697                                  159.700 3.361                                  263.577 1.759                                  264.515 1.750                                  264.864 1.747                                  264.864 1.747                                                                                                      262.886 1.715                                  1.868                                  1.868                                  5.586                                  5.497                                  5.497                                                                    47.297 5.591                                  5.964                                  62.650 5.451                                  52.326 5.545                                                                    5.629                                                                    59.615 5.429                                  5.417                                                                    5.413                                  5.824                                                                    5.613                                  6.120                                  5.503                                                                                                      70.214 5.281                                  5.281                                  5.330                                  5.549                                  5.476                                  5.818                                                                    5.821                                  5.765                                  5.660                                  5.317                                  5.359                                                                    5.409                                  5.342                                                                    54.708 5.424                                  5.421                                  5.424                                  5.795                                  5.581                                  5.506                                  54.818 5.523                                  5.520                                                                    5.549                                                                    44.922 5.663                                  5.593                                  5.534                                  57.697 5.546                                  57.245 5.450                                  5.450                                  \r"
     ]
    }
   ],
   "source": [
    "\n",
    "stim_slide.set_value(min_stim_amplitude)\n",
    "\n",
    "ser.flush();\n",
    "ser.readline();\n",
    "\n",
    "inarray = read_serial()\n",
    "print(f'{inarray} ', end='')\n",
    "markers[inarray.reshape(markers.shape)>=0] = inarray[inarray>=0]\n",
    "distance = np.linalg.norm(markers[1] - markers[0])\n",
    "prev_distance = 0;\n",
    "print(f'{distance:.3f}      ', end='\\r')\n",
    "\n",
    "while True:\n",
    "    inarray = read_serial()\n",
    "   \n",
    "    if inarray is None:\n",
    "        continue\n",
    "        \n",
    "    print(f'{inarray} ', end='- ')\n",
    "    \n",
    "    markers[inarray.reshape(markers.shape)>=0] = inarray[inarray>=0]\n",
    "    distance -= distance\n",
    "    distance += np.linalg.norm(markers[1] - markers[0])\n",
    "    print(f'{distance:.3f} ', end='')\n",
    "    \n",
    "    distance -= max_distance\n",
    "    distance /= (min_distance - max_distance)\n",
    "    \n",
    "    distance *= (max_stim_amplitude - min_stim_amplitude)\n",
    "    distance += min_stim_amplitude\n",
    "    \n",
    "    distance = 0.5*distance + 0.5*prev_distance\n",
    "    \n",
    "    print(f'{distance:.3f}', end= '                                  \\r')\n",
    "    \n",
    "    if np.abs(distance - prev_distance) > 0.2:\n",
    "        prev_distance = np.round(distance,1)\n",
    "        stim_slide.set_value(np.clip(prev_distance, min_stim_amplitude, max_stim_amplitude))\n",
    "        \n",
    "    while (len(ser.readline())):\n",
    "           pass\n",
    "    "
   ]
  },
  {
   "cell_type": "markdown",
   "id": "53d6d18d",
   "metadata": {
    "tags": []
   },
   "source": [
    "# Init ADB"
   ]
  },
  {
   "cell_type": "code",
   "execution_count": 96,
   "id": "64c977f9",
   "metadata": {},
   "outputs": [
    {
     "name": "stdout",
     "output_type": "stream",
     "text": [
      "List of devices attached\n",
      "0123456789ABCDEF\tdevice\n",
      "\n"
     ]
    }
   ],
   "source": [
    "!adb devices"
   ]
  },
  {
   "cell_type": "code",
   "execution_count": 97,
   "id": "28a36ccf",
   "metadata": {},
   "outputs": [
    {
     "name": "stdout",
     "output_type": "stream",
     "text": [
      "b'Physical size: 1536x2048\\r\\n'\n"
     ]
    },
    {
     "data": {
      "application/vnd.jupyter.widget-view+json": {
       "model_id": "1e56b43793dd4af58dea8dbc14ced4b8",
       "version_major": 2,
       "version_minor": 0
      },
      "text/html": [
       "\n",
       "            <div style=\"display: inline-block;\">\n",
       "                <div class=\"jupyter-widgets widget-label\" style=\"text-align: center;\">\n",
       "                    Figure\n",
       "                </div>\n",
       "                <img src='data:image/png;base64,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' width=640.0/>\n",
       "            </div>\n",
       "        "
      ],
      "text/plain": [
       "Canvas(toolbar=Toolbar(toolitems=[('Home', 'Reset original view', 'home', 'home'), ('Back', 'Back to previous …"
      ]
     },
     "metadata": {},
     "output_type": "display_data"
    }
   ],
   "source": [
    "import subprocess\n",
    "import math\n",
    "import numpy as np\n",
    "%matplotlib widget\n",
    "from matplotlib import pyplot as plt\n",
    "from matplotlib.path import Path\n",
    "\n",
    "cmd = r'adb shell wm size'\n",
    "\n",
    "p1=subprocess.Popen(cmd,shell=True,stdout=subprocess.PIPE)\n",
    "for line in p1.stdout:\n",
    "    print(line)\n",
    "    line = line.decode(encoding=\"utf-8\", errors=\"ignore\")\n",
    "    line = line.strip()\n",
    "    if 'Physical size' in line:\n",
    "        wm_size = (np.array(line.split(' ')[-1].split('\\r\\n')[0].split('x')).astype(int))\n",
    "        break\n",
    "        \n",
    "wm_center = (wm_size[0]//2, wm_size[1]//2)\n",
    "wm_size, wm_center\n",
    "\n",
    "\n",
    "def gen_mask(num_verts, figure_radius, figure_center, first_angle, wm_size):\n",
    "    \n",
    "\n",
    "    \n",
    "    angles = [[np.cos(theta), np.sin(theta)] \n",
    "              for theta in np.linspace(first_angle, \n",
    "                                       first_angle+2*np.pi, \n",
    "                                       num_verts+1)]\n",
    "\n",
    "    verts = np.array(angles)*figure_radius + figure_center\n",
    "\n",
    "    polygon=verts\n",
    "    poly_path=Path(polygon)\n",
    "\n",
    "    x, y = np.mgrid[:wm_size[0], :wm_size[1]]\n",
    "    coors=np.hstack((x.reshape(-1, 1), y.reshape(-1,1))) # coors.shape is (4000000,2)\n",
    "\n",
    "    mask = poly_path.contains_points(coors).reshape(wm_size[0], wm_size[1])\n",
    "    \n",
    "    return mask, verts\n",
    "\n",
    "figure_mask, verts = gen_mask(num_verts=4,\n",
    "                       figure_radius=500,\n",
    "                       figure_center=370, \n",
    "                       first_angle=np.pi/4,\n",
    "                       wm_size=wm_size)\n",
    "\n",
    "plt.figure()\n",
    "plt.imshow((figure_mask))\n",
    "plt.show()"
   ]
  },
  {
   "cell_type": "markdown",
   "id": "f37d17f5",
   "metadata": {
    "tags": []
   },
   "source": [
    "# Stimulate vertex"
   ]
  },
  {
   "cell_type": "code",
   "execution_count": null,
   "id": "62dd0840",
   "metadata": {
    "tags": []
   },
   "outputs": [],
   "source": [
    "%matplotlib inline\n",
    "\n",
    "num_verts=4\n",
    "figure_center=wm_center \n",
    "# first_angle= np.random.rand() * np.pi/2\n",
    "first_angle = np.pi/4\n",
    "wm_size=wm_size\n",
    "figure_radius = 500\n",
    "\n",
    "figure_mask, figure_verts = gen_mask(num_verts,\n",
    "                       figure_radius,\n",
    "                       figure_center,\n",
    "                       first_angle,\n",
    "                       wm_size)\n",
    "\n",
    "plt.figure()\n",
    "plt.imshow((figure_mask))\n",
    "plt.gca().invert_yaxis()"
   ]
  },
  {
   "cell_type": "code",
   "execution_count": null,
   "id": "98d8b6c7",
   "metadata": {},
   "outputs": [],
   "source": [
    "stim_amp = 5\n",
    "baseline_stim = 6\n",
    "sense_zone = figure_radius/2"
   ]
  },
  {
   "cell_type": "code",
   "execution_count": null,
   "id": "ef3dcf90",
   "metadata": {
    "tags": []
   },
   "outputs": [],
   "source": [
    "stim_slider = slides[1]\n",
    "stim_slider.set_value(0)\n",
    "\n",
    "try:\n",
    "    p1.kill()\n",
    "except Exception as e:\n",
    "    print(e)"
   ]
  },
  {
   "cell_type": "code",
   "execution_count": null,
   "id": "834b84e4",
   "metadata": {},
   "outputs": [],
   "source": []
  },
  {
   "cell_type": "code",
   "execution_count": null,
   "id": "b40f2458",
   "metadata": {},
   "outputs": [],
   "source": [
    "from datetime import datetime as dt\n",
    "import os\n",
    "import time\n",
    "import subprocess\n",
    "\n",
    "time_label = dt.now().strftime('%y-%m-%d_%H-%M-%S')\n",
    "\n",
    "plt.figure()\n",
    "plt.imshow((figure_mask))\n",
    "plt.gca().invert_yaxis()\n",
    "plt.savefig(os.path.join('session', time_label + '_figure_mask.png'), dpi=300)\n",
    "plt.show()\n",
    "session_log_filename = os.path.join('session', time_label + '_session.log')\n",
    "\n",
    "x,y = 0,0\n",
    "cmd = r'adb shell getevent -t /dev/input/event5'\n",
    "\n",
    "toggle = 0;\n",
    "toggle_prev = 0;\n",
    "p1=subprocess.Popen(cmd,shell=True, stdout=subprocess.PIPE)\n",
    "\n",
    "\n",
    "try:\n",
    "    with open(session_log_filename, 'w+') as f:\n",
    "        print('Started')\n",
    "\n",
    "        f.write('Mode = vertex stim')\n",
    "        f.write(f'''\n",
    "        verts = {num_verts} \n",
    "        radius = {figure_radius} \n",
    "        center = {figure_center} \n",
    "        first_angle = {first_angle} \n",
    "        wm_size = {wm_size} \n",
    "        stim_amp = {stim_amp} \n",
    "        baseline_stim = {baseline_stim}\n",
    "        sense_zone = {sense_zone}\n",
    "        ===============================\\n''')\n",
    "        while (True):\n",
    "\n",
    "            l = p1.stdout.readline()\n",
    "\n",
    "\n",
    "            line = l.decode(encoding=\"utf-8\", errors=\"ignore\").strip()\n",
    "\n",
    "            if ' 0036 ' in line:\n",
    "                e = line.split(\" \")\n",
    "                x = e[-1]\n",
    "                x = int(x, 16)\n",
    "\n",
    "            if  ' 0035 ' in line:\n",
    "                e = line.split(\" \")\n",
    "                y = e[-1]\n",
    "                y = int(y, 16)\n",
    "                # print(y)\n",
    "                if (y > 0) & (x>0):\n",
    "                    p = (x, y)    \n",
    "                    x_phys = int(np.round(x/1536*2048))\n",
    "                    y_phys = int(np.round(y/2048*1536))\n",
    "\n",
    "                    closest_vertex_rho = np.linalg.norm(figure_verts - np.array([x,y]), axis=1).min()\n",
    "                    toggle = np.clip(1 - closest_vertex_rho/sense_zone, 0, 1)\n",
    "\n",
    "                    print(f'{x:04d}, {y:04d} {toggle:04f}', line, end='\\r')\n",
    "                    f.write(str(dt.now()) + ' ' + str(toggle) + ' ' + str(line) + '\\n')\n",
    "\n",
    "                    stim_slider.set_value(toggle*stim_amp+baseline_stim)\n",
    "                    time.sleep(0.05)\n",
    "                    while p1.stdout.tell() < -80:\n",
    "                        p1.stdout.readline()\n",
    "                        p1.stdout.flush()\n",
    "except Exception as e:\n",
    "    p1.kill()\n",
    "    print(e)\n",
    "                \n",
    "\"DONE\""
   ]
  },
  {
   "cell_type": "code",
   "execution_count": null,
   "id": "09cfec1d",
   "metadata": {},
   "outputs": [],
   "source": []
  },
  {
   "cell_type": "markdown",
   "id": "ef5b4304",
   "metadata": {
    "tags": []
   },
   "source": [
    "# Stimulate field"
   ]
  },
  {
   "cell_type": "code",
   "execution_count": 231,
   "id": "5122c9f7",
   "metadata": {},
   "outputs": [
    {
     "data": {
      "image/png": "[encoded data removed]",
      "text/plain": [
       "<Figure size 432x288 with 1 Axes>"
      ]
     },
     "metadata": {
      "needs_background": "light"
     },
     "output_type": "display_data"
    }
   ],
   "source": [
    "%matplotlib inline\n",
    "num_verts=np.random.choice([4,5,22])\n",
    "figure_radius=550\n",
    "figure_center=wm_center \n",
    "first_angle= np.random.rand() * np.pi\n",
    "# first_angle = np.pi/4\n",
    "wm_size=wm_size\n",
    "\n",
    "figure_mask, figure_verts = gen_mask(num_verts,\n",
    "                       figure_radius,\n",
    "                       figure_center,\n",
    "                       first_angle,\n",
    "                       wm_size)\n",
    "\n",
    "plt.figure()\n",
    "plt.imshow((figure_mask))\n",
    "plt.gca().invert_yaxis()"
   ]
  },
  {
   "cell_type": "code",
   "execution_count": 236,
   "id": "270d1fd8",
   "metadata": {},
   "outputs": [
    {
     "name": "stdout",
     "output_type": "stream",
     "text": [
      "B 2 0.8999999999999999\n"
     ]
    }
   ],
   "source": [
    "# каклй стимудтор\n",
    "current_stim_group = np.random.choice([0,1])\n",
    "# 0 - a 1 - b \n",
    "peak_amp      = [ 4, 2.9][current_stim_group]\n",
    "baseline_stim = [ 2 , 2 ][current_stim_group]\n",
    "stim_amp      = peak_amp - baseline_stim\n",
    "print(['A', 'B'][current_stim_group], baseline_stim, stim_amp)"
   ]
  },
  {
   "cell_type": "code",
   "execution_count": 237,
   "id": "abf479b6",
   "metadata": {
    "tags": []
   },
   "outputs": [],
   "source": [
    "#current_stim_group=0;\n",
    "#peak_amp=8.5\n",
    "#baseline_stim = 5\n",
    "#stim_amp=peak_amp-baseline_stim"
   ]
  },
  {
   "cell_type": "code",
   "execution_count": 238,
   "id": "1f5c80b9",
   "metadata": {
    "tags": []
   },
   "outputs": [
    {
     "name": "stdout",
     "output_type": "stream",
     "text": [
      "21-12-06_20-00-34\n"
     ]
    },
    {
     "data": {
      "image/png": "[encoded data removed]",
      "text/plain": [
       "<Figure size 432x288 with 1 Axes>"
      ]
     },
     "metadata": {
      "needs_background": "light"
     },
     "output_type": "display_data"
    },
    {
     "name": "stdout",
     "output_type": "stream",
     "text": [
      "sss\n",
      "0273, 0237 False [   38988.966687] 0003 0035 000000ed\r"
     ]
    }
   ],
   "source": [
    "for i in range(2):\n",
    "    slides[i].set_value(0)\n",
    "                    \n",
    "\n",
    "from datetime import datetime as dt\n",
    "import os\n",
    "import subprocess\n",
    "\n",
    "time_label = dt.now().strftime('%y-%m-%d_%H-%M-%S')\n",
    "print(time_label)\n",
    "\n",
    "plt.figure()\n",
    "plt.imshow((figure_mask))\n",
    "plt.gca().invert_yaxis()\n",
    "plt.savefig(os.path.join('session', time_label + '_figure_mask.png'), dpi=300)\n",
    "plt.show()\n",
    "session_log_filename = os.path.join('session', time_label + '_session.log')\n",
    "\n",
    "x, y = 0, 0\n",
    "cmd = r'adb shell getevent -t /dev/input/event5'\n",
    "\n",
    "toggle = 0;\n",
    "toggle_prev = 0;\n",
    "p1=subprocess.Popen(cmd,shell=True,stdout=subprocess.PIPE)\n",
    "\n",
    "print('sss')\n",
    "\n",
    "with open(session_log_filename, 'w+') as f:\n",
    "    f.write('Mode = area stim')\n",
    "    f.write(f'''\n",
    "    verts = {num_verts} \n",
    "    radius = {figure_radius} \n",
    "    center = {figure_center} \n",
    "    first_angle = {first_angle} \n",
    "    wm_size = {wm_size} \n",
    "    stim_amp = {stim_amp} \n",
    "    baseline_stim = {baseline_stim}\n",
    "    current_stim_group = {current_stim_group}\n",
    "    sense_zone = {0}\n",
    "    ===============================\\n''')\n",
    "    for l in p1.stdout:\n",
    "        line = l.decode(encoding=\"utf-8\", errors=\"ignore\").strip()\n",
    "\n",
    "        if ' 0036 ' in line:\n",
    "            e = line.split(\" \")\n",
    "            x = e[-1]\n",
    "            x = int(x, 16)\n",
    "\n",
    "        if  ' 0035 ' in line:\n",
    "            e = line.split(\" \")\n",
    "            y = e[-1]\n",
    "            y = int(y, 16)\n",
    "            # print(y)\n",
    "            if (y > 0) & (x>0):\n",
    "                p = (x, y)    \n",
    "                x_phys = int(np.round(x/1536*2048))\n",
    "                y_phys = int(np.round(y/2048*1536))\n",
    "                \n",
    "                toggle = figure_mask[y_phys, x_phys]\n",
    "                \n",
    "                print(f'{x:04d}, {y:04d} {toggle}', line, end='\\r')\n",
    "                f.write(str(dt.now()) + ' ' + str(toggle) + ' ' + str(line) + '\\n')\n",
    "    \n",
    "                if toggle!=toggle_prev:\n",
    "                    # print(str(toggle)+'   '+str(x)+'     '+str(y), end='\\r');\n",
    "                    toggle_prev = toggle\n",
    "                    slides[current_stim_group].set_value(toggle*stim_amp+baseline_stim)\n",
    "                    while p1.stdout.tell() < -200:\n",
    "                        p1.stdout.readline()\n",
    "                "
   ]
  },
  {
   "cell_type": "code",
   "execution_count": null,
   "id": "0320d1e8",
   "metadata": {},
   "outputs": [],
   "source": [
    "import ipywidgets as w\n",
    "\n",
    "def func(x):\n",
    "    slides[1].set_value(x)\n",
    "    return x\n",
    "\n",
    "w.interact(func,\n",
    "           x=w.FloatSlider(0, min=0, max=7.0, step=0.1))"
   ]
  },
  {
   "cell_type": "code",
   "execution_count": null,
   "id": "8cfc949c",
   "metadata": {
    "tags": []
   },
   "outputs": [],
   "source": [
    "for i in list(range(30)) + list(range(30,-1,-1)):\n",
    "    print(i/10)\n",
    "    #slides[1].set_value(i/10)"
   ]
  },
  {
   "cell_type": "code",
   "execution_count": null,
   "id": "558ae916",
   "metadata": {},
   "outputs": [],
   "source": [
    "slides[1].set_value(3)"
   ]
  },
  {
   "cell_type": "code",
   "execution_count": null,
   "id": "b45e1e8d",
   "metadata": {},
   "outputs": [],
   "source": [
    "i=5"
   ]
  },
  {
   "cell_type": "code",
   "execution_count": null,
   "id": "43c1e138",
   "metadata": {},
   "outputs": [],
   "source": [
    "i=i+1\n",
    "slides[1].set_value(i/10)"
   ]
  },
  {
   "cell_type": "code",
   "execution_count": null,
   "id": "dc6f783c",
   "metadata": {},
   "outputs": [],
   "source": [
    "985     8345 - 0\n"
   ]
  },
  {
   "cell_type": "code",
   "execution_count": null,
   "id": "84ae0a0b",
   "metadata": {},
   "outputs": [],
   "source": [
    "2048 1\n",
    "2048 1484\n",
    "00 1508"
   ]
  },
  {
   "cell_type": "code",
   "execution_count": null,
   "id": "cd0b504c",
   "metadata": {},
   "outputs": [],
   "source": [
    "e"
   ]
  },
  {
   "cell_type": "code",
   "execution_count": null,
   "id": "33e7edfd",
   "metadata": {
    "tags": []
   },
   "outputs": [],
   "source": [
    "\n",
    "    \n",
    "def square_audio(center=center):\n",
    "    cmd = r'adb shell getevent'\n",
    "    w = 0\n",
    "    h = 0\n",
    "    play_obj=None\n",
    "    lower_width=center[0]-200\n",
    "    higher_width=center[0]+200\n",
    "\n",
    "    lower_heigth=center[1]-200\n",
    "    higher_heigth=center[1]+200\n",
    "    \n",
    "    try:\n",
    "        p1=subprocess.Popen(cmd,shell=True,stdout=subprocess.PIPE)\n",
    "        for line in p1.stdout:\n",
    "            line = line.decode(encoding=\"utf-8\", errors=\"ignore\")\n",
    "            line = line.strip()\n",
    "            print(line);\n",
    "            if ' 0035 ' in line:\n",
    "                e = line.split(\" \")\n",
    "                w = e[3]\n",
    "                w = int(w, 16)\n",
    "                \n",
    "            if  ' 0036 ' in line:\n",
    "                e = line.split(\" \")\n",
    "                h = e[3]\n",
    "                h = int(h, 16)\n",
    "                if h > 0:\n",
    "                    p = (w, h)                   \n",
    "                    print(p) \n",
    "                    if (w> lower_width and w< higher_width) and  (h> lower_heigth and h< higher_heigth):\n",
    "                        \n",
    "                        print('stim')\n",
    "                    else:\n",
    "                        print('Nostim')\n",
    "\n",
    "                        \n",
    "        p1.wait()\n",
    "        \n",
    "    except Exception as e:\n",
    "        print(e)\n",
    "        \n",
    "\n",
    "\n"
   ]
  },
  {
   "cell_type": "code",
   "execution_count": null,
   "id": "a6f6c262",
   "metadata": {},
   "outputs": [],
   "source": [
    "a=square_audio()"
   ]
  },
  {
   "cell_type": "code",
   "execution_count": null,
   "id": "3c9b8b13",
   "metadata": {},
   "outputs": [],
   "source": [
    "def square_electro(center=center):\n",
    "    cmd = r'adb shell getevent'\n",
    "    w = 0\n",
    "    h = 0\n",
    "    play_obj=None\n",
    "    toggle=0\n",
    "    toggle_prev=0\n",
    "    lower_width=center[0]-200\n",
    "    higher_width=center[0]+200\n",
    "\n",
    "    lower_heigth=center[1]-200\n",
    "    higher_heigth=center[1]+200\n",
    "    try:\n",
    "        p1=subprocess.Popen(cmd,shell=True,stdout=subprocess.PIPE)\n",
    "        for line in p1.stdout:\n",
    "            line = line.decode(encoding=\"utf-8\", errors=\"ignore\")\n",
    "            line = line.strip()\n",
    "            if ' 0035 ' in line:\n",
    "                e = line.split(\" \")\n",
    "                w = e[3]\n",
    "                w = int(w, 16)\n",
    "                \n",
    "            if  ' 0036 ' in line:\n",
    "                e = line.split(\" \")\n",
    "                h = e[3]\n",
    "                h = int(h, 16)\n",
    "                if h > 0:\n",
    "                    p = (w, h)                   \n",
    "                    print(p) \n",
    "                    if (w> lower_width and w< higher_width) and  (h> lower_heigth and h< higher_heigth): \n",
    "                        toggle=1\n",
    "                        #apply_stim(1,5,0)\n",
    "                        #apply_stim(0,25,10)\n",
    "                        FG=1\n",
    "                    else:\n",
    "                        toggle=0\n",
    "                        \n",
    "                    \n",
    "                    if toggle>toggle_prev:\n",
    "                        apply_stim(1,6000,0)\n",
    "                        toggle_prev=toggle\n",
    "                        print('switch on')\n",
    "                        value = write_read(1)\n",
    "                        \n",
    "                    elif toggle<toggle_prev:\n",
    "                        arduino.send_break()\n",
    "                        toggle_prev=toggle\n",
    "                        print('switch off')\n",
    "                        value = write_read(0)\n",
    "\n",
    "                        \n",
    "        p1.wait()\n",
    "        \n",
    "    except Exception as e:\n",
    "        print(e)\n",
    "        \n",
    "\n",
    "\n"
   ]
  },
  {
   "cell_type": "code",
   "execution_count": null,
   "id": "c4389515",
   "metadata": {},
   "outputs": [],
   "source": []
  },
  {
   "cell_type": "markdown",
   "id": "154c4e79",
   "metadata": {},
   "source": [
    "# Круг"
   ]
  },
  {
   "cell_type": "code",
   "execution_count": null,
   "id": "22f9873c",
   "metadata": {},
   "outputs": [],
   "source": [
    "radius=200\n",
    "center = (1080/2, 1920/2)"
   ]
  },
  {
   "cell_type": "code",
   "execution_count": null,
   "id": "5f3967e3",
   "metadata": {},
   "outputs": [],
   "source": []
  },
  {
   "cell_type": "code",
   "execution_count": null,
   "id": "6c936cda",
   "metadata": {},
   "outputs": [],
   "source": [
    "\n",
    "    \n",
    "def circle_audio(center=center,radius=radius):\n",
    "    cmd = r'adb shell getevent'\n",
    "    w = 0\n",
    "    h = 0\n",
    "    play_obj=None\n",
    "    \n",
    "    try:\n",
    "        p1=subprocess.Popen(cmd,shell=True,stdout=subprocess.PIPE)\n",
    "        for line in p1.stdout:\n",
    "            line = line.decode(encoding=\"utf-8\", errors=\"ignore\")\n",
    "            line = line.strip()\n",
    "            if ' 0035 ' in line:\n",
    "                e = line.split(\" \")\n",
    "                w = e[3]\n",
    "                w = int(w, 16)\n",
    "                \n",
    "            if  ' 0036 ' in line:\n",
    "                e = line.split(\" \")\n",
    "                h = e[3]\n",
    "                h = int(h, 16)\n",
    "                if h > 0:\n",
    "                    p = (w, h)                   \n",
    "                    print(p) \n",
    "                    if np.sum((np.array(p) - np.array(center))**2) < radius**2:\n",
    "                        \n",
    "                        if play_obj is None:\n",
    "                            play_obj =sa.play_buffer(audio, 1, 2, fs)\n",
    "                        elif  not play_obj.is_playing():\n",
    "                            play_obj =sa.play_buffer(audio, 1, 2, fs)\n",
    "                            \n",
    "                    else:\n",
    "                        sa.stop_all()\n",
    "\n",
    "                        \n",
    "        p1.wait()\n",
    "        \n",
    "    except Exception as e:\n",
    "        print(e)\n",
    "        \n",
    "\n",
    "\n"
   ]
  },
  {
   "cell_type": "code",
   "execution_count": null,
   "id": "336e5d4a",
   "metadata": {},
   "outputs": [],
   "source": []
  },
  {
   "cell_type": "code",
   "execution_count": null,
   "id": "bacbf025",
   "metadata": {},
   "outputs": [],
   "source": [
    "def circle_electro(center=center,radius=radius):\n",
    "    cmd = r'adb shell getevent'\n",
    "    w = 0\n",
    "    h = 0\n",
    "    play_obj=None\n",
    "    \n",
    "    \n",
    "    try:\n",
    "        p1=subprocess.Popen(cmd,shell=True,stdout=subprocess.PIPE)\n",
    "        for line in p1.stdout:\n",
    "            line = line.decode(encoding=\"utf-8\", errors=\"ignore\")\n",
    "            line = line.strip()\n",
    "            if ' 0035 ' in line:\n",
    "                e = line.split(\" \")\n",
    "                w = e[3]\n",
    "                w = int(w, 16)\n",
    "                \n",
    "            if  ' 0036 ' in line:\n",
    "                e = line.split(\" \")\n",
    "                h = e[3]\n",
    "                h = int(h, 16)\n",
    "                if h > 0:\n",
    "                    p = (w, h)                   \n",
    "                    print(p) \n",
    "                    if np.sum((np.array(p) - np.array(center))**2) < radius**2:\n",
    "                        #apply_stim(1,25,1)\n",
    "                        A=1\n",
    "                    else:\n",
    "                        arduino.send_break()\n",
    "                        A=1\n",
    "\n",
    "                        \n",
    "        p1.wait()\n",
    "        \n",
    "    except Exception as e:\n",
    "        print(e)\n",
    "        \n",
    "\n",
    "\n"
   ]
  },
  {
   "cell_type": "code",
   "execution_count": null,
   "id": "63bf2a02",
   "metadata": {},
   "outputs": [],
   "source": [
    "def circle_electro(center=center,radius=radius):\n",
    "    cmd = r'adb shell getevent'\n",
    "    w = 0\n",
    "    h = 0\n",
    "    play_obj=None\n",
    "    toggle=0\n",
    "    toggle_prev=0\n",
    "    \n",
    "    try:\n",
    "        p1=subprocess.Popen(cmd,shell=True,stdout=subprocess.PIPE)\n",
    "        for line in p1.stdout:\n",
    "            line = line.decode(encoding=\"utf-8\", errors=\"ignore\")\n",
    "            line = line.strip()\n",
    "            if ' 0035 ' in line:\n",
    "                e = line.split(\" \")\n",
    "                w = e[3]\n",
    "                w = int(w, 16)\n",
    "                \n",
    "            if  ' 0036 ' in line:\n",
    "                e = line.split(\" \")\n",
    "                h = e[3]\n",
    "                h = int(h, 16)\n",
    "                if h > 0:\n",
    "                    p = (w, h)                   \n",
    "                    print(p) \n",
    "                    if np.sum((np.array(p) - np.array(center))**2) < radius**2:\n",
    "                        toggle=1\n",
    "                    else:\n",
    "                        toggle=0\n",
    "                        \n",
    "                    if toggle>toggle_prev:\n",
    "                        toggle_prev=toggle\n",
    "                        print('switch on')\n",
    "                        value = write_read(1)\n",
    "                        \n",
    "                    elif toggle<toggle_prev:\n",
    "                        arduino.send_break()\n",
    "                        toggle_prev=toggle\n",
    "                        print('switch off')\n",
    "                        value = write_read(0)\n",
    "\n",
    "                        \n",
    "        p1.wait()\n",
    "        \n",
    "    except Exception as e:\n",
    "        print(e)\n",
    "        \n",
    "\n",
    "\n"
   ]
  },
  {
   "cell_type": "code",
   "execution_count": null,
   "id": "3ca6e507",
   "metadata": {},
   "outputs": [],
   "source": []
  },
  {
   "cell_type": "code",
   "execution_count": null,
   "id": "90fe597d",
   "metadata": {},
   "outputs": [],
   "source": [
    "i=0\n",
    "seqs=[[1,654,1309],\n",
    "[0,623,1172],\n",
    "[0,643,1199],\n",
    "[0,573,1103],\n",
    "[1,681,1104],\n",
    "[1,603,1405],\n",
    "[1,592,1141],\n",
    "[0,643,1258],\n",
    "[0,651,1101],\n",
    "[0,660,987],\n",
    "[1,672,1070],\n",
    "[0,646,1289],\n",
    "[0,595,988],\n",
    "[0,669,1419],\n",
    "[0,572,1488],\n",
    "[1,573,1232],\n",
    "[1,659,1095],\n",
    "[0,623,1388],\n",
    "[1,638,1008],\n",
    "[1,675,1261],\n",
    "[0,643,1167],\n",
    "[0,587,1142],\n",
    "[1,690,1104],\n",
    "[0,681,1268],\n",
    "[1,649,1353],\n",
    "[1,616,1001],\n",
    "[0,599,1044],\n",
    "[1,646,1431],\n",
    "[0,634,1424],\n",
    "[0,597,1459],\n",
    "[1,661,987],\n",
    "[0,563,1226],\n",
    "[1,604,1195],\n",
    "[0,675,1061],\n",
    "[1,686,1339],\n",
    "[1,560,1356],\n",
    "[1,664,1285],\n",
    "[0,663,1473],\n",
    "[1,620,1423],\n",
    "[1,622,1540]]"
   ]
  },
  {
   "cell_type": "code",
   "execution_count": null,
   "id": "7e19760c",
   "metadata": {},
   "outputs": [],
   "source": [
    "\n",
    "i=13\n",
    "print(i)\n",
    "trial=seqs[i]\n",
    "trial_code=trial[0]\n",
    "print(trial)\n",
    "center=trial[1:]\n",
    "    "
   ]
  },
  {
   "cell_type": "code",
   "execution_count": null,
   "id": "7e9c5d20",
   "metadata": {},
   "outputs": [],
   "source": [
    "center"
   ]
  },
  {
   "cell_type": "code",
   "execution_count": null,
   "id": "8db626e5",
   "metadata": {},
   "outputs": [],
   "source": []
  },
  {
   "cell_type": "code",
   "execution_count": null,
   "id": "3600a6c2",
   "metadata": {},
   "outputs": [],
   "source": [
    "circle_electro(center)"
   ]
  },
  {
   "cell_type": "code",
   "execution_count": null,
   "id": "63998f3c",
   "metadata": {},
   "outputs": [],
   "source": []
  },
  {
   "cell_type": "code",
   "execution_count": null,
   "id": "4a671c79",
   "metadata": {},
   "outputs": [],
   "source": [
    "if trial_code==0:\n",
    "    print(trial_code)\n",
    "    circle_audio(center)\n",
    "else:\n",
    "    square_audio(center)"
   ]
  },
  {
   "cell_type": "code",
   "execution_count": null,
   "id": "376951ba",
   "metadata": {},
   "outputs": [],
   "source": [
    "if trial_code==0:\n",
    "    print(trial_code)\n",
    "    circle_electro(center)\n",
    "else:\n",
    "    square_electro(center)"
   ]
  },
  {
   "cell_type": "code",
   "execution_count": null,
   "id": "b6f1e820",
   "metadata": {},
   "outputs": [],
   "source": [
    "1 +\n",
    "2 +\n",
    "3 +\n",
    "4 +\n",
    "5 +\n",
    "6 +\n",
    "7 +\n",
    "8 +\n",
    "\n",
    "\n",
    "9 тест\n",
    "10 +\n",
    "11 +\n",
    "12 +"
   ]
  }
 ],
 "metadata": {
  "kernelspec": {
   "display_name": "Python 3 (ipykernel)",
   "language": "python",
   "name": "python3"
  },
  "language_info": {
   "codemirror_mode": {
    "name": "ipython",
    "version": 3
   },
   "file_extension": ".py",
   "mimetype": "text/x-python",
   "name": "python",
   "nbconvert_exporter": "python",
   "pygments_lexer": "ipython3",
   "version": "3.10.0"
  }
 },
 "nbformat": 4,
 "nbformat_minor": 5
}
