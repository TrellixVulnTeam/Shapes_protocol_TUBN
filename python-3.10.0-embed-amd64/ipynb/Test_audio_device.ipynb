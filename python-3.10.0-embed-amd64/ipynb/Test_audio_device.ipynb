{
 "cells": [
  {
   "cell_type": "code",
   "execution_count": 9,
   "id": "0622af70-115f-486e-8787-7b90b99e274b",
   "metadata": {},
   "outputs": [
    {
     "name": "stdout",
     "output_type": "stream",
     "text": [
      "Collecting pygame\n",
      "  Downloading pygame-2.1.2-cp310-cp310-win_amd64.whl (8.4 MB)\n",
      "Installing collected packages: pygame\n",
      "Successfully installed pygame-2.1.2\n",
      "Note: you may need to restart the kernel to use updated packages.\n"
     ]
    },
    {
     "name": "stderr",
     "output_type": "stream",
     "text": [
      "WARNING: You are using pip version 21.3.1; however, version 22.0.4 is available.\n",
      "You should consider upgrading via the 'C:\\Users\\CBI\\Desktop\\Noninvasive\\Shapes_protocol\\python-3.10.0-embed-amd64\\python.exe -m pip install --upgrade pip' command.\n"
     ]
    }
   ],
   "source": [
    "pip install pygame"
   ]
  },
  {
   "cell_type": "code",
   "execution_count": 10,
   "id": "3c9759a6-00e4-4ac9-bf91-e151173953a9",
   "metadata": {},
   "outputs": [
    {
     "name": "stdout",
     "output_type": "stream",
     "text": [
      "pygame 2.1.2 (SDL 2.0.18, Python 3.10.0)\n",
      "Hello from the pygame community. https://www.pygame.org/contribute.html\n"
     ]
    }
   ],
   "source": [
    "from pygame import mixer  # Load the popular external library\n",
    "\n",
    "mixer.init()\n",
    "mixer.music.load(\"Kalimba.mp3\")\n"
   ]
  },
  {
   "cell_type": "code",
   "execution_count": 14,
   "id": "79b9f89b-33cb-47aa-a4a4-326aa31015a5",
   "metadata": {},
   "outputs": [],
   "source": [
    "mixer.music.play()"
   ]
  },
  {
   "cell_type": "code",
   "execution_count": 15,
   "id": "52321ec5-3a0f-49c7-b2df-c512cd16403d",
   "metadata": {},
   "outputs": [],
   "source": [
    "mixer.music.stop()"
   ]
  },
  {
   "cell_type": "code",
   "execution_count": 24,
   "id": "3ecd0ae9-3978-40a8-85cd-4c5dad299127",
   "metadata": {
    "collapsed": true,
    "jupyter": {
     "outputs_hidden": true
    },
    "tags": []
   },
   "outputs": [
    {
     "name": "stdout",
     "output_type": "stream",
     "text": [
      "Collecting simpleaudio\n",
      "  Using cached simpleaudio-1.0.4.tar.gz (2.0 MB)\n",
      "  Preparing metadata (setup.py): started\n",
      "  Preparing metadata (setup.py): finished with status 'done'\n",
      "Building wheels for collected packages: simpleaudio\n",
      "  Building wheel for simpleaudio (setup.py): started\n",
      "  Building wheel for simpleaudio (setup.py): finished with status 'error'\n",
      "  Running setup.py clean for simpleaudio\n",
      "Failed to build simpleaudio\n",
      "Installing collected packages: simpleaudio\n",
      "    Running setup.py install for simpleaudio: started\n",
      "    Running setup.py install for simpleaudio: finished with status 'error'\n",
      "Note: you may need to restart the kernel to use updated packages.\n"
     ]
    },
    {
     "name": "stderr",
     "output_type": "stream",
     "text": [
      "  ERROR: Command errored out with exit status 1:\n",
      "   command: 'C:\\Users\\CBI\\Desktop\\Noninvasive\\Shapes_protocol\\python-3.10.0-embed-amd64\\python.exe' -u -c 'import io, os, sys, setuptools, tokenize; sys.argv[0] = '\"'\"'C:\\\\Users\\\\CBI\\\\AppData\\\\Local\\\\Temp\\\\pip-install-v4ykpf5z\\\\simpleaudio_bafc25d622954958918a85207488a26f\\\\setup.py'\"'\"'; __file__='\"'\"'C:\\\\Users\\\\CBI\\\\AppData\\\\Local\\\\Temp\\\\pip-install-v4ykpf5z\\\\simpleaudio_bafc25d622954958918a85207488a26f\\\\setup.py'\"'\"';f = getattr(tokenize, '\"'\"'open'\"'\"', open)(__file__) if os.path.exists(__file__) else io.StringIO('\"'\"'from setuptools import setup; setup()'\"'\"');code = f.read().replace('\"'\"'\\r\\n'\"'\"', '\"'\"'\\n'\"'\"');f.close();exec(compile(code, __file__, '\"'\"'exec'\"'\"'))' bdist_wheel -d 'C:\\Users\\CBI\\AppData\\Local\\Temp\\pip-wheel-o39z7ri1'\n",
      "       cwd: C:\\Users\\CBI\\AppData\\Local\\Temp\\pip-install-v4ykpf5z\\simpleaudio_bafc25d622954958918a85207488a26f\\\n",
      "  Complete output (18 lines):\n",
      "  running bdist_wheel\n",
      "  running build\n",
      "  running build_py\n",
      "  creating build\n",
      "  creating build\\lib.win-amd64-3.10\n",
      "  creating build\\lib.win-amd64-3.10\\simpleaudio\n",
      "  copying simpleaudio\\__init__.py -> build\\lib.win-amd64-3.10\\simpleaudio\n",
      "  copying simpleaudio\\shiny.py -> build\\lib.win-amd64-3.10\\simpleaudio\n",
      "  copying simpleaudio\\functionchecks.py -> build\\lib.win-amd64-3.10\\simpleaudio\n",
      "  creating build\\lib.win-amd64-3.10\\simpleaudio\\test_audio\n",
      "  copying simpleaudio\\test_audio\\c.wav -> build\\lib.win-amd64-3.10\\simpleaudio\\test_audio\n",
      "  copying simpleaudio\\test_audio\\e.wav -> build\\lib.win-amd64-3.10\\simpleaudio\\test_audio\n",
      "  copying simpleaudio\\test_audio\\g.wav -> build\\lib.win-amd64-3.10\\simpleaudio\\test_audio\n",
      "  copying simpleaudio\\test_audio\\left_right.wav -> build\\lib.win-amd64-3.10\\simpleaudio\\test_audio\n",
      "  copying simpleaudio\\test_audio\\notes_2_16_44.wav -> build\\lib.win-amd64-3.10\\simpleaudio\\test_audio\n",
      "  running build_ext\n",
      "  building 'simpleaudio._simpleaudio' extension\n",
      "  error: Microsoft Visual C++ 14.0 or greater is required. Get it with \"Microsoft C++ Build Tools\": https://visualstudio.microsoft.com/visual-cpp-build-tools/\n",
      "  ----------------------------------------\n",
      "  ERROR: Failed building wheel for simpleaudio\n",
      "    ERROR: Command errored out with exit status 1:\n",
      "     command: 'C:\\Users\\CBI\\Desktop\\Noninvasive\\Shapes_protocol\\python-3.10.0-embed-amd64\\python.exe' -u -c 'import io, os, sys, setuptools, tokenize; sys.argv[0] = '\"'\"'C:\\\\Users\\\\CBI\\\\AppData\\\\Local\\\\Temp\\\\pip-install-v4ykpf5z\\\\simpleaudio_bafc25d622954958918a85207488a26f\\\\setup.py'\"'\"'; __file__='\"'\"'C:\\\\Users\\\\CBI\\\\AppData\\\\Local\\\\Temp\\\\pip-install-v4ykpf5z\\\\simpleaudio_bafc25d622954958918a85207488a26f\\\\setup.py'\"'\"';f = getattr(tokenize, '\"'\"'open'\"'\"', open)(__file__) if os.path.exists(__file__) else io.StringIO('\"'\"'from setuptools import setup; setup()'\"'\"');code = f.read().replace('\"'\"'\\r\\n'\"'\"', '\"'\"'\\n'\"'\"');f.close();exec(compile(code, __file__, '\"'\"'exec'\"'\"'))' install --record 'C:\\Users\\CBI\\AppData\\Local\\Temp\\pip-record-tfx7f10_\\install-record.txt' --single-version-externally-managed --compile --install-headers 'C:\\Users\\CBI\\Desktop\\Noninvasive\\Shapes_protocol\\python-3.10.0-embed-amd64\\Include\\simpleaudio'\n",
      "         cwd: C:\\Users\\CBI\\AppData\\Local\\Temp\\pip-install-v4ykpf5z\\simpleaudio_bafc25d622954958918a85207488a26f\\\n",
      "    Complete output (20 lines):\n",
      "    running install\n",
      "    C:\\Users\\CBI\\Desktop\\Noninvasive\\Shapes_protocol\\python-3.10.0-embed-amd64\\lib\\site-packages\\setuptools\\command\\install.py:34: SetuptoolsDeprecationWarning: setup.py install is deprecated. Use build and pip and other standards-based tools.\n",
      "      warnings.warn(\n",
      "    running build\n",
      "    running build_py\n",
      "    creating build\n",
      "    creating build\\lib.win-amd64-3.10\n",
      "    creating build\\lib.win-amd64-3.10\\simpleaudio\n",
      "    copying simpleaudio\\__init__.py -> build\\lib.win-amd64-3.10\\simpleaudio\n",
      "    copying simpleaudio\\shiny.py -> build\\lib.win-amd64-3.10\\simpleaudio\n",
      "    copying simpleaudio\\functionchecks.py -> build\\lib.win-amd64-3.10\\simpleaudio\n",
      "    creating build\\lib.win-amd64-3.10\\simpleaudio\\test_audio\n",
      "    copying simpleaudio\\test_audio\\c.wav -> build\\lib.win-amd64-3.10\\simpleaudio\\test_audio\n",
      "    copying simpleaudio\\test_audio\\e.wav -> build\\lib.win-amd64-3.10\\simpleaudio\\test_audio\n",
      "    copying simpleaudio\\test_audio\\g.wav -> build\\lib.win-amd64-3.10\\simpleaudio\\test_audio\n",
      "    copying simpleaudio\\test_audio\\left_right.wav -> build\\lib.win-amd64-3.10\\simpleaudio\\test_audio\n",
      "    copying simpleaudio\\test_audio\\notes_2_16_44.wav -> build\\lib.win-amd64-3.10\\simpleaudio\\test_audio\n",
      "    running build_ext\n",
      "    building 'simpleaudio._simpleaudio' extension\n",
      "    error: Microsoft Visual C++ 14.0 or greater is required. Get it with \"Microsoft C++ Build Tools\": https://visualstudio.microsoft.com/visual-cpp-build-tools/\n",
      "    ----------------------------------------\n",
      "ERROR: Command errored out with exit status 1: 'C:\\Users\\CBI\\Desktop\\Noninvasive\\Shapes_protocol\\python-3.10.0-embed-amd64\\python.exe' -u -c 'import io, os, sys, setuptools, tokenize; sys.argv[0] = '\"'\"'C:\\\\Users\\\\CBI\\\\AppData\\\\Local\\\\Temp\\\\pip-install-v4ykpf5z\\\\simpleaudio_bafc25d622954958918a85207488a26f\\\\setup.py'\"'\"'; __file__='\"'\"'C:\\\\Users\\\\CBI\\\\AppData\\\\Local\\\\Temp\\\\pip-install-v4ykpf5z\\\\simpleaudio_bafc25d622954958918a85207488a26f\\\\setup.py'\"'\"';f = getattr(tokenize, '\"'\"'open'\"'\"', open)(__file__) if os.path.exists(__file__) else io.StringIO('\"'\"'from setuptools import setup; setup()'\"'\"');code = f.read().replace('\"'\"'\\r\\n'\"'\"', '\"'\"'\\n'\"'\"');f.close();exec(compile(code, __file__, '\"'\"'exec'\"'\"'))' install --record 'C:\\Users\\CBI\\AppData\\Local\\Temp\\pip-record-tfx7f10_\\install-record.txt' --single-version-externally-managed --compile --install-headers 'C:\\Users\\CBI\\Desktop\\Noninvasive\\Shapes_protocol\\python-3.10.0-embed-amd64\\Include\\simpleaudio' Check the logs for full command output.\n",
      "WARNING: You are using pip version 21.3.1; however, version 22.0.4 is available.\n",
      "You should consider upgrading via the 'C:\\Users\\CBI\\Desktop\\Noninvasive\\Shapes_protocol\\python-3.10.0-embed-amd64\\python.exe -m pip install --upgrade pip' command.\n"
     ]
    }
   ],
   "source": [
    "pip install simpleaudio"
   ]
  },
  {
   "cell_type": "code",
   "execution_count": 1,
   "id": "0439c6aa-7e36-4f63-9f01-ed78d250fc2c",
   "metadata": {},
   "outputs": [
    {
     "name": "stderr",
     "output_type": "stream",
     "text": [
      "C:\\Users\\CBI\\Desktop\\Noninvasive\\Shapes_protocol\\python-3.10.0-embed-amd64\\lib\\site-packages\\pydub\\utils.py:170: RuntimeWarning: Couldn't find ffmpeg or avconv - defaulting to ffmpeg, but may not work\n",
      "  warn(\"Couldn't find ffmpeg or avconv - defaulting to ffmpeg, but may not work\", RuntimeWarning)\n"
     ]
    }
   ],
   "source": [
    "\n",
    "from pydub import AudioSegment  #не сработало, что-то странное с директориями\n",
    "from pydub.playback import play\n",
    "# читать файл "
   ]
  },
  {
   "cell_type": "code",
   "execution_count": 2,
   "id": "69e280d5-ad8f-413a-8afb-a89ef442afc4",
   "metadata": {},
   "outputs": [],
   "source": [
    "from playsound import playsound #то работает то нет"
   ]
  },
  {
   "cell_type": "code",
   "execution_count": null,
   "id": "9f73cf89-497b-42ad-9ce9-7dcb553342dd",
   "metadata": {
    "tags": []
   },
   "outputs": [],
   "source": []
  },
  {
   "cell_type": "code",
   "execution_count": 7,
   "id": "838229c3-a865-47f3-a5fa-5ad7227cf7ec",
   "metadata": {},
   "outputs": [
    {
     "ename": "FileNotFoundError",
     "evalue": "[Errno 2] No such file or directory: '/CBI/Desktop/Noninvasive/Shapes_protocol/python-3.10.0-embed-amd64/ipynb/Kalimba.mp3'",
     "output_type": "error",
     "traceback": [
      "\u001b[1;31m---------------------------------------------------------------------------\u001b[0m",
      "\u001b[1;31mFileNotFoundError\u001b[0m                         Traceback (most recent call last)",
      "\u001b[1;32m~\\AppData\\Local\\Temp/ipykernel_11628/847696834.py\u001b[0m in \u001b[0;36m<module>\u001b[1;34m\u001b[0m\n\u001b[1;32m----> 1\u001b[1;33m \u001b[0msong\u001b[0m \u001b[1;33m=\u001b[0m \u001b[0mAudioSegment\u001b[0m\u001b[1;33m.\u001b[0m\u001b[0mfrom_mp3\u001b[0m\u001b[1;33m(\u001b[0m\u001b[1;34m\"/CBI/Desktop/Noninvasive/Shapes_protocol/python-3.10.0-embed-amd64/ipynb/Kalimba.mp3\"\u001b[0m\u001b[1;33m)\u001b[0m\u001b[1;33m\u001b[0m\u001b[1;33m\u001b[0m\u001b[0m\n\u001b[0m\u001b[0;32m      2\u001b[0m \u001b[1;31m# song = AudioSegment.from_wav(\"audio_file.wav\")\u001b[0m\u001b[1;33m\u001b[0m\u001b[1;33m\u001b[0m\u001b[0m\n\u001b[0;32m      3\u001b[0m \u001b[1;31m# you can also read from other formats such as MP4\u001b[0m\u001b[1;33m\u001b[0m\u001b[1;33m\u001b[0m\u001b[0m\n\u001b[0;32m      4\u001b[0m \u001b[1;31m# song = AudioSegment.from_file(\"audio_file.mp4\", \"mp4\")\u001b[0m\u001b[1;33m\u001b[0m\u001b[1;33m\u001b[0m\u001b[0m\n\u001b[0;32m      5\u001b[0m \u001b[0mplay\u001b[0m\u001b[1;33m(\u001b[0m\u001b[0msong\u001b[0m\u001b[1;33m)\u001b[0m\u001b[1;33m\u001b[0m\u001b[1;33m\u001b[0m\u001b[0m\n",
      "\u001b[1;32m~\\Desktop\\Noninvasive\\Shapes_protocol\\python-3.10.0-embed-amd64\\lib\\site-packages\\pydub\\audio_segment.py\u001b[0m in \u001b[0;36mfrom_mp3\u001b[1;34m(cls, file, parameters)\u001b[0m\n\u001b[0;32m    794\u001b[0m     \u001b[1;33m@\u001b[0m\u001b[0mclassmethod\u001b[0m\u001b[1;33m\u001b[0m\u001b[1;33m\u001b[0m\u001b[0m\n\u001b[0;32m    795\u001b[0m     \u001b[1;32mdef\u001b[0m \u001b[0mfrom_mp3\u001b[0m\u001b[1;33m(\u001b[0m\u001b[0mcls\u001b[0m\u001b[1;33m,\u001b[0m \u001b[0mfile\u001b[0m\u001b[1;33m,\u001b[0m \u001b[0mparameters\u001b[0m\u001b[1;33m=\u001b[0m\u001b[1;32mNone\u001b[0m\u001b[1;33m)\u001b[0m\u001b[1;33m:\u001b[0m\u001b[1;33m\u001b[0m\u001b[1;33m\u001b[0m\u001b[0m\n\u001b[1;32m--> 796\u001b[1;33m         \u001b[1;32mreturn\u001b[0m \u001b[0mcls\u001b[0m\u001b[1;33m.\u001b[0m\u001b[0mfrom_file\u001b[0m\u001b[1;33m(\u001b[0m\u001b[0mfile\u001b[0m\u001b[1;33m,\u001b[0m \u001b[1;34m'mp3'\u001b[0m\u001b[1;33m,\u001b[0m \u001b[0mparameters\u001b[0m\u001b[1;33m=\u001b[0m\u001b[0mparameters\u001b[0m\u001b[1;33m)\u001b[0m\u001b[1;33m\u001b[0m\u001b[1;33m\u001b[0m\u001b[0m\n\u001b[0m\u001b[0;32m    797\u001b[0m \u001b[1;33m\u001b[0m\u001b[0m\n\u001b[0;32m    798\u001b[0m     \u001b[1;33m@\u001b[0m\u001b[0mclassmethod\u001b[0m\u001b[1;33m\u001b[0m\u001b[1;33m\u001b[0m\u001b[0m\n",
      "\u001b[1;32m~\\Desktop\\Noninvasive\\Shapes_protocol\\python-3.10.0-embed-amd64\\lib\\site-packages\\pydub\\audio_segment.py\u001b[0m in \u001b[0;36mfrom_file\u001b[1;34m(cls, file, format, codec, parameters, start_second, duration, **kwargs)\u001b[0m\n\u001b[0;32m    649\u001b[0m         \u001b[1;32mexcept\u001b[0m \u001b[0mTypeError\u001b[0m\u001b[1;33m:\u001b[0m\u001b[1;33m\u001b[0m\u001b[1;33m\u001b[0m\u001b[0m\n\u001b[0;32m    650\u001b[0m             \u001b[0mfilename\u001b[0m \u001b[1;33m=\u001b[0m \u001b[1;32mNone\u001b[0m\u001b[1;33m\u001b[0m\u001b[1;33m\u001b[0m\u001b[0m\n\u001b[1;32m--> 651\u001b[1;33m         \u001b[0mfile\u001b[0m\u001b[1;33m,\u001b[0m \u001b[0mclose_file\u001b[0m \u001b[1;33m=\u001b[0m \u001b[0m_fd_or_path_or_tempfile\u001b[0m\u001b[1;33m(\u001b[0m\u001b[0mfile\u001b[0m\u001b[1;33m,\u001b[0m \u001b[1;34m'rb'\u001b[0m\u001b[1;33m,\u001b[0m \u001b[0mtempfile\u001b[0m\u001b[1;33m=\u001b[0m\u001b[1;32mFalse\u001b[0m\u001b[1;33m)\u001b[0m\u001b[1;33m\u001b[0m\u001b[1;33m\u001b[0m\u001b[0m\n\u001b[0m\u001b[0;32m    652\u001b[0m \u001b[1;33m\u001b[0m\u001b[0m\n\u001b[0;32m    653\u001b[0m         \u001b[1;32mif\u001b[0m \u001b[0mformat\u001b[0m\u001b[1;33m:\u001b[0m\u001b[1;33m\u001b[0m\u001b[1;33m\u001b[0m\u001b[0m\n",
      "\u001b[1;32m~\\Desktop\\Noninvasive\\Shapes_protocol\\python-3.10.0-embed-amd64\\lib\\site-packages\\pydub\\utils.py\u001b[0m in \u001b[0;36m_fd_or_path_or_tempfile\u001b[1;34m(fd, mode, tempfile)\u001b[0m\n\u001b[0;32m     58\u001b[0m \u001b[1;33m\u001b[0m\u001b[0m\n\u001b[0;32m     59\u001b[0m     \u001b[1;32mif\u001b[0m \u001b[0misinstance\u001b[0m\u001b[1;33m(\u001b[0m\u001b[0mfd\u001b[0m\u001b[1;33m,\u001b[0m \u001b[0mbasestring\u001b[0m\u001b[1;33m)\u001b[0m\u001b[1;33m:\u001b[0m\u001b[1;33m\u001b[0m\u001b[1;33m\u001b[0m\u001b[0m\n\u001b[1;32m---> 60\u001b[1;33m         \u001b[0mfd\u001b[0m \u001b[1;33m=\u001b[0m \u001b[0mopen\u001b[0m\u001b[1;33m(\u001b[0m\u001b[0mfd\u001b[0m\u001b[1;33m,\u001b[0m \u001b[0mmode\u001b[0m\u001b[1;33m=\u001b[0m\u001b[0mmode\u001b[0m\u001b[1;33m)\u001b[0m\u001b[1;33m\u001b[0m\u001b[1;33m\u001b[0m\u001b[0m\n\u001b[0m\u001b[0;32m     61\u001b[0m         \u001b[0mclose_fd\u001b[0m \u001b[1;33m=\u001b[0m \u001b[1;32mTrue\u001b[0m\u001b[1;33m\u001b[0m\u001b[1;33m\u001b[0m\u001b[0m\n\u001b[0;32m     62\u001b[0m \u001b[1;33m\u001b[0m\u001b[0m\n",
      "\u001b[1;31mFileNotFoundError\u001b[0m: [Errno 2] No such file or directory: '/CBI/Desktop/Noninvasive/Shapes_protocol/python-3.10.0-embed-amd64/ipynb/Kalimba.mp3'"
     ]
    }
   ],
   "source": [
    "song = AudioSegment.from_mp3(\"/CBI/Desktop/Noninvasive/Shapes_protocol/python-3.10.0-embed-amd64/ipynb/Kalimba.mp3\")\n",
    "play(song)"
   ]
  },
  {
   "cell_type": "code",
   "execution_count": null,
   "id": "5e78637f-2a0d-495e-b021-337ee87d82f0",
   "metadata": {},
   "outputs": [],
   "source": []
  },
  {
   "cell_type": "code",
   "execution_count": null,
   "id": "49b64c67-8c0a-4716-b1f4-866e6ced3fb4",
   "metadata": {},
   "outputs": [],
   "source": []
  }
 ],
 "metadata": {
  "kernelspec": {
   "display_name": "Python 3 (ipykernel)",
   "language": "python",
   "name": "python3"
  },
  "language_info": {
   "codemirror_mode": {
    "name": "ipython",
    "version": 3
   },
   "file_extension": ".py",
   "mimetype": "text/x-python",
   "name": "python",
   "nbconvert_exporter": "python",
   "pygments_lexer": "ipython3",
   "version": "3.10.0"
  }
 },
 "nbformat": 4,
 "nbformat_minor": 5
}
