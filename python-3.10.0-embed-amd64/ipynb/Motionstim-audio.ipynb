{
 "cells": [
  {
   "cell_type": "code",
   "execution_count": 29,
   "id": "ede2383e-8a92-4ceb-9100-253825aeab48",
   "metadata": {},
   "outputs": [],
   "source": [
    "import serial\n",
    "import time\n",
    "import numpy as np\n"
   ]
  },
  {
   "cell_type": "code",
   "execution_count": 35,
   "id": "610029e7-5bfe-47de-9b0c-86fea373fd9f",
   "metadata": {},
   "outputs": [],
   "source": [
    "from pygame import mixer  # Load the popular external library\n",
    "\n",
    "mixer.init()\n",
    "mixer.music.load(\"1khz.mp3\")"
   ]
  },
  {
   "cell_type": "code",
   "execution_count": null,
   "id": "e91be9bf-f30d-4b77-8e3e-2cd5d9bd8ae1",
   "metadata": {},
   "outputs": [],
   "source": []
  },
  {
   "cell_type": "code",
   "execution_count": 37,
   "id": "09381023-7a05-4dd8-b46d-e7c1a87de9f5",
   "metadata": {},
   "outputs": [
    {
     "name": "stdout",
     "output_type": "stream",
     "text": [
      "List of devices attached\n",
      "R52RB0D7XMM\tdevice\n",
      "\n"
     ]
    }
   ],
   "source": [
    "!adb devices"
   ]
  },
  {
   "cell_type": "code",
   "execution_count": 38,
   "id": "b968a1a1-f91f-40d5-ba83-30283e9375e3",
   "metadata": {},
   "outputs": [],
   "source": [
    "import subprocess\n",
    "import math\n",
    "import numpy as np\n",
    "%matplotlib widget\n",
    "from matplotlib import pyplot as plt\n",
    "from matplotlib.path import Path"
   ]
  },
  {
   "cell_type": "code",
   "execution_count": 39,
   "id": "9ec3cd03-ef16-4f60-bb98-901de51b6d27",
   "metadata": {},
   "outputs": [
    {
     "name": "stdout",
     "output_type": "stream",
     "text": [
      "b'Physical size: 1600x2560\\r\\n'\n"
     ]
    },
    {
     "data": {
      "text/plain": [
       "(array([1600, 2560]), (800, 1280))"
      ]
     },
     "execution_count": 39,
     "metadata": {},
     "output_type": "execute_result"
    }
   ],
   "source": [
    "\n",
    "cmd = r'adb shell wm size'\n",
    "\n",
    "p1=subprocess.Popen(cmd,shell=True,stdout=subprocess.PIPE)\n",
    "for line in p1.stdout:\n",
    "    print(line)\n",
    "    line = line.decode(encoding=\"utf-8\", errors=\"ignore\")\n",
    "    line = line.strip()\n",
    "    if 'Physical size' in line:\n",
    "        wm_size = (np.array(line.split(' ')[-1].split('\\r\\n')[0].split('x')).astype(int))\n",
    "        break\n",
    "        \n",
    "wm_center = (wm_size[0]//2, wm_size[1]//2)\n",
    "wm_size, wm_center"
   ]
  },
  {
   "cell_type": "markdown",
   "id": "a3b22cd1-a701-4dac-9731-81f1746b0fed",
   "metadata": {},
   "source": [
    "Check everything works"
   ]
  },
  {
   "cell_type": "code",
   "execution_count": 53,
   "id": "3bf8a231-fdb1-463f-8ebe-06f72e833232",
   "metadata": {},
   "outputs": [
    {
     "data": {
      "image/png": "[encoded data removed]",
      "text/plain": [
       "<Figure size 432x288 with 1 Axes>"
      ]
     },
     "metadata": {
      "needs_background": "light"
     },
     "output_type": "display_data"
    }
   ],
   "source": [
    "def gen_mask(num_verts, figure_radius, figure_center, first_angle, wm_size):\n",
    "    \n",
    "\n",
    "    \n",
    "    angles = [[np.cos(theta), np.sin(theta)] \n",
    "              for theta in np.linspace(first_angle, \n",
    "                                       first_angle+2*np.pi, \n",
    "                                       num_verts+1)]\n",
    "\n",
    "    verts = np.array(angles)*figure_radius + figure_center\n",
    "\n",
    "    polygon=verts\n",
    "    poly_path=Path(polygon)\n",
    "\n",
    "    x, y = np.mgrid[:wm_size[0], :wm_size[1]]\n",
    "    coors=np.hstack((x.reshape(-1, 1), y.reshape(-1,1))) # coors.shape is (4000000,2)\n",
    "\n",
    "    mask = poly_path.contains_points(coors).reshape(wm_size[0], wm_size[1])\n",
    "    \n",
    "    return mask, verts\n",
    "\n",
    "figure_mask, verts = gen_mask(num_verts=4,\n",
    "                       figure_radius=500,\n",
    "                       figure_center=370, \n",
    "                       first_angle=np.pi/4,\n",
    "                       wm_size=wm_size)\n",
    "\n",
    "plt.figure()\n",
    "plt.imshow((figure_mask))\n",
    "plt.show()"
   ]
  },
  {
   "cell_type": "code",
   "execution_count": 82,
   "id": "d091264f-9bb7-432e-ae17-b156d2d979af",
   "metadata": {},
   "outputs": [
    {
     "data": {
      "image/png": "[encoded data removed]",
      "text/plain": [
       "<Figure size 432x288 with 1 Axes>"
      ]
     },
     "metadata": {
      "needs_background": "light"
     },
     "output_type": "display_data"
    }
   ],
   "source": [
    "%matplotlib inline\n",
    "\n",
    "#Choose randomly number of vertex \n",
    "num_verts=np.random.choice([4,5,22])\n",
    "figure_radius=550\n",
    "figure_center=wm_center \n",
    "\n",
    "#Choose randomly number of vertex \n",
    "first_angle= np.random.rand() * np.pi\n",
    "# first_angle = np.pi/4\n",
    "wm_size=wm_size\n",
    "\n",
    "figure_mask, figure_verts = gen_mask(num_verts,\n",
    "                       figure_radius,\n",
    "                       figure_center,\n",
    "                       first_angle,\n",
    "                       wm_size)\n",
    "\n",
    "plt.figure()\n",
    "plt.imshow((figure_mask))\n",
    "plt.gca().invert_yaxis()"
   ]
  },
  {
   "cell_type": "code",
   "execution_count": null,
   "id": "75119cf0-047d-40f8-ac6d-679245e861d7",
   "metadata": {},
   "outputs": [
    {
     "name": "stdout",
     "output_type": "stream",
     "text": [
      "4 6\n"
     ]
    },
    {
     "ename": "NameError",
     "evalue": "name 'selected' is not defined",
     "output_type": "error",
     "traceback": [
      "\u001b[1;31m---------------------------------------------------------------------------\u001b[0m",
      "\u001b[1;31mNameError\u001b[0m                                 Traceback (most recent call last)",
      "\u001b[1;32m~\\AppData\\Local\\Temp/ipykernel_2816/1927682170.py\u001b[0m in \u001b[0;36m<module>\u001b[1;34m\u001b[0m\n\u001b[0;32m      6\u001b[0m \u001b[0mprint\u001b[0m\u001b[1;33m(\u001b[0m\u001b[0mbaseline_stim\u001b[0m\u001b[1;33m,\u001b[0m \u001b[0mstim_amp\u001b[0m\u001b[1;33m)\u001b[0m\u001b[1;33m\u001b[0m\u001b[1;33m\u001b[0m\u001b[0m\n\u001b[0;32m      7\u001b[0m \u001b[1;33m\u001b[0m\u001b[0m\n\u001b[1;32m----> 8\u001b[1;33m \u001b[1;32mif\u001b[0m \u001b[0mselected\u001b[0m \u001b[1;32min\u001b[0m \u001b[1;33m(\u001b[0m\u001b[1;36m1\u001b[0m\u001b[1;33m,\u001b[0m\u001b[1;36m2\u001b[0m\u001b[1;33m,\u001b[0m\u001b[1;36m3\u001b[0m\u001b[1;33m)\u001b[0m\u001b[1;33m:\u001b[0m\u001b[1;33m\u001b[0m\u001b[1;33m\u001b[0m\u001b[0m\n\u001b[0m\u001b[0;32m      9\u001b[0m     \u001b[0mcurrent_stim_group\u001b[0m\u001b[1;33m=\u001b[0m\u001b[1;34m'stim'\u001b[0m\u001b[1;33m\u001b[0m\u001b[1;33m\u001b[0m\u001b[0m\n\u001b[0;32m     10\u001b[0m \u001b[1;33m\u001b[0m\u001b[0m\n",
      "\u001b[1;31mNameError\u001b[0m: name 'selected' is not defined"
     ]
    }
   ],
   "source": [
    "\n",
    "current_stim_group = np.random.choice([0])\n",
    "# 0 - a 1 - b \n",
    "peak_amp      = [ 10][current_stim_group]\n",
    "baseline_stim = [ 4][current_stim_group]\n",
    "stim_amp      = peak_amp - baseline_stim\n",
    "\n",
    "print(['A'][current_stim_group], baseline_stim, stim_amp)\n",
    "\n",
    "current_stim_group='audio'"
   ]
  },
  {
   "cell_type": "code",
   "execution_count": 84,
   "id": "eed0d9a6-8c5c-4537-8c30-590081e01174",
   "metadata": {},
   "outputs": [
    {
     "data": {
      "text/plain": [
       "'audio'"
      ]
     },
     "execution_count": 84,
     "metadata": {},
     "output_type": "execute_result"
    }
   ],
   "source": [
    "current_stim_group"
   ]
  },
  {
   "cell_type": "code",
   "execution_count": null,
   "id": "f08e6904-4296-4f2d-b3b6-a04b52992517",
   "metadata": {},
   "outputs": [],
   "source": []
  },
  {
   "cell_type": "code",
   "execution_count": null,
   "id": "1f41cc50-9dfa-4e32-bc18-49e49703078a",
   "metadata": {
    "tags": []
   },
   "outputs": [],
   "source": []
  },
  {
   "cell_type": "code",
   "execution_count": null,
   "id": "f92534c6-181e-4988-913e-859d38b9aac9",
   "metadata": {},
   "outputs": [],
   "source": []
  },
  {
   "cell_type": "code",
   "execution_count": 85,
   "id": "e7b469da-28fd-4bc2-aa01-f463bfbd112c",
   "metadata": {
    "tags": []
   },
   "outputs": [
    {
     "name": "stdout",
     "output_type": "stream",
     "text": [
      "22-04-06_15-03-08\n"
     ]
    },
    {
     "data": {
      "image/png": "[encoded data removed]",
      "text/plain": [
       "<Figure size 432x288 with 1 Axes>"
      ]
     },
     "metadata": {
      "needs_background": "light"
     },
     "output_type": "display_data"
    },
    {
     "name": "stdout",
     "output_type": "stream",
     "text": [
      "sss\n"
     ]
    },
    {
     "ename": "KeyboardInterrupt",
     "evalue": "",
     "output_type": "error",
     "traceback": [
      "\u001b[1;31m---------------------------------------------------------------------------\u001b[0m",
      "\u001b[1;31mKeyboardInterrupt\u001b[0m                         Traceback (most recent call last)",
      "\u001b[1;32m~\\AppData\\Local\\Temp/ipykernel_2816/379949064.py\u001b[0m in \u001b[0;36m<module>\u001b[1;34m\u001b[0m\n\u001b[0;32m     37\u001b[0m     ===============================\\n''')\n\u001b[0;32m     38\u001b[0m     \u001b[1;32mfor\u001b[0m \u001b[0ml\u001b[0m \u001b[1;32min\u001b[0m \u001b[0mp1\u001b[0m\u001b[1;33m.\u001b[0m\u001b[0mstdout\u001b[0m\u001b[1;33m:\u001b[0m\u001b[1;33m\u001b[0m\u001b[1;33m\u001b[0m\u001b[0m\n\u001b[1;32m---> 39\u001b[1;33m         \u001b[0mline\u001b[0m \u001b[1;33m=\u001b[0m \u001b[0ml\u001b[0m\u001b[1;33m.\u001b[0m\u001b[0mdecode\u001b[0m\u001b[1;33m(\u001b[0m\u001b[0mencoding\u001b[0m\u001b[1;33m=\u001b[0m\u001b[1;34m\"utf-8\"\u001b[0m\u001b[1;33m,\u001b[0m \u001b[0merrors\u001b[0m\u001b[1;33m=\u001b[0m\u001b[1;34m\"ignore\"\u001b[0m\u001b[1;33m)\u001b[0m\u001b[1;33m.\u001b[0m\u001b[0mstrip\u001b[0m\u001b[1;33m(\u001b[0m\u001b[1;33m)\u001b[0m\u001b[1;33m\u001b[0m\u001b[1;33m\u001b[0m\u001b[0m\n\u001b[0m\u001b[0;32m     40\u001b[0m \u001b[1;33m\u001b[0m\u001b[0m\n\u001b[0;32m     41\u001b[0m         \u001b[1;31m#print(line)\u001b[0m\u001b[1;33m\u001b[0m\u001b[1;33m\u001b[0m\u001b[0m\n",
      "\u001b[1;31mKeyboardInterrupt\u001b[0m: "
     ]
    }
   ],
   "source": [
    "from datetime import datetime as dt\n",
    "import os\n",
    "import subprocess\n",
    "\n",
    "\n",
    "time_label = dt.now().strftime('%y-%m-%d_%H-%M-%S')\n",
    "print(time_label)\n",
    "\n",
    "plt.figure()\n",
    "plt.imshow((figure_mask))\n",
    "plt.gca().invert_yaxis()\n",
    "plt.savefig(os.path.join('session', time_label + '_figure_mask.png'), dpi=300)\n",
    "plt.show()\n",
    "session_log_filename = os.path.join('session', time_label + '_session.log')\n",
    "\n",
    "x, y = 0, 0\n",
    "cmd = r'adb shell getevent -t /dev/input/event5'\n",
    "\n",
    "toggle = 0;\n",
    "toggle_prev = 0;\n",
    "p1=subprocess.Popen(cmd,shell=True,stdout=subprocess.PIPE)\n",
    "\n",
    "print('sss')\n",
    "\n",
    "with open(session_log_filename, 'w+') as f:\n",
    "    f.write('Mode = area stim')\n",
    "    f.write(f'''\n",
    "    verts = {num_verts} \n",
    "    radius = {figure_radius} \n",
    "    center = {figure_center} \n",
    "    first_angle = {first_angle} \n",
    "    wm_size = {wm_size} \n",
    "    stim_amp = {stim_amp} \n",
    "    baseline_stim = {baseline_stim}\n",
    "    current_stim_group = {current_stim_group}\n",
    "    sense_zone = {0}\n",
    "    ===============================\\n''')\n",
    "    for l in p1.stdout:\n",
    "        line = l.decode(encoding=\"utf-8\", errors=\"ignore\").strip()\n",
    "        \n",
    "        #print(line)\n",
    "\n",
    "        if ' 0036 ' in line:\n",
    "            e = line.split(\" \")\n",
    "            x = e[-1]\n",
    "            x = int(x, 16)\n",
    "            #print(x) # 0 -- 900, но длинная стороны\n",
    "            if (y > 0) & (x>0):\n",
    "                \n",
    "                #For tpad\n",
    "                #x_phys = int(np.round(x/800*1920))\n",
    "                #y_phys = int(np.round(y/1280*1200))\n",
    "                #print(str((x_phys,y_phys)))\n",
    "                \n",
    "                #For Samsung\n",
    "                x_phys = x\n",
    "                y_phys = y\n",
    "                \n",
    "                \n",
    "                toggle = figure_mask[y_phys, x_phys]\n",
    "                f.write(str(dt.now()) + ' ' + str(toggle) + ' ' + str(line) + '\\n')\n",
    "\n",
    "        if  ' 0035 ' in line:\n",
    "            e = line.split(\" \")\n",
    "            y = e[-1]\n",
    "            y = int(y, 16)\n",
    "            #print(y)\n",
    "            if (y > 0) & (x>0):\n",
    "                p = (x, y)    \n",
    "                \n",
    "                #For tpad\n",
    "                #x_phys = int(np.round(x/800*1920))\n",
    "                #y_phys = int(np.round(y/1280*1200))\n",
    "                #print(str((x_phys,y_phys)))\n",
    "                \n",
    "                #For Samsung\n",
    "                x_phys = x\n",
    "                y_phys = y\n",
    "                \n",
    "                toggle = figure_mask[y_phys, x_phys]\n",
    "                rev = toggle\n",
    "                    #slides[current_stim_group].set_value(toggle*stim_amp+baseline_stim)\n",
    "                    \n",
    "                #print(f'{x:04d}, {y:04d} {toggle}', line, end='\\r')\n",
    "                f.write(str(dt.now()) + ' ' + str(toggle) + ' ' + str(line) + '\\n')\n",
    "    \n",
    "                if toggle!=toggle_prev:\n",
    "                    # print(str(toggle)+'   '+str(x)+'     '+str(y), end='\\r');\n",
    "                    toggle_prev=toggle\n",
    "                    #st=toggle*stim_amp+baseline_stim\n",
    "                    \n",
    "                    if toggle:\n",
    "                        mixer.music.play()\n",
    "                    else:\n",
    "                        mixer.music.stop()\n",
    "                    \n",
    "                    while p1.stdout.tell() < -200:\n",
    "                        p1.stdout.readline()\n",
    "                "
   ]
  },
  {
   "cell_type": "code",
   "execution_count": null,
   "id": "a31a9c2c-f362-4a1a-82b3-fcb78835e930",
   "metadata": {},
   "outputs": [],
   "source": [
    "mixer.music.play()"
   ]
  },
  {
   "cell_type": "code",
   "execution_count": 68,
   "id": "6a7e8217-f570-4dbd-86ff-50c8efd03416",
   "metadata": {},
   "outputs": [],
   "source": [
    "mixer.music.stop()"
   ]
  },
  {
   "cell_type": "code",
   "execution_count": null,
   "id": "8e5acc43-fa8a-4716-83b9-7294d59db9b9",
   "metadata": {},
   "outputs": [],
   "source": [
    "p1=subprocess.Popen(cmd,shell=True,stdout=subprocess.PIPE)"
   ]
  },
  {
   "cell_type": "code",
   "execution_count": 14,
   "id": "fabbed22-b9a4-47be-a323-83af6f85573a",
   "metadata": {},
   "outputs": [
    {
     "ename": "NameError",
     "evalue": "name 'mm' is not defined",
     "output_type": "error",
     "traceback": [
      "\u001b[1;31m---------------------------------------------------------------------------\u001b[0m",
      "\u001b[1;31mNameError\u001b[0m                                 Traceback (most recent call last)",
      "\u001b[1;32m~\\AppData\\Local\\Temp/ipykernel_2816/3636160946.py\u001b[0m in \u001b[0;36m<module>\u001b[1;34m\u001b[0m\n\u001b[1;32m----> 1\u001b[1;33m \u001b[0mmm\u001b[0m\u001b[1;33m.\u001b[0m\u001b[0mStopDevice\u001b[0m\u001b[1;33m(\u001b[0m\u001b[1;33m)\u001b[0m\u001b[1;33m\u001b[0m\u001b[1;33m\u001b[0m\u001b[0m\n\u001b[0m",
      "\u001b[1;31mNameError\u001b[0m: name 'mm' is not defined"
     ]
    }
   ],
   "source": [
    "mm.StopDevice()"
   ]
  },
  {
   "cell_type": "code",
   "execution_count": null,
   "id": "b29599e5-4e9e-4d3b-9012-0122799460e6",
   "metadata": {},
   "outputs": [],
   "source": [
    "cmd = r'adb shell getevent -t /dev/input/event2'"
   ]
  },
  {
   "cell_type": "code",
   "execution_count": null,
   "id": "ed9b73e4-83e5-41a7-841c-12c41ba5a13e",
   "metadata": {},
   "outputs": [],
   "source": [
    "for l in p1.stdout:\n",
    "    line = l.decode(encoding=\"utf-8\", errors=\"ignore\").strip()\n",
    "    print(line)"
   ]
  },
  {
   "cell_type": "code",
   "execution_count": null,
   "id": "02b06ffe-9605-4e57-a2d8-dae167438bb9",
   "metadata": {},
   "outputs": [],
   "source": [
    "p1.stdout:"
   ]
  },
  {
   "cell_type": "code",
   "execution_count": null,
   "id": "16b77e1e-25bf-489d-bff6-ec1e559da00e",
   "metadata": {},
   "outputs": [],
   "source": []
  },
  {
   "cell_type": "code",
   "execution_count": null,
   "id": "92d8d580-a2b9-447b-8f77-226c3bb0e4b6",
   "metadata": {},
   "outputs": [],
   "source": [
    "from datetime import datetime as dt\n",
    "import os\n",
    "import subprocess\n",
    "\n",
    "\n",
    "time_label = dt.now().strftime('%y-%m-%d_%H-%M-%S')\n",
    "print(time_label)\n",
    "\n",
    "plt.figure()\n",
    "plt.imshow((figure_mask))\n",
    "plt.gca().invert_yaxis()\n",
    "plt.savefig(os.path.join('session', time_label + '_figure_mask.png'), dpi=300)\n",
    "plt.show()\n",
    "session_log_filename = os.path.join('session', time_label + '_session.log')\n",
    "\n",
    "x, y = 0, 0\n",
    "cmd = r'adb shell getevent -t /dev/input/event5'\n",
    "\n",
    "toggle = 0;\n",
    "toggle_prev = 0;\n",
    "p1=subprocess.Popen(cmd,shell=True,stdout=subprocess.PIPE)\n",
    "\n",
    "print('sss')\n",
    "\n",
    "with open(session_log_filename, 'w+') as f:\n",
    "    f.write('Mode = area stim')\n",
    "    f.write(f'''\n",
    "    verts = {num_verts} \n",
    "    radius = {figure_radius} \n",
    "    center = {figure_center} \n",
    "    first_angle = {first_angle} \n",
    "    wm_size = {wm_size} \n",
    "    stim_amp = {stim_amp} \n",
    "    baseline_stim = {baseline_stim}\n",
    "    current_stim_group = {current_stim_group}\n",
    "    sense_zone = {0}\n",
    "    ===============================\\n''')\n",
    "    for l in p1.stdout:\n",
    "        line = l.decode(encoding=\"utf-8\", errors=\"ignore\").strip()\n",
    "        \n",
    "        #print(line)\n",
    "\n",
    "        if ' 0036 ' in line:\n",
    "            e = line.split(\" \")\n",
    "            x = e[-1]\n",
    "            x = int(x, 16)\n",
    "            #print(x) # 0 -- 900, но длинная стороны\n",
    "            if (y > 0) & (x>0):\n",
    "                \n",
    "                #For tpad\n",
    "                x_phys = int(np.round(x/800*1920))\n",
    "                y_phys = int(np.round(y/1280*1200))\n",
    "                \n",
    "                \n",
    "                #print(str((x_phys,y_phys)))\n",
    "                #toggle = figure_mask[y_phys, x_phys]\n",
    "                f.write(str(dt.now()) + ' ' + str(toggle) + ' ' + str(line) + '\\n')\n",
    "\n",
    "        if  ' 0035 ' in line:\n",
    "            e = line.split(\" \")\n",
    "            y = e[-1]\n",
    "            y = int(y, 16)\n",
    "            #print(y)\n",
    "            if (y > 0) & (x>0):\n",
    "                p = (x, y)    \n",
    "                print(y)\n",
    "                x_phys = int(np.round(x/800*1920))\n",
    "                y_phys = int(np.round(y/1280*1200))\n",
    "                #print(str((x_phys,y_phys)))\n",
    "                #toggle = figure_mask[y_phys, x_phys]\n",
    "                rev = toggle\n",
    "                    #slides[current_stim_group].set_value(toggle*stim_amp+baseline_stim)\n",
    "                    "
   ]
  },
  {
   "cell_type": "code",
   "execution_count": null,
   "id": "effa0466-34ce-4be5-8aa7-85054eb080d2",
   "metadata": {},
   "outputs": [],
   "source": []
  },
  {
   "cell_type": "code",
   "execution_count": null,
   "id": "a43d8253-f3d4-41cc-880c-89c2edcc3252",
   "metadata": {},
   "outputs": [],
   "source": []
  }
 ],
 "metadata": {
  "kernelspec": {
   "display_name": "Python 3 (ipykernel)",
   "language": "python",
   "name": "python3"
  },
  "language_info": {
   "codemirror_mode": {
    "name": "ipython",
    "version": 3
   },
   "file_extension": ".py",
   "mimetype": "text/x-python",
   "name": "python",
   "nbconvert_exporter": "python",
   "pygments_lexer": "ipython3",
   "version": "3.10.0"
  }
 },
 "nbformat": 4,
 "nbformat_minor": 5
}
