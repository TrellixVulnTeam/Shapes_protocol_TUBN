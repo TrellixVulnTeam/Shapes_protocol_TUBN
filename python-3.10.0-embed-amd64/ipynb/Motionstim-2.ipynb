{
 "cells": [
  {
   "cell_type": "code",
   "execution_count": 355,
   "id": "57442f1e-5b92-47fc-8472-cf35c304375b",
   "metadata": {},
   "outputs": [],
   "source": [
    "trials=[1,1,2,2,3,3,4,4,5,5,6,6]\n",
    "#trials=[1,2,3,4,5,6]"
   ]
  },
  {
   "cell_type": "code",
   "execution_count": 356,
   "id": "b927cfb7-3d4d-47e7-9874-3ec739f57d09",
   "metadata": {},
   "outputs": [],
   "source": [
    "import random"
   ]
  },
  {
   "cell_type": "code",
   "execution_count": null,
   "id": "e4d3bed2-3bc8-4fe3-9ffc-995caa0d6e0b",
   "metadata": {},
   "outputs": [],
   "source": []
  },
  {
   "cell_type": "code",
   "execution_count": null,
   "id": "7cd77fe0-82e2-49b5-b311-b91646bf2b35",
   "metadata": {},
   "outputs": [],
   "source": []
  },
  {
   "cell_type": "code",
   "execution_count": null,
   "id": "01b0406b-858c-4c3c-8a27-438b2f56b7cd",
   "metadata": {},
   "outputs": [],
   "source": []
  },
  {
   "cell_type": "code",
   "execution_count": null,
   "id": "7bc25f07-9fe8-4758-942a-3b6ed54bc0d1",
   "metadata": {},
   "outputs": [],
   "source": []
  },
  {
   "cell_type": "code",
   "execution_count": null,
   "id": "7d9edfeb-9d5a-4a45-9558-2ec6c73ea056",
   "metadata": {},
   "outputs": [],
   "source": []
  },
  {
   "cell_type": "code",
   "execution_count": 556,
   "id": "685a6ed4-2c6b-4c4c-90ce-72318b0d9433",
   "metadata": {},
   "outputs": [],
   "source": [
    "selected=random.choice(trials)"
   ]
  },
  {
   "cell_type": "code",
   "execution_count": 557,
   "id": "78a7ead4-0f04-4e64-b3be-8af948bb6623",
   "metadata": {},
   "outputs": [
    {
     "data": {
      "text/plain": [
       "6"
      ]
     },
     "execution_count": 557,
     "metadata": {},
     "output_type": "execute_result"
    }
   ],
   "source": [
    "selected"
   ]
  },
  {
   "cell_type": "code",
   "execution_count": null,
   "id": "6409c3dc-caad-42f5-88bf-ae0af2bd5920",
   "metadata": {},
   "outputs": [],
   "source": []
  },
  {
   "cell_type": "code",
   "execution_count": 558,
   "id": "b556224c-a134-4f2e-82a6-069875e563e8",
   "metadata": {},
   "outputs": [],
   "source": [
    "import serial\n",
    "import time\n",
    "import numpy as np\n",
    "\n",
    "import subprocess\n",
    "import math\n",
    "import numpy as np\n",
    "%matplotlib widget\n",
    "from matplotlib import pyplot as plt\n",
    "from matplotlib.path import Path"
   ]
  },
  {
   "cell_type": "markdown",
   "id": "c520582d-e65c-4a96-93d1-8f7bc3736eb4",
   "metadata": {},
   "source": [
    "Звук"
   ]
  },
  {
   "cell_type": "code",
   "execution_count": 559,
   "id": "af6fc8f7-6b37-44ca-a39f-2e1fee1926ba",
   "metadata": {},
   "outputs": [],
   "source": [
    "from pygame import mixer  # Load the popular external library\n",
    "mixer.init()\n",
    "mixer.music.load(\"1khz.mp3\")"
   ]
  },
  {
   "cell_type": "markdown",
   "id": "38367eea-c9e0-466a-9846-bf9d3c1cd729",
   "metadata": {},
   "source": [
    "Стимуляция"
   ]
  },
  {
   "cell_type": "code",
   "execution_count": 560,
   "id": "122a36e4-e3be-4063-b0a5-e117e229fcc9",
   "metadata": {},
   "outputs": [],
   "source": [
    "\n",
    "class Motionstim8:\n",
    "    def __init__(self):\n",
    "\n",
    "        # The Motionstim8 device has a serial port\n",
    "        self.serialPort = serial.Serial()\n",
    "\n",
    "        # The default main stimulation frequency being used is 20 Hz\n",
    "        self.stimulationFrequency = 50\n",
    "\n",
    "        # The default group stimulation frequency being used is 50 Hz\n",
    "        self.groupStimulationFrequency = 50\n",
    "\n",
    "        # Set the N factor (0 by default)\n",
    "        self.nFactor = 0\n",
    "\n",
    "        # The number of channels in the FES device\n",
    "        self.nChannels = 8\n",
    "\n",
    "        # The device channel modes (singlets)\n",
    "        self.pulseModes = [0] * self.nChannels\n",
    "\n",
    "        # The device pulse widths\n",
    "        self.pulseWidths = [300] * self.nChannels\n",
    "\n",
    "        # The device amplitudes\n",
    "        self.amplitudes = [0] * self.nChannels\n",
    "\n",
    "\n",
    "\n",
    "\n",
    "    def OpenSerialPort(self, comPortName):\n",
    "\n",
    "        # configure the serial connections (the parameters differs on the device you are connecting to)\n",
    "        self.serialPort.port = comPortName\n",
    "        self.serialPort.baudrate = 115200\n",
    "        self.serialPort.parity = serial.PARITY_NONE\n",
    "        self.serialPort.stopbits = serial.STOPBITS_ONE\n",
    "        self.serialPort.bytesize = serial.EIGHTBITS\n",
    "        self.serialPort.timeout = 500\n",
    "        self.serialPort.write_timeout = 500\n",
    "        self.serialPort.xonxoff  = False\n",
    "        self.serialPort.rtscts = False\n",
    "        self.dsrdtr = False\n",
    "\n",
    "        # Open the port if not already opened\n",
    "        if not self.serialPort.is_open:\n",
    "            self.serialPort.open()\n",
    "\n",
    "\n",
    "\n",
    "\n",
    "    def CloseSerialPort(self):\n",
    "\n",
    "        # Close the serial port if it is open\n",
    "        if self.serialPort.is_open:\n",
    "            self.serialPort.close()\n",
    "\n",
    "\n",
    "\n",
    "    def WriteFES(self, bitString):\n",
    "\n",
    "        # Write a bitstring through the open serial port\n",
    "        if self.serialPort.is_open:\n",
    "\n",
    "            # Convert the bit string in to a bytes object\n",
    "            byteString = int(bitString, 2).to_bytes(len(bitString) // 8, byteorder='big')\n",
    "            bytesWritten = self.serialPort.write(byteString)\n",
    "            self.serialPort.flush()\n",
    "\n",
    "        else:\n",
    "            print(\"Error writing to FES device: serial port not opened\")\n",
    "\n",
    "\n",
    "\n",
    "    # A method to initialize the device into Channel List Mode\n",
    "    def InitializeChannelListMode(self):\n",
    "\n",
    "        # Set ts1 and ts2\n",
    "        ts1 = 1000  / self.stimulationFrequency\n",
    "        ts2 = 1000 / self.groupStimulationFrequency\n",
    "\n",
    "        # Compute the group and main times\n",
    "        mainTime = int((ts1 - 1.0) / 0.5)\n",
    "        groupTime = int((ts2 - 1.5) / 0.5)\n",
    "\n",
    "        # Set the active channels according to the input\n",
    "        activeChannelsString = \"11111111\"\n",
    "\n",
    "        # Specify which channels apply the scaler to get lower frequencies (none by default)\n",
    "        lowFrequencyChannelsString = \"00000000\"\n",
    "\n",
    "        # Compute checksum\n",
    "        checksum = (self.nFactor + int(activeChannelsString) + int(lowFrequencyChannelsString) + groupTime + mainTime) % 8\n",
    "\n",
    "        # Convert each parameter to its correct binary representation\n",
    "        mainTimeBinary = \"{0:011b}\".format(mainTime)                              # binary, 11 bit width, 0 padding\n",
    "        nFactorBinary = \"{0:03b}\".format(self.nFactor)                                 # binary, 3 bit width, 0 padding\n",
    "        groupTimeBinary = \"{0:05b}\".format(groupTime)                             # binary, 5 bit width, 0 padding\n",
    "        checksumBinary = \"{0:03b}\".format(checksum)                               # binary, 3 bit width, 0 padding\n",
    "\n",
    "        # Compose the complete bistring\n",
    "        bitString = \"100\"\\\n",
    "                    + checksumBinary\\\n",
    "                    + nFactorBinary[0:2]\\\n",
    "                    + \"0\"\\\n",
    "                    + nFactorBinary[2:3]\\\n",
    "                    + activeChannelsString[0:6]\\\n",
    "                    + \"0\"\\\n",
    "                    + activeChannelsString[6:8]\\\n",
    "                    + lowFrequencyChannelsString[0:5]\\\n",
    "                    + \"0\"\\\n",
    "                    + lowFrequencyChannelsString[5:8]\\\n",
    "                    + \"00\"\\\n",
    "                    + groupTimeBinary[0:2]\\\n",
    "                    + \"0\"\\\n",
    "                    + groupTimeBinary[2:5]\\\n",
    "                    + mainTimeBinary[0:4]\\\n",
    "                    + \"0\"\\\n",
    "                    + mainTimeBinary[4:11]\n",
    "\n",
    "        # Write the bit string\n",
    "        self.WriteFES(bitString)\n",
    "\n",
    "\n",
    "\n",
    "    def UpdateChannelSettings(self, newAmplitudes, newPulses, pulseModes):\n",
    "\n",
    "        # Ensure that the device amplitudes are capped between the safety bounds 0 - 50 mA\n",
    "        for index, amplitude in enumerate(newAmplitudes):\n",
    "\n",
    "            if amplitude > 50:\n",
    "\n",
    "                self.amplitudes[index] = 50\n",
    "\n",
    "            elif amplitude < 0:\n",
    "\n",
    "                self.amplitudes[index] = 0\n",
    "\n",
    "            else:\n",
    "\n",
    "                self.amplitudes[index] = newAmplitudes[index]\n",
    "                \n",
    "        for i, pulse in enumerate(newPulses):\n",
    "            self.pulseWidths[i] = pulse\n",
    "        \n",
    "        \n",
    "        for i, mode in enumerate(pulseModes):\n",
    "            self.pulseModes[i] = mode\n",
    "#         for i, freq in enumera?te(newFreqs):\n",
    "#         self.stimulationFrequency = newFreq\n",
    "        \n",
    "            \n",
    "        # Compute checksum\n",
    "        checksum = (np.sum(self.pulseModes) + np.sum(self.pulseWidths) + np.sum(self.amplitudes)) % 32\n",
    "\n",
    "        # Construct the channel settings string\n",
    "        checksumBinary = \"{0:05b}\".format(checksum)\n",
    "\n",
    "        channelSettingsBinary = \"\"\n",
    "        for amplitude, pulseWidth, pulseMode in zip(self.amplitudes, self.pulseWidths, self.pulseModes):\n",
    "\n",
    "            pulseWidthBinary = \"{0:09b}\".format(pulseWidth)\n",
    "            channelSettingBinary = \"0\"\\\n",
    "                                   + \"{0:02b}\".format(pulseMode)\\\n",
    "                                   + \"000\"\\\n",
    "                                   + pulseWidthBinary[0:2]\\\n",
    "                                   + \"0\"\\\n",
    "                                   + pulseWidthBinary[2:9]\\\n",
    "                                   + \"0\"\\\n",
    "                                   + \"{0:07b}\".format(amplitude)\n",
    "\n",
    "            channelSettingsBinary += channelSettingBinary\n",
    "\n",
    "        # Compose the final bitstring\n",
    "        bitString = \"101\" + checksumBinary + channelSettingsBinary\n",
    "\n",
    "        # Write the bit string\n",
    "        self.WriteFES(bitString)\n",
    "\n",
    "\n",
    "    def StopDevice(self):\n",
    "\n",
    "        # Compose the stop command\n",
    "        stopCommandBinary = \"11000000\"\n",
    "\n",
    "        # Write the bit string\n",
    "        self.WriteFES(stopCommandBinary)"
   ]
  },
  {
   "cell_type": "code",
   "execution_count": 561,
   "id": "693fd5aa-ee5f-4f50-9dca-ca0218bb8cbe",
   "metadata": {},
   "outputs": [],
   "source": [
    "\n",
    "mm=Motionstim8()\n",
    "mm.OpenSerialPort('/COM3')\n",
    "mm.InitializeChannelListMode()\n"
   ]
  },
  {
   "cell_type": "code",
   "execution_count": 562,
   "id": "38d7683e-6f65-4f1a-be64-9432d85b8322",
   "metadata": {},
   "outputs": [],
   "source": [
    "#mm.UpdateChannelSettings(newAmplitudes=[7], newPulses=[150], pulseModes=[0])\n",
    "#Pulses=150\n",
    "#pulseModes=0"
   ]
  },
  {
   "cell_type": "code",
   "execution_count": 563,
   "id": "46019361-c081-4d07-b582-41ffebbfae4a",
   "metadata": {},
   "outputs": [],
   "source": [
    "#mm.StopDevice()"
   ]
  },
  {
   "cell_type": "code",
   "execution_count": 564,
   "id": "10ce5135-d764-4753-bf58-7c26c2f9a6cf",
   "metadata": {},
   "outputs": [
    {
     "name": "stdout",
     "output_type": "stream",
     "text": [
      "b'Physical size: 1600x2560\\r\\n'\n"
     ]
    },
    {
     "data": {
      "text/plain": [
       "(array([1600, 2560]), (800, 1280))"
      ]
     },
     "execution_count": 564,
     "metadata": {},
     "output_type": "execute_result"
    }
   ],
   "source": [
    "\n",
    "cmd = r'adb shell wm size'\n",
    "\n",
    "p1=subprocess.Popen(cmd,shell=True,stdout=subprocess.PIPE)\n",
    "for line in p1.stdout:\n",
    "    print(line)\n",
    "    line = line.decode(encoding=\"utf-8\", errors=\"ignore\")\n",
    "    line = line.strip()\n",
    "    if 'Physical size' in line:\n",
    "        wm_size = (np.array(line.split(' ')[-1].split('\\r\\n')[0].split('x')).astype(int))\n",
    "        break\n",
    "        \n",
    "wm_center = (wm_size[0]//2, wm_size[1]//2)\n",
    "wm_size, wm_center"
   ]
  },
  {
   "cell_type": "code",
   "execution_count": 565,
   "id": "a857f005-a651-4e38-b9a3-573ff10cb331",
   "metadata": {},
   "outputs": [],
   "source": [
    "def gen_mask(num_verts, figure_radius, figure_center, first_angle, wm_size):\n",
    "    \n",
    "\n",
    "    \n",
    "    angles = [[np.cos(theta), np.sin(theta)] \n",
    "              for theta in np.linspace(first_angle, \n",
    "                                       first_angle+2*np.pi, \n",
    "                                       num_verts+1)]\n",
    "\n",
    "    verts = np.array(angles)*figure_radius + figure_center\n",
    "\n",
    "    polygon=verts\n",
    "    poly_path=Path(polygon)\n",
    "\n",
    "    x, y = np.mgrid[:wm_size[0], :wm_size[1]]\n",
    "    coors=np.hstack((x.reshape(-1, 1), y.reshape(-1,1))) # coors.shape is (4000000,2)\n",
    "\n",
    "    mask = poly_path.contains_points(coors).reshape(wm_size[0], wm_size[1])\n",
    "    \n",
    "    return mask, verts\n",
    "\n",
    "figure_mask, verts = gen_mask(num_verts=4,\n",
    "                       figure_radius=500,\n",
    "                       figure_center=370, \n",
    "                       first_angle=np.pi/4,\n",
    "                       wm_size=wm_size)\n",
    "\n",
    "#plt.figure()\n",
    "#plt.imshow((figure_mask))\n",
    "#plt.show()"
   ]
  },
  {
   "cell_type": "code",
   "execution_count": 566,
   "id": "52106da4-4289-4488-b403-1558b4601e3a",
   "metadata": {},
   "outputs": [],
   "source": [
    "d_verts={    \n",
    "    1:4,\n",
    "    2:5,\n",
    "    3:22,\n",
    "    4:4,\n",
    "    5:5,\n",
    "    6:22\n",
    "}"
   ]
  },
  {
   "cell_type": "code",
   "execution_count": null,
   "id": "da1a459c-26c6-4296-8b65-019b20566151",
   "metadata": {},
   "outputs": [],
   "source": []
  },
  {
   "cell_type": "code",
   "execution_count": 567,
   "id": "f7386399-902b-4047-98b0-0bf91d55a22e",
   "metadata": {},
   "outputs": [
    {
     "data": {
      "image/png": "[encoded data removed]",
      "text/plain": [
       "<Figure size 432x288 with 1 Axes>"
      ]
     },
     "metadata": {
      "needs_background": "light"
     },
     "output_type": "display_data"
    }
   ],
   "source": [
    "%matplotlib inline\n",
    "\n",
    "\n",
    "#Choose randomly number of vertex \n",
    "num_verts=d_verts[selected]\n",
    "figure_radius=550\n",
    "figure_center=wm_center \n",
    "\n",
    "\n",
    "#Choose randomly number of vertex \n",
    "first_angle= np.random.rand() * np.pi\n",
    "# first_angle = np.pi/4\n",
    "wm_size=wm_size\n",
    "\n",
    "figure_mask, figure_verts = gen_mask(num_verts,\n",
    "                       figure_radius,\n",
    "                       figure_center,\n",
    "                       first_angle,\n",
    "                       wm_size)\n",
    "\n",
    "plt.figure()\n",
    "plt.imshow((figure_mask))\n",
    "plt.gca().invert_yaxis()"
   ]
  },
  {
   "cell_type": "markdown",
   "id": "ee7541b6-0ed0-4627-849d-8a08af947248",
   "metadata": {},
   "source": [
    "### Впиши значение"
   ]
  },
  {
   "cell_type": "code",
   "execution_count": 568,
   "id": "8a799399-fea2-49de-a95c-50f430d975ef",
   "metadata": {},
   "outputs": [
    {
     "name": "stdout",
     "output_type": "stream",
     "text": [
      "3 5\n"
     ]
    }
   ],
   "source": [
    "# 0 - a 1 - b \n",
    "peak_amp      = 8\n",
    "baseline_stim = 3\n",
    "stim_amp      = peak_amp - baseline_stim\n",
    "\n",
    "print(baseline_stim, stim_amp)\n",
    "\n",
    "if selected in (1,2,3):\n",
    "    current_stim_group='stim'\n",
    "    \n",
    "if selected in (4,5,6):\n",
    "    current_stim_group='audio'"
   ]
  },
  {
   "cell_type": "code",
   "execution_count": 569,
   "id": "5e42b86f-03da-4fb7-899b-3a9360833330",
   "metadata": {},
   "outputs": [
    {
     "name": "stdout",
     "output_type": "stream",
     "text": [
      "22-04-07_19-18-48\n"
     ]
    },
    {
     "data": {
      "image/png": "[encoded data removed]",
      "text/plain": [
       "<Figure size 432x288 with 1 Axes>"
      ]
     },
     "metadata": {
      "needs_background": "light"
     },
     "output_type": "display_data"
    },
    {
     "name": "stdout",
     "output_type": "stream",
     "text": [
      "sss\n"
     ]
    },
    {
     "ename": "KeyboardInterrupt",
     "evalue": "",
     "output_type": "error",
     "traceback": [
      "\u001b[1;31m---------------------------------------------------------------------------\u001b[0m",
      "\u001b[1;31mKeyboardInterrupt\u001b[0m                         Traceback (most recent call last)",
      "\u001b[1;32m~\\AppData\\Local\\Temp/ipykernel_21696/3121411959.py\u001b[0m in \u001b[0;36m<module>\u001b[1;34m\u001b[0m\n\u001b[0;32m    135\u001b[0m         ===============================\\n''')\n\u001b[0;32m    136\u001b[0m         \u001b[1;32mfor\u001b[0m \u001b[0ml\u001b[0m \u001b[1;32min\u001b[0m \u001b[0mp1\u001b[0m\u001b[1;33m.\u001b[0m\u001b[0mstdout\u001b[0m\u001b[1;33m:\u001b[0m\u001b[1;33m\u001b[0m\u001b[1;33m\u001b[0m\u001b[0m\n\u001b[1;32m--> 137\u001b[1;33m             \u001b[0mline\u001b[0m \u001b[1;33m=\u001b[0m \u001b[0ml\u001b[0m\u001b[1;33m.\u001b[0m\u001b[0mdecode\u001b[0m\u001b[1;33m(\u001b[0m\u001b[0mencoding\u001b[0m\u001b[1;33m=\u001b[0m\u001b[1;34m\"utf-8\"\u001b[0m\u001b[1;33m,\u001b[0m \u001b[0merrors\u001b[0m\u001b[1;33m=\u001b[0m\u001b[1;34m\"ignore\"\u001b[0m\u001b[1;33m)\u001b[0m\u001b[1;33m.\u001b[0m\u001b[0mstrip\u001b[0m\u001b[1;33m(\u001b[0m\u001b[1;33m)\u001b[0m\u001b[1;33m\u001b[0m\u001b[1;33m\u001b[0m\u001b[0m\n\u001b[0m\u001b[0;32m    138\u001b[0m \u001b[1;33m\u001b[0m\u001b[0m\n\u001b[0;32m    139\u001b[0m             \u001b[1;31m#print(line)\u001b[0m\u001b[1;33m\u001b[0m\u001b[1;33m\u001b[0m\u001b[0m\n",
      "\u001b[1;31mKeyboardInterrupt\u001b[0m: "
     ]
    }
   ],
   "source": [
    "from datetime import datetime as dt\n",
    "import os\n",
    "import subprocess\n",
    "\n",
    "\n",
    "\n",
    "if selected in (1, 2, 3): #-- стимуляция\n",
    "\n",
    "    time_label = dt.now().strftime('%y-%m-%d_%H-%M-%S')\n",
    "    print(time_label)\n",
    "\n",
    "    plt.figure()\n",
    "    plt.imshow((figure_mask))\n",
    "    plt.gca().invert_yaxis()\n",
    "    plt.savefig(os.path.join('session', time_label + '_figure_mask.png'), dpi=300)\n",
    "    plt.show()\n",
    "    session_log_filename = os.path.join('session', time_label + '_session.log')\n",
    "\n",
    "    x, y = 0, 0\n",
    "    cmd = r'adb shell getevent -t /dev/input/event5'\n",
    "\n",
    "    toggle = 0;\n",
    "    toggle_prev = 0;\n",
    "    p1=subprocess.Popen(cmd,shell=True,stdout=subprocess.PIPE)\n",
    "\n",
    "    print('sss')\n",
    "\n",
    "    with open(session_log_filename, 'w+') as f:\n",
    "        f.write('Mode = area stim')\n",
    "        f.write(f'''\n",
    "        verts = {num_verts} \n",
    "        radius = {figure_radius} \n",
    "        center = {figure_center} \n",
    "        first_angle = {first_angle} \n",
    "        wm_size = {wm_size} \n",
    "        stim_amp = {stim_amp} \n",
    "        baseline_stim = {baseline_stim}\n",
    "        current_stim_group = {current_stim_group}\n",
    "        sense_zone = {0}\n",
    "        task_code = {selected}\n",
    "        ===============================\\n''')\n",
    "        for l in p1.stdout:\n",
    "            line = l.decode(encoding=\"utf-8\", errors=\"ignore\").strip()\n",
    "\n",
    "            #print(line)\n",
    "\n",
    "            if ' 0036 ' in line:\n",
    "                e = line.split(\" \")\n",
    "                x = e[-1]\n",
    "                x = int(x, 16)\n",
    "                #print(x) # 0 -- 900, но длинная стороны\n",
    "                if (y > 0) & (x>0):\n",
    "\n",
    "                    #For tpad\n",
    "                    #x_phys = int(np.round(x/800*1920))\n",
    "                    #y_phys = int(np.round(y/1280*1200))\n",
    "                    #print(str((x_phys,y_phys)))\n",
    "\n",
    "                    #For Samsung\n",
    "                    x_phys = x\n",
    "                    y_phys = y\n",
    "\n",
    "                    #print(str((x_phys,y_phys)))\n",
    "                    toggle = figure_mask[y_phys, x_phys]\n",
    "                    f.write(str(dt.now()) + ' ' + str(toggle) + ' ' + str(line) + '\\n')\n",
    "\n",
    "\n",
    "\n",
    "            if  ' 0035 ' in line:\n",
    "                e = line.split(\" \")\n",
    "                y = e[-1]\n",
    "                y = int(y, 16)\n",
    "                #print(y)\n",
    "                if (y > 0) & (x>0):\n",
    "                    p = (x, y)    \n",
    "\n",
    "                    #For tpad\n",
    "                    #x_phys = int(np.round(x/800*1920))\n",
    "                    #y_phys = int(np.round(y/1280*1200))\n",
    "                    #print(str((x_phys,y_phys)))\n",
    "\n",
    "                    #For Samsung\n",
    "                    x_phys = x\n",
    "                    y_phys = y\n",
    "\n",
    "                    toggle = figure_mask[y_phys, x_phys]\n",
    "\n",
    "                    #print(f'{x:04d}, {y:04d} {toggle}', line, end='\\r')\n",
    "                    f.write(str(dt.now()) + ' ' + str(toggle) + ' ' + str(line) + '\\n')\n",
    "\n",
    "                    if toggle!=toggle_prev:\n",
    "                        # print(str(toggle)+'   '+str(x)+'     '+str(y), end='\\r');\n",
    "                        toggle_prev = toggle\n",
    "                        #slides[current_stim_group].set_value(toggle*stim_amp+baseline_stim)\n",
    "\n",
    "                        st=toggle*stim_amp+baseline_stim\n",
    "\n",
    "                        mm.UpdateChannelSettings(newAmplitudes=[ st], newPulses=[150], pulseModes=[0])\n",
    "\n",
    "                        while p1.stdout.tell() < -200:\n",
    "                            p1.stdout.readline()\n",
    "\n",
    "if selected in (4, 5, 6):\n",
    "    \n",
    "    time_label = dt.now().strftime('%y-%m-%d_%H-%M-%S')\n",
    "    print(time_label)\n",
    "    plt.figure()\n",
    "    plt.imshow((figure_mask))\n",
    "    plt.gca().invert_yaxis()\n",
    "    plt.savefig(os.path.join('session', time_label + '_figure_mask.png'), dpi=300)\n",
    "    plt.show()\n",
    "    session_log_filename = os.path.join('session', time_label + '_session.log')\n",
    "\n",
    "    x, y = 0, 0\n",
    "    cmd = r'adb shell getevent -t /dev/input/event5'\n",
    "\n",
    "    toggle = 0;\n",
    "    toggle_prev = 0;\n",
    "    p1=subprocess.Popen(cmd,shell=True,stdout=subprocess.PIPE)\n",
    "\n",
    "    print('sss')\n",
    "\n",
    "    with open(session_log_filename, 'w+') as f:\n",
    "        f.write('Mode = area stim')\n",
    "        f.write(f'''\n",
    "        verts = {num_verts} \n",
    "        radius = {figure_radius} \n",
    "        center = {figure_center} \n",
    "        first_angle = {first_angle} \n",
    "        wm_size = {wm_size} \n",
    "        stim_amp = {stim_amp} \n",
    "        baseline_stim = {baseline_stim}\n",
    "        current_stim_group = {current_stim_group}\n",
    "        sense_zone = {0}\n",
    "        ===============================\\n''')\n",
    "        for l in p1.stdout:\n",
    "            line = l.decode(encoding=\"utf-8\", errors=\"ignore\").strip()\n",
    "\n",
    "            #print(line)\n",
    "\n",
    "            if ' 0036 ' in line:\n",
    "                e = line.split(\" \")\n",
    "                x = e[-1]\n",
    "                x = int(x, 16)\n",
    "                #print(x) # 0 -- 900, но длинная стороны\n",
    "                if (y > 0) & (x>0):\n",
    "\n",
    "                    #For tpad\n",
    "                    #x_phys = int(np.round(x/800*1920))\n",
    "                    #y_phys = int(np.round(y/1280*1200))\n",
    "                    #print(str((x_phys,y_phys)))\n",
    "\n",
    "                    #For Samsung\n",
    "                    x_phys = x\n",
    "                    y_phys = y\n",
    "\n",
    "\n",
    "                    toggle = figure_mask[y_phys, x_phys]\n",
    "                    f.write(str(dt.now()) + ' ' + str(toggle) + ' ' + str(line) + '\\n')\n",
    "\n",
    "            if  ' 0035 ' in line:\n",
    "                e = line.split(\" \")\n",
    "                y = e[-1]\n",
    "                y = int(y, 16)\n",
    "                #print(y)\n",
    "                if (y > 0) & (x>0):\n",
    "                    p = (x, y)    \n",
    "\n",
    "                    #For tpad\n",
    "                    #x_phys = int(np.round(x/800*1920))\n",
    "                    #y_phys = int(np.round(y/1280*1200))\n",
    "                    #print(str((x_phys,y_phys)))\n",
    "\n",
    "                    #For Samsung\n",
    "                    x_phys = x\n",
    "                    y_phys = y\n",
    "\n",
    "                    toggle = figure_mask[y_phys, x_phys]\n",
    "                    rev = toggle\n",
    "                        #slides[current_stim_group].set_value(toggle*stim_amp+baseline_stim)\n",
    "\n",
    "                    #print(f'{x:04d}, {y:04d} {toggle}', line, end='\\r')\n",
    "                    f.write(str(dt.now()) + ' ' + str(toggle) + ' ' + str(line) + '\\n')\n",
    "\n",
    "                    if toggle!=toggle_prev:\n",
    "                        # print(str(toggle)+'   '+str(x)+'     '+str(y), end='\\r');\n",
    "                        toggle_prev=toggle\n",
    "                        #st=toggle*stim_amp+baseline_stim\n",
    "\n",
    "                        if toggle:\n",
    "                            mixer.music.play()\n",
    "                        else:\n",
    "                            mixer.music.stop()\n",
    "\n",
    "                        while p1.stdout.tell() < -200:\n",
    "                            p1.stdout.readline()\n"
   ]
  },
  {
   "cell_type": "code",
   "execution_count": null,
   "id": "6d2b83d1-7575-4f66-b257-ff133e6a8c5e",
   "metadata": {},
   "outputs": [],
   "source": []
  },
  {
   "cell_type": "code",
   "execution_count": 570,
   "id": "53e7c155-03fe-4f61-8bd3-683b160a34e9",
   "metadata": {},
   "outputs": [],
   "source": [
    "#Конец трайала\n",
    "\n",
    "if selected in (1,2,3):\n",
    "    mm.StopDevice()\n",
    "\n",
    "if selected in (4,5,6):\n",
    "    \n",
    "    mixer.music.stop()"
   ]
  },
  {
   "cell_type": "code",
   "execution_count": null,
   "id": "68420e92-636b-4485-adf5-01f25b03790a",
   "metadata": {},
   "outputs": [],
   "source": []
  },
  {
   "cell_type": "markdown",
   "id": "42131172-9f47-45ce-a18c-ae5278db5975",
   "metadata": {},
   "source": [
    "Удалить трайал"
   ]
  },
  {
   "cell_type": "code",
   "execution_count": 571,
   "id": "c4bc8e89-1bab-491d-87ab-3416aaedda68",
   "metadata": {},
   "outputs": [],
   "source": [
    "trials.remove(selected)"
   ]
  },
  {
   "cell_type": "code",
   "execution_count": 572,
   "id": "6aead5c0-6443-4d5f-8940-025079da9e04",
   "metadata": {},
   "outputs": [],
   "source": [
    "with open(session_log_filename, 'a') as f:\n",
    "    f.write('Success \\n')"
   ]
  },
  {
   "cell_type": "code",
   "execution_count": 573,
   "id": "7e1e29d7-c45a-47f2-8cfb-d255e9f9883c",
   "metadata": {},
   "outputs": [
    {
     "data": {
      "text/plain": [
       "[]"
      ]
     },
     "execution_count": 573,
     "metadata": {},
     "output_type": "execute_result"
    }
   ],
   "source": [
    "trials"
   ]
  },
  {
   "cell_type": "code",
   "execution_count": null,
   "id": "b05f543b-fefe-4cb0-a331-db4f716a6966",
   "metadata": {},
   "outputs": [],
   "source": []
  },
  {
   "cell_type": "code",
   "execution_count": null,
   "id": "b9393188-f8b5-4bf0-a83a-2f090d837563",
   "metadata": {},
   "outputs": [],
   "source": []
  },
  {
   "cell_type": "code",
   "execution_count": null,
   "id": "ddc6d1ba-3a59-4145-ac1b-2c37afede425",
   "metadata": {},
   "outputs": [],
   "source": []
  }
 ],
 "metadata": {
  "kernelspec": {
   "display_name": "Python 3 (ipykernel)",
   "language": "python",
   "name": "python3"
  },
  "language_info": {
   "codemirror_mode": {
    "name": "ipython",
    "version": 3
   },
   "file_extension": ".py",
   "mimetype": "text/x-python",
   "name": "python",
   "nbconvert_exporter": "python",
   "pygments_lexer": "ipython3",
   "version": "3.10.0"
  }
 },
 "nbformat": 4,
 "nbformat_minor": 5
}
