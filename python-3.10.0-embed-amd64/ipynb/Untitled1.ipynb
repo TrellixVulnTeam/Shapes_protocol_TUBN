{
 "cells": [
  {
   "cell_type": "code",
   "execution_count": 1,
   "id": "21e4f234-f5e1-4920-bba4-37bae75f235f",
   "metadata": {},
   "outputs": [],
   "source": [
    "%config Completer.use_jedi = False\n",
    "\n",
    "import pywinauto"
   ]
  },
  {
   "cell_type": "code",
   "execution_count": 2,
   "id": "f40c79a2-7857-4577-95a4-81f877b9beb4",
   "metadata": {},
   "outputs": [
    {
     "data": {
      "text/plain": [
       "['Taskbar',\n",
       " 'ipynb/Untitled1 (3) - JupyterLab - Google Chrome',\n",
       " 'NIM Eclipse E4',\n",
       " 'Windows PowerShell',\n",
       " 'python-3.10.0-embed-amd64',\n",
       " 'Downloads',\n",
       " 'How to Install ADB on Windows, macOS, and Linux and 2 more pages \\u200e- Microsoft Edge',\n",
       " 'Program Manager']"
      ]
     },
     "execution_count": 2,
     "metadata": {},
     "output_type": "execute_result"
    }
   ],
   "source": [
    "from pywinauto import Desktop\n",
    "\n",
    "windows = Desktop(backend='uia').windows()\n",
    "[w.window_text() for w in windows]"
   ]
  },
  {
   "cell_type": "code",
   "execution_count": 3,
   "id": "0bd00aec-1dc5-45ab-9efb-831c45f5c4fc",
   "metadata": {},
   "outputs": [],
   "source": [
    "from pywinauto.application import Application\n",
    "app = Application(backend='uia')\n",
    "app = app.connect(title='NIM Eclipse E4')"
   ]
  },
  {
   "cell_type": "code",
   "execution_count": 4,
   "id": "7b93ff41-dcf1-4820-9744-18824435864f",
   "metadata": {},
   "outputs": [],
   "source": [
    "win = app.window()"
   ]
  },
  {
   "cell_type": "code",
   "execution_count": 5,
   "id": "67429fcd-ef51-4993-b159-251bde3e394d",
   "metadata": {},
   "outputs": [],
   "source": [
    "slides=[]\n",
    "for i in range(8):\n",
    "    zzz=app.window(found_index=0).child_window(class_name_re='Slider', found_index=i).wrapper_object()\n",
    "    slides.append(zzz)\n",
    "    "
   ]
  },
  {
   "cell_type": "code",
   "execution_count": 6,
   "id": "9526df3c-894c-493a-bca1-74119872cb50",
   "metadata": {},
   "outputs": [
    {
     "name": "stdout",
     "output_type": "stream",
     "text": [
      "Wall time: 0 ns\n"
     ]
    }
   ],
   "source": [
    "%%time\n",
    "if isinstance(1.1, float):\n",
    "    a=1"
   ]
  },
  {
   "cell_type": "code",
   "execution_count": null,
   "id": "3aa06672-f291-4f31-8617-ae50bcffd98e",
   "metadata": {},
   "outputs": [],
   "source": []
  },
  {
   "cell_type": "code",
   "execution_count": 7,
   "id": "c984d739-05f0-4e2b-afdd-4848db1bac92",
   "metadata": {},
   "outputs": [],
   "source": [
    "for i in range(8):\n",
    "    slides[i].draw_outline()\n",
    "    "
   ]
  },
  {
   "cell_type": "code",
   "execution_count": 8,
   "id": "b90c4904-8325-4313-b97b-c4669cffbab0",
   "metadata": {},
   "outputs": [
    {
     "name": "stdout",
     "output_type": "stream",
     "text": [
      "Wall time: 548 ms\n"
     ]
    }
   ],
   "source": [
    "%%time\n",
    "slides[0].set_value(1.0)\n",
    "slides[1].set_value(1.0)\n",
    "slides[2].set_value(1.0)\n",
    "slides[3].set_value(1.0)\n",
    "slides[4].set_value(1.0)\n",
    "slides[5].set_value(1.0)\n",
    "slides[6].set_value(1.0)\n",
    "slides[7].set_value(1.0)"
   ]
  },
  {
   "cell_type": "code",
   "execution_count": 22,
   "id": "5889f1f2-18ac-47bb-ae9c-48688f7284ff",
   "metadata": {},
   "outputs": [
    {
     "ename": "NameError",
     "evalue": "name 'six' is not defined",
     "output_type": "error",
     "traceback": [
      "\u001b[1;31m---------------------------------------------------------------------------\u001b[0m",
      "\u001b[1;31mNameError\u001b[0m                                 Traceback (most recent call last)",
      "\u001b[1;32m~\\AppData\\Local\\Temp/ipykernel_5276/2391712638.py\u001b[0m in \u001b[0;36m<module>\u001b[1;34m\u001b[0m\n\u001b[1;32m----> 1\u001b[1;33m \u001b[0msix\u001b[0m\u001b[1;33m.\u001b[0m\u001b[0minteger_types\u001b[0m\u001b[1;33m\u001b[0m\u001b[1;33m\u001b[0m\u001b[0m\n\u001b[0m",
      "\u001b[1;31mNameError\u001b[0m: name 'six' is not defined"
     ]
    }
   ],
   "source": [
    "six.integer_types"
   ]
  },
  {
   "cell_type": "code",
   "execution_count": 5,
   "id": "8f3a2e79-e9d8-486f-bd43-7c017e83cbf7",
   "metadata": {
    "tags": []
   },
   "outputs": [
    {
     "ename": "KeyboardInterrupt",
     "evalue": "",
     "output_type": "error",
     "traceback": [
      "\u001b[1;31m---------------------------------------------------------------------------\u001b[0m",
      "\u001b[1;31mKeyboardInterrupt\u001b[0m                         Traceback (most recent call last)",
      "\u001b[1;32m~\\AppData\\Local\\Temp/ipykernel_7260/1051933500.py\u001b[0m in \u001b[0;36m<module>\u001b[1;34m\u001b[0m\n\u001b[1;32m----> 1\u001b[1;33m \u001b[0mwin\u001b[0m\u001b[1;33m.\u001b[0m\u001b[0mprint_control_identifiers\u001b[0m\u001b[1;33m(\u001b[0m\u001b[1;33m)\u001b[0m\u001b[1;33m\u001b[0m\u001b[1;33m\u001b[0m\u001b[0m\n\u001b[0m",
      "\u001b[1;32m~\\Desktop\\python-3.10.0-embed-amd64\\lib\\site-packages\\pywinauto\\application.py\u001b[0m in \u001b[0;36mprint_control_identifiers\u001b[1;34m(self, depth, filename)\u001b[0m\n\u001b[0;32m    622\u001b[0m         \u001b[0mname_ctrl_id_map\u001b[0m \u001b[1;33m=\u001b[0m \u001b[0mfindbestmatch\u001b[0m\u001b[1;33m.\u001b[0m\u001b[0mUniqueDict\u001b[0m\u001b[1;33m(\u001b[0m\u001b[1;33m)\u001b[0m\u001b[1;33m\u001b[0m\u001b[1;33m\u001b[0m\u001b[0m\n\u001b[0;32m    623\u001b[0m         \u001b[1;32mfor\u001b[0m \u001b[0mindex\u001b[0m\u001b[1;33m,\u001b[0m \u001b[0mctrl\u001b[0m \u001b[1;32min\u001b[0m \u001b[0menumerate\u001b[0m\u001b[1;33m(\u001b[0m\u001b[0mall_ctrls\u001b[0m\u001b[1;33m)\u001b[0m\u001b[1;33m:\u001b[0m\u001b[1;33m\u001b[0m\u001b[1;33m\u001b[0m\u001b[0m\n\u001b[1;32m--> 624\u001b[1;33m             \u001b[0mctrl_names\u001b[0m \u001b[1;33m=\u001b[0m \u001b[0mfindbestmatch\u001b[0m\u001b[1;33m.\u001b[0m\u001b[0mget_control_names\u001b[0m\u001b[1;33m(\u001b[0m\u001b[0mctrl\u001b[0m\u001b[1;33m,\u001b[0m \u001b[0mall_ctrls\u001b[0m\u001b[1;33m,\u001b[0m \u001b[0mtxt_ctrls\u001b[0m\u001b[1;33m)\u001b[0m\u001b[1;33m\u001b[0m\u001b[1;33m\u001b[0m\u001b[0m\n\u001b[0m\u001b[0;32m    625\u001b[0m             \u001b[1;32mfor\u001b[0m \u001b[0mname\u001b[0m \u001b[1;32min\u001b[0m \u001b[0mctrl_names\u001b[0m\u001b[1;33m:\u001b[0m\u001b[1;33m\u001b[0m\u001b[1;33m\u001b[0m\u001b[0m\n\u001b[0;32m    626\u001b[0m                 \u001b[0mname_ctrl_id_map\u001b[0m\u001b[1;33m[\u001b[0m\u001b[0mname\u001b[0m\u001b[1;33m]\u001b[0m \u001b[1;33m=\u001b[0m \u001b[0mindex\u001b[0m\u001b[1;33m\u001b[0m\u001b[1;33m\u001b[0m\u001b[0m\n",
      "\u001b[1;32m~\\Desktop\\python-3.10.0-embed-amd64\\lib\\site-packages\\pywinauto\\findbestmatch.py\u001b[0m in \u001b[0;36mget_control_names\u001b[1;34m(control, allcontrols, textcontrols)\u001b[0m\n\u001b[0;32m    318\u001b[0m \u001b[1;33m\u001b[0m\u001b[0m\n\u001b[0;32m    319\u001b[0m         \u001b[1;31m# so find the text of the nearest text visible control\u001b[0m\u001b[1;33m\u001b[0m\u001b[1;33m\u001b[0m\u001b[0m\n\u001b[1;32m--> 320\u001b[1;33m         \u001b[0mnon_text_names\u001b[0m \u001b[1;33m=\u001b[0m \u001b[0mget_non_text_control_name\u001b[0m\u001b[1;33m(\u001b[0m\u001b[0mcontrol\u001b[0m\u001b[1;33m,\u001b[0m \u001b[0mallcontrols\u001b[0m\u001b[1;33m,\u001b[0m \u001b[0mtextcontrols\u001b[0m\u001b[1;33m)\u001b[0m\u001b[1;33m\u001b[0m\u001b[1;33m\u001b[0m\u001b[0m\n\u001b[0m\u001b[0;32m    321\u001b[0m \u001b[1;33m\u001b[0m\u001b[0m\n\u001b[0;32m    322\u001b[0m         \u001b[1;31m# and if one was found - add it\u001b[0m\u001b[1;33m\u001b[0m\u001b[1;33m\u001b[0m\u001b[0m\n",
      "\u001b[1;32m~\\Desktop\\python-3.10.0-embed-amd64\\lib\\site-packages\\pywinauto\\findbestmatch.py\u001b[0m in \u001b[0;36mget_non_text_control_name\u001b[1;34m(ctrl, controls, text_ctrls)\u001b[0m\n\u001b[0;32m    277\u001b[0m             \u001b[1;31m#    best_name = ctrl_friendly_class_name + ' '.join(text_ctrl.texts()[1:2])\u001b[0m\u001b[1;33m\u001b[0m\u001b[1;33m\u001b[0m\u001b[0m\n\u001b[0;32m    278\u001b[0m             \u001b[1;31m#else:\u001b[0m\u001b[1;33m\u001b[0m\u001b[1;33m\u001b[0m\u001b[0m\n\u001b[1;32m--> 279\u001b[1;33m             \u001b[0mctrl_text\u001b[0m \u001b[1;33m=\u001b[0m \u001b[0mtext_ctrl\u001b[0m\u001b[1;33m.\u001b[0m\u001b[0mwindow_text\u001b[0m\u001b[1;33m(\u001b[0m\u001b[1;33m)\u001b[0m\u001b[1;33m\u001b[0m\u001b[1;33m\u001b[0m\u001b[0m\n\u001b[0m\u001b[0;32m    280\u001b[0m             \u001b[1;32mif\u001b[0m \u001b[0mctrl_text\u001b[0m \u001b[1;32mis\u001b[0m \u001b[1;32mNone\u001b[0m\u001b[1;33m:\u001b[0m\u001b[1;33m\u001b[0m\u001b[1;33m\u001b[0m\u001b[0m\n\u001b[0;32m    281\u001b[0m                 \u001b[1;31m# the control probably doesn't exist so skip it\u001b[0m\u001b[1;33m\u001b[0m\u001b[1;33m\u001b[0m\u001b[0m\n",
      "\u001b[1;32m~\\Desktop\\python-3.10.0-embed-amd64\\lib\\site-packages\\pywinauto\\base_wrapper.py\u001b[0m in \u001b[0;36mwindow_text\u001b[1;34m(self)\u001b[0m\n\u001b[0;32m    291\u001b[0m         \u001b[0mhave\u001b[0m \u001b[0mtext\u001b[0m \u001b[0mdisplayed\u001b[0m \u001b[1;32min\u001b[0m \u001b[0mthe\u001b[0m \u001b[0medit\u001b[0m \u001b[0mwindow\u001b[0m\u001b[1;33m.\u001b[0m\u001b[1;33m\u001b[0m\u001b[1;33m\u001b[0m\u001b[0m\n\u001b[0;32m    292\u001b[0m         \"\"\"\n\u001b[1;32m--> 293\u001b[1;33m         \u001b[1;32mreturn\u001b[0m \u001b[0mself\u001b[0m\u001b[1;33m.\u001b[0m\u001b[0melement_info\u001b[0m\u001b[1;33m.\u001b[0m\u001b[0mrich_text\u001b[0m\u001b[1;33m\u001b[0m\u001b[1;33m\u001b[0m\u001b[0m\n\u001b[0m\u001b[0;32m    294\u001b[0m \u001b[1;33m\u001b[0m\u001b[0m\n\u001b[0;32m    295\u001b[0m     \u001b[1;31m#------------------------------------------------------------\u001b[0m\u001b[1;33m\u001b[0m\u001b[1;33m\u001b[0m\u001b[0m\n",
      "\u001b[1;32m~\\Desktop\\python-3.10.0-embed-amd64\\lib\\site-packages\\pywinauto\\uia_element_info.py\u001b[0m in \u001b[0;36mrich_text\u001b[1;34m(self)\u001b[0m\n\u001b[0;32m    352\u001b[0m     \u001b[1;32mdef\u001b[0m \u001b[0mrich_text\u001b[0m\u001b[1;33m(\u001b[0m\u001b[0mself\u001b[0m\u001b[1;33m)\u001b[0m\u001b[1;33m:\u001b[0m\u001b[1;33m\u001b[0m\u001b[1;33m\u001b[0m\u001b[0m\n\u001b[0;32m    353\u001b[0m         \u001b[1;34m\"\"\"Return rich_text of the element\"\"\"\u001b[0m\u001b[1;33m\u001b[0m\u001b[1;33m\u001b[0m\u001b[0m\n\u001b[1;32m--> 354\u001b[1;33m         \u001b[1;32mreturn\u001b[0m \u001b[0mself\u001b[0m\u001b[1;33m.\u001b[0m\u001b[0m_get_rich_text\u001b[0m\u001b[1;33m(\u001b[0m\u001b[1;33m)\u001b[0m\u001b[1;33m\u001b[0m\u001b[1;33m\u001b[0m\u001b[0m\n\u001b[0m\u001b[0;32m    355\u001b[0m \u001b[1;33m\u001b[0m\u001b[0m\n\u001b[0;32m    356\u001b[0m     \u001b[1;32mdef\u001b[0m \u001b[0m__eq__\u001b[0m\u001b[1;33m(\u001b[0m\u001b[0mself\u001b[0m\u001b[1;33m,\u001b[0m \u001b[0mother\u001b[0m\u001b[1;33m)\u001b[0m\u001b[1;33m:\u001b[0m\u001b[1;33m\u001b[0m\u001b[1;33m\u001b[0m\u001b[0m\n",
      "\u001b[1;32m~\\Desktop\\python-3.10.0-embed-amd64\\lib\\site-packages\\pywinauto\\uia_element_info.py\u001b[0m in \u001b[0;36m_get_current_rich_text\u001b[1;34m(self)\u001b[0m\n\u001b[0;32m    152\u001b[0m             \u001b[1;32mreturn\u001b[0m \u001b[0mself\u001b[0m\u001b[1;33m.\u001b[0m\u001b[0mname\u001b[0m\u001b[1;33m\u001b[0m\u001b[1;33m\u001b[0m\u001b[0m\n\u001b[0;32m    153\u001b[0m         \u001b[1;32mtry\u001b[0m\u001b[1;33m:\u001b[0m\u001b[1;33m\u001b[0m\u001b[1;33m\u001b[0m\u001b[0m\n\u001b[1;32m--> 154\u001b[1;33m             \u001b[0mpattern\u001b[0m \u001b[1;33m=\u001b[0m \u001b[0mget_elem_interface\u001b[0m\u001b[1;33m(\u001b[0m\u001b[0mself\u001b[0m\u001b[1;33m.\u001b[0m\u001b[0m_element\u001b[0m\u001b[1;33m,\u001b[0m \u001b[1;34m\"Text\"\u001b[0m\u001b[1;33m)\u001b[0m\u001b[1;33m\u001b[0m\u001b[1;33m\u001b[0m\u001b[0m\n\u001b[0m\u001b[0;32m    155\u001b[0m             \u001b[1;32mreturn\u001b[0m \u001b[0mpattern\u001b[0m\u001b[1;33m.\u001b[0m\u001b[0mDocumentRange\u001b[0m\u001b[1;33m.\u001b[0m\u001b[0mGetText\u001b[0m\u001b[1;33m(\u001b[0m\u001b[1;33m-\u001b[0m\u001b[1;36m1\u001b[0m\u001b[1;33m)\u001b[0m\u001b[1;33m\u001b[0m\u001b[1;33m\u001b[0m\u001b[0m\n\u001b[0;32m    156\u001b[0m         \u001b[1;32mexcept\u001b[0m \u001b[0mException\u001b[0m\u001b[1;33m:\u001b[0m\u001b[1;33m\u001b[0m\u001b[1;33m\u001b[0m\u001b[0m\n",
      "\u001b[1;32m~\\Desktop\\python-3.10.0-embed-amd64\\lib\\site-packages\\pywinauto\\uia_defines.py\u001b[0m in \u001b[0;36mget_elem_interface\u001b[1;34m(element_info, pattern_name)\u001b[0m\n\u001b[0;32m    231\u001b[0m     \u001b[1;31m# Get the interface\u001b[0m\u001b[1;33m\u001b[0m\u001b[1;33m\u001b[0m\u001b[0m\n\u001b[0;32m    232\u001b[0m     \u001b[1;32mtry\u001b[0m\u001b[1;33m:\u001b[0m\u001b[1;33m\u001b[0m\u001b[1;33m\u001b[0m\u001b[0m\n\u001b[1;32m--> 233\u001b[1;33m         \u001b[0mcur_ptrn\u001b[0m \u001b[1;33m=\u001b[0m \u001b[0melement_info\u001b[0m\u001b[1;33m.\u001b[0m\u001b[0mGetCurrentPattern\u001b[0m\u001b[1;33m(\u001b[0m\u001b[0mptrn_id\u001b[0m\u001b[1;33m)\u001b[0m\u001b[1;33m\u001b[0m\u001b[1;33m\u001b[0m\u001b[0m\n\u001b[0m\u001b[0;32m    234\u001b[0m         \u001b[0miface\u001b[0m \u001b[1;33m=\u001b[0m \u001b[0mcur_ptrn\u001b[0m\u001b[1;33m.\u001b[0m\u001b[0mQueryInterface\u001b[0m\u001b[1;33m(\u001b[0m\u001b[0mcls_name\u001b[0m\u001b[1;33m)\u001b[0m\u001b[1;33m\u001b[0m\u001b[1;33m\u001b[0m\u001b[0m\n\u001b[0;32m    235\u001b[0m     \u001b[1;32mexcept\u001b[0m\u001b[1;33m(\u001b[0m\u001b[0mValueError\u001b[0m\u001b[1;33m)\u001b[0m\u001b[1;33m:\u001b[0m\u001b[1;33m\u001b[0m\u001b[1;33m\u001b[0m\u001b[0m\n",
      "\u001b[1;31mKeyboardInterrupt\u001b[0m: "
     ]
    }
   ],
   "source": [
    "# win.print_control_identifiers()"
   ]
  },
  {
   "cell_type": "code",
   "execution_count": 6,
   "id": "6e9c8baa-892e-40f5-8501-ae6671c85624",
   "metadata": {},
   "outputs": [],
   "source": [
    "def get_slider(label):\n",
    "    h = win.child_window(title=label, control_type=\"Edit\")\n",
    "    w = h.wrapper_object()\n",
    "    p = w.parent()\n",
    "    p.children_texts()\n",
    "    v = p.children()[-4] # slider\n",
    "    return v"
   ]
  },
  {
   "cell_type": "code",
   "execution_count": 7,
   "id": "b34d9c38-d800-45f8-a5ec-cf573c81fdaf",
   "metadata": {},
   "outputs": [],
   "source": [
    "sliders = [get_slider(c) for c in ['A', 'B', 'C', 'D', 'E', 'F', 'G', 'H']]"
   ]
  },
  {
   "cell_type": "code",
   "execution_count": 13,
   "id": "9b14cbe8-db37-448c-89fd-6cb7f21d02a0",
   "metadata": {},
   "outputs": [
    {
     "name": "stdout",
     "output_type": "stream",
     "text": [
      "Wall time: 674 ms\n"
     ]
    },
    {
     "data": {
      "text/plain": [
       "<uia_controls.EditWrapper - '1', Edit, -7642654999922521625>"
      ]
     },
     "execution_count": 13,
     "metadata": {},
     "output_type": "execute_result"
    }
   ],
   "source": [
    "%%time\n",
    "for i, s in enumerate(sliders):\n",
    "    s.select()\n",
    "    s.type_keys(1)\n",
    "\n",
    "sliders[0].select()"
   ]
  },
  {
   "cell_type": "code",
   "execution_count": 12,
   "id": "94a59562-db54-43a0-80fd-a27ea696530c",
   "metadata": {},
   "outputs": [
    {
     "data": {
      "text/plain": [
       "<uia_controls.EditWrapper - '10', Edit, -6945984289784874620>"
      ]
     },
     "execution_count": 12,
     "metadata": {},
     "output_type": "execute_result"
    }
   ],
   "source": [
    "s.type_keys(0)"
   ]
  },
  {
   "cell_type": "code",
   "execution_count": 15,
   "id": "23fb7df8-8bee-4fad-8601-f1554bf0e1a4",
   "metadata": {},
   "outputs": [
    {
     "data": {
      "text/plain": [
       "<uia_controls.EditWrapper - '1', Edit, -6945984289784874620>"
      ]
     },
     "execution_count": 15,
     "metadata": {},
     "output_type": "execute_result"
    }
   ],
   "source": [
    "s"
   ]
  },
  {
   "cell_type": "code",
   "execution_count": null,
   "id": "7e4c8b7f-170e-48e0-8172-23b7c6cf095e",
   "metadata": {},
   "outputs": [],
   "source": []
  }
 ],
 "metadata": {
  "kernelspec": {
   "display_name": "Python 3 (ipykernel)",
   "language": "python",
   "name": "python3"
  },
  "language_info": {
   "codemirror_mode": {
    "name": "ipython",
    "version": 3
   },
   "file_extension": ".py",
   "mimetype": "text/x-python",
   "name": "python",
   "nbconvert_exporter": "python",
   "pygments_lexer": "ipython3",
   "version": "3.10.0"
  }
 },
 "nbformat": 4,
 "nbformat_minor": 5
}
