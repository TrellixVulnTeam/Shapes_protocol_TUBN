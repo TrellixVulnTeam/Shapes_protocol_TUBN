{
 "cells": [
  {
   "cell_type": "code",
   "execution_count": 1,
   "id": "21e4f234-f5e1-4920-bba4-37bae75f235f",
   "metadata": {},
   "outputs": [],
   "source": [
    "%config Completer.use_jedi = False\n",
    "\n",
    "import pywinauto"
   ]
  },
  {
   "cell_type": "code",
   "execution_count": 2,
   "id": "f40c79a2-7857-4577-95a4-81f877b9beb4",
   "metadata": {},
   "outputs": [
    {
     "data": {
      "text/plain": [
       "['Панель задач',\n",
       " 'Untitled1 - Jupyter Notebook и еще 6 страниц — Личный: Microsoft\\u200b Edge',\n",
       " 'Командная строка - python  Scripts\\\\jupyter-notebook.exe',\n",
       " 'Scripts',\n",
       " 'Командная строка',\n",
       " 'faces.psyexp - PsychoPy Builder (v2022.1.1)',\n",
       " 'C:\\\\Program Files\\\\PsychoPy\\\\python.exe',\n",
       " 'C:\\\\Users\\\\CBI\\\\Desktop\\\\Noninvasive\\\\Shapes_protocol\\\\python-3.10.0-embed-amd64\\\\etc\\\\jupyter\\\\jupyter_notebook_config.d\\\\jupyterlab.json - Sublime Text (UNREGISTERED)',\n",
       " 'pip - Installing python module within code - Stack Overflow - Google Chrome',\n",
       " 'Program Manager']"
      ]
     },
     "execution_count": 2,
     "metadata": {},
     "output_type": "execute_result"
    }
   ],
   "source": [
    "from pywinauto import Desktop\n",
    "\n",
    "windows = Desktop(backend='uia').windows()\n",
    "[w.window_text() for w in windows]"
   ]
  },
  {
   "cell_type": "code",
   "execution_count": 4,
   "id": "0bd00aec-1dc5-45ab-9efb-831c45f5c4fc",
   "metadata": {},
   "outputs": [],
   "source": [
    "from pywinauto.application import Application\n",
    "app = Application(backend='uia')\n",
    "app = app.connect(title='NIM Eclipse E4')"
   ]
  },
  {
   "cell_type": "code",
   "execution_count": 5,
   "id": "7b93ff41-dcf1-4820-9744-18824435864f",
   "metadata": {},
   "outputs": [
    {
     "ename": "AppNotConnected",
     "evalue": "Please use start or connect before trying anything else",
     "output_type": "error",
     "traceback": [
      "\u001b[1;31m---------------------------------------------------------------------------\u001b[0m",
      "\u001b[1;31mAppNotConnected\u001b[0m                           Traceback (most recent call last)",
      "\u001b[1;32m~\\AppData\\Local\\Temp/ipykernel_17164/3608225531.py\u001b[0m in \u001b[0;36m<module>\u001b[1;34m\u001b[0m\n\u001b[1;32m----> 1\u001b[1;33m \u001b[0mwin\u001b[0m \u001b[1;33m=\u001b[0m \u001b[0mapp\u001b[0m\u001b[1;33m.\u001b[0m\u001b[0mwindow\u001b[0m\u001b[1;33m(\u001b[0m\u001b[1;33m)\u001b[0m\u001b[1;33m\u001b[0m\u001b[1;33m\u001b[0m\u001b[0m\n\u001b[0m",
      "\u001b[1;32m~\\Desktop\\Noninvasive\\Shapes_protocol\\python-3.10.0-embed-amd64\\lib\\site-packages\\pywinauto\\application.py\u001b[0m in \u001b[0;36mwindow\u001b[1;34m(self, **kwargs)\u001b[0m\n\u001b[0;32m   1224\u001b[0m \u001b[1;33m\u001b[0m\u001b[0m\n\u001b[0;32m   1225\u001b[0m         \u001b[1;32mif\u001b[0m \u001b[1;32mnot\u001b[0m \u001b[0mself\u001b[0m\u001b[1;33m.\u001b[0m\u001b[0mprocess\u001b[0m\u001b[1;33m:\u001b[0m\u001b[1;33m\u001b[0m\u001b[1;33m\u001b[0m\u001b[0m\n\u001b[1;32m-> 1226\u001b[1;33m             raise AppNotConnected(\"Please use start or connect before trying \"\n\u001b[0m\u001b[0;32m   1227\u001b[0m                                   \"anything else\")\n\u001b[0;32m   1228\u001b[0m         \u001b[1;32melse\u001b[0m\u001b[1;33m:\u001b[0m\u001b[1;33m\u001b[0m\u001b[1;33m\u001b[0m\u001b[0m\n",
      "\u001b[1;31mAppNotConnected\u001b[0m: Please use start or connect before trying anything else"
     ]
    }
   ],
   "source": [
    "win = app.window()"
   ]
  },
  {
   "cell_type": "code",
   "execution_count": 5,
   "id": "67429fcd-ef51-4993-b159-251bde3e394d",
   "metadata": {},
   "outputs": [],
   "source": [
    "slides=[]\n",
    "for i in range(8):\n",
    "    zzz=app.window(found_index=0).child_window(class_name_re='Slider', found_index=i).wrapper_object()\n",
    "    slides.append(zzz)\n",
    "    "
   ]
  },
  {
   "cell_type": "code",
   "execution_count": 6,
   "id": "9526df3c-894c-493a-bca1-74119872cb50",
   "metadata": {},
   "outputs": [
    {
     "name": "stdout",
     "output_type": "stream",
     "text": [
      "Wall time: 0 ns\n"
     ]
    }
   ],
   "source": [
    "%%time\n",
    "if isinstance(1.1, float):\n",
    "    a=1"
   ]
  },
  {
   "cell_type": "code",
   "execution_count": null,
   "id": "3aa06672-f291-4f31-8617-ae50bcffd98e",
   "metadata": {},
   "outputs": [],
   "source": []
  },
  {
   "cell_type": "code",
   "execution_count": 7,
   "id": "c984d739-05f0-4e2b-afdd-4848db1bac92",
   "metadata": {},
   "outputs": [],
   "source": [
    "for i in range(8):\n",
    "    slides[i].draw_outline()\n",
    "    "
   ]
  },
  {
   "cell_type": "code",
   "execution_count": 8,
   "id": "b90c4904-8325-4313-b97b-c4669cffbab0",
   "metadata": {},
   "outputs": [
    {
     "name": "stdout",
     "output_type": "stream",
     "text": [
      "Wall time: 548 ms\n"
     ]
    }
   ],
   "source": [
    "%%time\n",
    "slides[0].set_value(1.0)\n",
    "slides[1].set_value(1.0)\n",
    "slides[2].set_value(1.0)\n",
    "slides[3].set_value(1.0)\n",
    "slides[4].set_value(1.0)\n",
    "slides[5].set_value(1.0)\n",
    "slides[6].set_value(1.0)\n",
    "slides[7].set_value(1.0)"
   ]
  },
  {
   "cell_type": "code",
   "execution_count": null,
   "id": "5889f1f2-18ac-47bb-ae9c-48688f7284ff",
   "metadata": {},
   "outputs": [],
   "source": []
  },
  {
   "cell_type": "code",
   "execution_count": null,
   "id": "8f3a2e79-e9d8-486f-bd43-7c017e83cbf7",
   "metadata": {
    "tags": []
   },
   "outputs": [],
   "source": []
  },
  {
   "cell_type": "code",
   "execution_count": 6,
   "id": "6e9c8baa-892e-40f5-8501-ae6671c85624",
   "metadata": {},
   "outputs": [],
   "source": [
    "def get_slider(label):\n",
    "    h = win.child_window(title=label, control_type=\"Edit\")\n",
    "    w = h.wrapper_object()\n",
    "    p = w.parent()\n",
    "    p.children_texts()\n",
    "    v = p.children()[-4] # slider\n",
    "    return v"
   ]
  },
  {
   "cell_type": "code",
   "execution_count": 7,
   "id": "b34d9c38-d800-45f8-a5ec-cf573c81fdaf",
   "metadata": {},
   "outputs": [],
   "source": [
    "sliders = [get_slider(c) for c in ['A', 'B', 'C', 'D', 'E', 'F', 'G', 'H']]"
   ]
  },
  {
   "cell_type": "code",
   "execution_count": 13,
   "id": "9b14cbe8-db37-448c-89fd-6cb7f21d02a0",
   "metadata": {},
   "outputs": [
    {
     "name": "stdout",
     "output_type": "stream",
     "text": [
      "Wall time: 674 ms\n"
     ]
    },
    {
     "data": {
      "text/plain": [
       "<uia_controls.EditWrapper - '1', Edit, -7642654999922521625>"
      ]
     },
     "execution_count": 13,
     "metadata": {},
     "output_type": "execute_result"
    }
   ],
   "source": [
    "%%time\n",
    "for i, s in enumerate(sliders):\n",
    "    s.select()\n",
    "    s.type_keys(1)\n",
    "\n",
    "sliders[0].select()"
   ]
  },
  {
   "cell_type": "code",
   "execution_count": 12,
   "id": "94a59562-db54-43a0-80fd-a27ea696530c",
   "metadata": {},
   "outputs": [
    {
     "data": {
      "text/plain": [
       "<uia_controls.EditWrapper - '10', Edit, -6945984289784874620>"
      ]
     },
     "execution_count": 12,
     "metadata": {},
     "output_type": "execute_result"
    }
   ],
   "source": [
    "s.type_keys(0)"
   ]
  },
  {
   "cell_type": "code",
   "execution_count": 15,
   "id": "23fb7df8-8bee-4fad-8601-f1554bf0e1a4",
   "metadata": {},
   "outputs": [
    {
     "data": {
      "text/plain": [
       "<uia_controls.EditWrapper - '1', Edit, -6945984289784874620>"
      ]
     },
     "execution_count": 15,
     "metadata": {},
     "output_type": "execute_result"
    }
   ],
   "source": [
    "s"
   ]
  },
  {
   "cell_type": "code",
   "execution_count": null,
   "id": "7e4c8b7f-170e-48e0-8172-23b7c6cf095e",
   "metadata": {},
   "outputs": [],
   "source": []
  }
 ],
 "metadata": {
  "kernelspec": {
   "display_name": "Python 3 (ipykernel)",
   "language": "python",
   "name": "python3"
  },
  "language_info": {
   "codemirror_mode": {
    "name": "ipython",
    "version": 3
   },
   "file_extension": ".py",
   "mimetype": "text/x-python",
   "name": "python",
   "nbconvert_exporter": "python",
   "pygments_lexer": "ipython3",
   "version": "3.10.0"
  }
 },
 "nbformat": 4,
 "nbformat_minor": 5
}
