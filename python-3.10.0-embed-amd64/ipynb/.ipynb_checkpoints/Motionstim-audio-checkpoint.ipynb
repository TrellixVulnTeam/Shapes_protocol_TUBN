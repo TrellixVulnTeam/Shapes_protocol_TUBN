{
 "cells": [
  {
   "cell_type": "code",
   "execution_count": 1,
   "id": "ede2383e-8a92-4ceb-9100-253825aeab48",
   "metadata": {},
   "outputs": [],
   "source": [
    "import serial\n",
    "import time\n",
    "import numpy as np\n"
   ]
  },
  {
   "cell_type": "code",
   "execution_count": 2,
   "id": "610029e7-5bfe-47de-9b0c-86fea373fd9f",
   "metadata": {},
   "outputs": [
    {
     "name": "stdout",
     "output_type": "stream",
     "text": [
      "pygame 2.1.2 (SDL 2.0.18, Python 3.10.0)\n",
      "Hello from the pygame community. https://www.pygame.org/contribute.html\n"
     ]
    }
   ],
   "source": [
    "from pygame import mixer  # Load the popular external library\n",
    "\n",
    "mixer.init()\n",
    "mixer.music.load(\"1khz.mp3\")"
   ]
  },
  {
   "cell_type": "code",
   "execution_count": null,
   "id": "e91be9bf-f30d-4b77-8e3e-2cd5d9bd8ae1",
   "metadata": {},
   "outputs": [],
   "source": []
  },
  {
   "cell_type": "code",
   "execution_count": 3,
   "id": "09381023-7a05-4dd8-b46d-e7c1a87de9f5",
   "metadata": {},
   "outputs": [
    {
     "name": "stdout",
     "output_type": "stream",
     "text": [
      "List of devices attached\n",
      "R52RB0D7XMM\tdevice\n",
      "\n"
     ]
    }
   ],
   "source": [
    "!adb devices"
   ]
  },
  {
   "cell_type": "code",
   "execution_count": 4,
   "id": "b968a1a1-f91f-40d5-ba83-30283e9375e3",
   "metadata": {},
   "outputs": [],
   "source": [
    "import subprocess\n",
    "import math\n",
    "import numpy as np\n",
    "%matplotlib widget\n",
    "from matplotlib import pyplot as plt\n",
    "from matplotlib.path import Path"
   ]
  },
  {
   "cell_type": "code",
   "execution_count": 5,
   "id": "9ec3cd03-ef16-4f60-bb98-901de51b6d27",
   "metadata": {},
   "outputs": [
    {
     "name": "stdout",
     "output_type": "stream",
     "text": [
      "b'Physical size: 1600x2560\\r\\n'\n"
     ]
    },
    {
     "data": {
      "text/plain": [
       "(array([1600, 2560]), (800, 1280))"
      ]
     },
     "execution_count": 5,
     "metadata": {},
     "output_type": "execute_result"
    }
   ],
   "source": [
    "\n",
    "cmd = r'adb shell wm size'\n",
    "\n",
    "p1=subprocess.Popen(cmd,shell=True,stdout=subprocess.PIPE)\n",
    "for line in p1.stdout:\n",
    "    print(line)\n",
    "    line = line.decode(encoding=\"utf-8\", errors=\"ignore\")\n",
    "    line = line.strip()\n",
    "    if 'Physical size' in line:\n",
    "        wm_size = (np.array(line.split(' ')[-1].split('\\r\\n')[0].split('x')).astype(int))\n",
    "        break\n",
    "        \n",
    "wm_center = (wm_size[0]//2, wm_size[1]//2)\n",
    "wm_size, wm_center"
   ]
  },
  {
   "cell_type": "markdown",
   "id": "a3b22cd1-a701-4dac-9731-81f1746b0fed",
   "metadata": {},
   "source": [
    "Check everything works"
   ]
  },
  {
   "cell_type": "code",
   "execution_count": 6,
   "id": "3bf8a231-fdb1-463f-8ebe-06f72e833232",
   "metadata": {},
   "outputs": [
    {
     "data": {
      "application/vnd.jupyter.widget-view+json": {
       "model_id": "498892ad70884afb8060772e186a6bc4",
       "version_major": 2,
       "version_minor": 0
      },
      "text/html": [
       "\n",
       "            <div style=\"display: inline-block;\">\n",
       "                <div class=\"jupyter-widgets widget-label\" style=\"text-align: center;\">\n",
       "                    Figure\n",
       "                </div>\n",
       "                <img src='data:image/png;base64,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' width=640.0/>\n",
       "            </div>\n",
       "        "
      ],
      "text/plain": [
       "Canvas(toolbar=Toolbar(toolitems=[('Home', 'Reset original view', 'home', 'home'), ('Back', 'Back to previous …"
      ]
     },
     "metadata": {},
     "output_type": "display_data"
    }
   ],
   "source": [
    "def gen_mask(num_verts, figure_radius, figure_center, first_angle, wm_size):\n",
    "    \n",
    "\n",
    "    \n",
    "    angles = [[np.cos(theta), np.sin(theta)] \n",
    "              for theta in np.linspace(first_angle, \n",
    "                                       first_angle+2*np.pi, \n",
    "                                       num_verts+1)]\n",
    "\n",
    "    verts = np.array(angles)*figure_radius + figure_center\n",
    "\n",
    "    polygon=verts\n",
    "    poly_path=Path(polygon)\n",
    "\n",
    "    x, y = np.mgrid[:wm_size[0], :wm_size[1]]\n",
    "    coors=np.hstack((x.reshape(-1, 1), y.reshape(-1,1))) # coors.shape is (4000000,2)\n",
    "\n",
    "    mask = poly_path.contains_points(coors).reshape(wm_size[0], wm_size[1])\n",
    "    \n",
    "    return mask, verts\n",
    "\n",
    "figure_mask, verts = gen_mask(num_verts=4,\n",
    "                       figure_radius=500,\n",
    "                       figure_center=370, \n",
    "                       first_angle=np.pi/4,\n",
    "                       wm_size=wm_size)\n",
    "\n",
    "plt.figure()\n",
    "plt.imshow((figure_mask))\n",
    "plt.show()"
   ]
  },
  {
   "cell_type": "code",
   "execution_count": 7,
   "id": "d091264f-9bb7-432e-ae17-b156d2d979af",
   "metadata": {},
   "outputs": [
    {
     "data": {
      "image/png": "[encoded data removed]",
      "text/plain": [
       "<Figure size 432x288 with 1 Axes>"
      ]
     },
     "metadata": {
      "needs_background": "light"
     },
     "output_type": "display_data"
    }
   ],
   "source": [
    "%matplotlib inline\n",
    "\n",
    "#Choose randomly number of vertex \n",
    "num_verts=np.random.choice([4,5,22])\n",
    "figure_radius=550\n",
    "figure_center=wm_center \n",
    "\n",
    "#Choose randomly number of vertex \n",
    "first_angle= np.random.rand() * np.pi\n",
    "# first_angle = np.pi/4\n",
    "wm_size=wm_size\n",
    "\n",
    "figure_mask, figure_verts = gen_mask(num_verts,\n",
    "                       figure_radius,\n",
    "                       figure_center,\n",
    "                       first_angle,\n",
    "                       wm_size)\n",
    "\n",
    "plt.figure()\n",
    "plt.imshow((figure_mask))\n",
    "plt.gca().invert_yaxis()"
   ]
  },
  {
   "cell_type": "code",
   "execution_count": 8,
   "id": "75119cf0-047d-40f8-ac6d-679245e861d7",
   "metadata": {},
   "outputs": [
    {
     "name": "stdout",
     "output_type": "stream",
     "text": [
      "A 4 6\n"
     ]
    }
   ],
   "source": [
    "\n",
    "current_stim_group = np.random.choice([0])\n",
    "# 0 - a 1 - b \n",
    "peak_amp      = [ 10][current_stim_group]\n",
    "baseline_stim = [ 4][current_stim_group]\n",
    "stim_amp      = peak_amp - baseline_stim\n",
    "\n",
    "print(['A'][current_stim_group], baseline_stim, stim_amp)\n",
    "\n",
    "current_stim_group='audio'"
   ]
  },
  {
   "cell_type": "code",
   "execution_count": 9,
   "id": "eed0d9a6-8c5c-4537-8c30-590081e01174",
   "metadata": {},
   "outputs": [
    {
     "data": {
      "text/plain": [
       "'audio'"
      ]
     },
     "execution_count": 9,
     "metadata": {},
     "output_type": "execute_result"
    }
   ],
   "source": [
    "current_stim_group"
   ]
  },
  {
   "cell_type": "code",
   "execution_count": null,
   "id": "f08e6904-4296-4f2d-b3b6-a04b52992517",
   "metadata": {},
   "outputs": [],
   "source": []
  },
  {
   "cell_type": "code",
   "execution_count": null,
   "id": "1f41cc50-9dfa-4e32-bc18-49e49703078a",
   "metadata": {},
   "outputs": [
    {
     "name": "stdout",
     "output_type": "stream",
     "text": [
      "22-03-16_19-35-01\n"
     ]
    },
    {
     "data": {
      "image/png": "[encoded data removed]",
      "text/plain": [
       "<Figure size 432x288 with 1 Axes>"
      ]
     },
     "metadata": {
      "needs_background": "light"
     },
     "output_type": "display_data"
    },
    {
     "name": "stdout",
     "output_type": "stream",
     "text": [
      "sss\n"
     ]
    }
   ],
   "source": [
    "from datetime import datetime as dt\n",
    "import os\n",
    "import subprocess\n",
    "\n",
    "\n",
    "time_label = dt.now().strftime('%y-%m-%d_%H-%M-%S')\n",
    "print(time_label)\n",
    "\n",
    "plt.figure()\n",
    "plt.imshow((figure_mask))\n",
    "plt.gca().invert_yaxis()\n",
    "plt.savefig(os.path.join('session', time_label + '_figure_mask.png'), dpi=300)\n",
    "plt.show()\n",
    "session_log_filename = os.path.join('session', time_label + '_session.log')\n",
    "\n",
    "x, y = 0, 0\n",
    "cmd = r'adb shell getevent -t /dev/input/event5'\n",
    "\n",
    "toggle = 0;\n",
    "toggle_prev = 0;\n",
    "p1=subprocess.Popen(cmd,shell=True,stdout=subprocess.PIPE)\n",
    "\n",
    "print('sss')\n",
    "\n",
    "with open(session_log_filename, 'w+') as f:\n",
    "    f.write('Mode = area stim')\n",
    "    f.write(f'''\n",
    "    verts = {num_verts} \n",
    "    radius = {figure_radius} \n",
    "    center = {figure_center} \n",
    "    first_angle = {first_angle} \n",
    "    wm_size = {wm_size} \n",
    "    stim_amp = {stim_amp} \n",
    "    baseline_stim = {baseline_stim}\n",
    "    current_stim_group = {current_stim_group}\n",
    "    sense_zone = {0}\n",
    "    ===============================\\n''')\n",
    "    for l in p1.stdout:\n",
    "        line = l.decode(encoding=\"utf-8\", errors=\"ignore\").strip()\n",
    "        \n",
    "        #print(line)\n",
    "\n",
    "        if ' 0036 ' in line:\n",
    "            e = line.split(\" \")\n",
    "            x = e[-1]\n",
    "            x = int(x, 16)\n",
    "            #print(x) # 0 -- 900, но длинная стороны\n",
    "            if (y > 0) & (x>0):\n",
    "                \n",
    "                #For tpad\n",
    "                x_phys = int(np.round(x/800*1920))\n",
    "                y_phys = int(np.round(y/1280*1200))\n",
    "                \n",
    "                \n",
    "                #print(str((x_phys,y_phys)))\n",
    "                #toggle = figure_mask[y_phys, x_phys]\n",
    "                f.write(str(dt.now()) + ' ' + str(toggle) + ' ' + str(line) + '\\n')\n",
    "\n",
    "        if  ' 0035 ' in line:\n",
    "            e = line.split(\" \")\n",
    "            y = e[-1]\n",
    "            y = int(y, 16)\n",
    "            #print(y)\n",
    "            if (y > 0) & (x>0):\n",
    "                p = (x, y)    \n",
    "                print(y)\n",
    "                x_phys = int(np.round(x/800*1920))\n",
    "                y_phys = int(np.round(y/1280*1200))\n",
    "                #print(str((x_phys,y_phys)))\n",
    "                #toggle = figure_mask[y_phys, x_phys]\n",
    "                rev = toggle\n",
    "                    #slides[current_stim_group].set_value(toggle*stim_amp+baseline_stim)\n",
    "                    "
   ]
  },
  {
   "cell_type": "code",
   "execution_count": null,
   "id": "f92534c6-181e-4988-913e-859d38b9aac9",
   "metadata": {},
   "outputs": [],
   "source": []
  },
  {
   "cell_type": "code",
   "execution_count": null,
   "id": "e7b469da-28fd-4bc2-aa01-f463bfbd112c",
   "metadata": {
    "tags": []
   },
   "outputs": [],
   "source": [
    "from datetime import datetime as dt\n",
    "import os\n",
    "import subprocess\n",
    "\n",
    "\n",
    "time_label = dt.now().strftime('%y-%m-%d_%H-%M-%S')\n",
    "print(time_label)\n",
    "\n",
    "plt.figure()\n",
    "plt.imshow((figure_mask))\n",
    "plt.gca().invert_yaxis()\n",
    "plt.savefig(os.path.join('session', time_label + '_figure_mask.png'), dpi=300)\n",
    "plt.show()\n",
    "session_log_filename = os.path.join('session', time_label + '_session.log')\n",
    "\n",
    "x, y = 0, 0\n",
    "cmd = r'adb shell getevent -t /dev/input/event5'\n",
    "\n",
    "toggle = 0;\n",
    "toggle_prev = 0;\n",
    "p1=subprocess.Popen(cmd,shell=True,stdout=subprocess.PIPE)\n",
    "\n",
    "print('sss')\n",
    "\n",
    "with open(session_log_filename, 'w+') as f:\n",
    "    f.write('Mode = area stim')\n",
    "    f.write(f'''\n",
    "    verts = {num_verts} \n",
    "    radius = {figure_radius} \n",
    "    center = {figure_center} \n",
    "    first_angle = {first_angle} \n",
    "    wm_size = {wm_size} \n",
    "    stim_amp = {stim_amp} \n",
    "    baseline_stim = {baseline_stim}\n",
    "    current_stim_group = {current_stim_group}\n",
    "    sense_zone = {0}\n",
    "    ===============================\\n''')\n",
    "    for l in p1.stdout:\n",
    "        line = l.decode(encoding=\"utf-8\", errors=\"ignore\").strip()\n",
    "        \n",
    "        #print(line)\n",
    "\n",
    "        if ' 0036 ' in line:\n",
    "            e = line.split(\" \")\n",
    "            x = e[-1]\n",
    "            x = int(x, 16)\n",
    "            #print(x) # 0 -- 900, но длинная стороны\n",
    "            if (y > 0) & (x>0):\n",
    "                \n",
    "                #For tpad\n",
    "                #x_phys = int(np.round(x/800*1920))\n",
    "                #y_phys = int(np.round(y/1280*1200))\n",
    "                #print(str((x_phys,y_phys)))\n",
    "                \n",
    "                x_phys = x\n",
    "                y_phys = y\n",
    "                \n",
    "                \n",
    "                toggle = figure_mask[y_phys, x_phys]\n",
    "                f.write(str(dt.now()) + ' ' + str(toggle) + ' ' + str(line) + '\\n')\n",
    "\n",
    "        if  ' 0035 ' in line:\n",
    "            e = line.split(\" \")\n",
    "            y = e[-1]\n",
    "            y = int(y, 16)\n",
    "            #print(y)\n",
    "            if (y > 0) & (x>0):\n",
    "                p = (x, y)    \n",
    "                \n",
    "                #For tpad\n",
    "                #x_phys = int(np.round(x/800*1920))\n",
    "                #y_phys = int(np.round(y/1280*1200))\n",
    "                #print(str((x_phys,y_phys)))\n",
    "                \n",
    "                x_phys = x\n",
    "                y_phys = y\n",
    "                \n",
    "                toggle = figure_mask[y_phys, x_phys]\n",
    "                rev = toggle\n",
    "                    #slides[current_stim_group].set_value(toggle*stim_amp+baseline_stim)\n",
    "                    \n",
    "                #print(f'{x:04d}, {y:04d} {toggle}', line, end='\\r')\n",
    "                f.write(str(dt.now()) + ' ' + str(toggle) + ' ' + str(line) + '\\n')\n",
    "    \n",
    "                if toggle!=toggle_prev:\n",
    "                    # print(str(toggle)+'   '+str(x)+'     '+str(y), end='\\r');\n",
    "                    toggle_prev=toggle\n",
    "                    #st=toggle*stim_amp+baseline_stim\n",
    "                    \n",
    "                    if toggle:\n",
    "                        mixer.music.play()\n",
    "                    else:\n",
    "                        mixer.music.stop()\n",
    "                    \n",
    "                    while p1.stdout.tell() < -200:\n",
    "                        p1.stdout.readline()\n",
    "                "
   ]
  },
  {
   "cell_type": "code",
   "execution_count": null,
   "id": "a31a9c2c-f362-4a1a-82b3-fcb78835e930",
   "metadata": {},
   "outputs": [],
   "source": [
    "mixer.music.stop()"
   ]
  },
  {
   "cell_type": "code",
   "execution_count": null,
   "id": "8e5acc43-fa8a-4716-83b9-7294d59db9b9",
   "metadata": {},
   "outputs": [],
   "source": [
    "p1=subprocess.Popen(cmd,shell=True,stdout=subprocess.PIPE)"
   ]
  },
  {
   "cell_type": "code",
   "execution_count": null,
   "id": "fabbed22-b9a4-47be-a323-83af6f85573a",
   "metadata": {},
   "outputs": [],
   "source": [
    "mm.StopDevice()"
   ]
  },
  {
   "cell_type": "code",
   "execution_count": null,
   "id": "b29599e5-4e9e-4d3b-9012-0122799460e6",
   "metadata": {},
   "outputs": [],
   "source": [
    "cmd = r'adb shell getevent -t /dev/input/event2'"
   ]
  },
  {
   "cell_type": "code",
   "execution_count": null,
   "id": "ed9b73e4-83e5-41a7-841c-12c41ba5a13e",
   "metadata": {},
   "outputs": [],
   "source": [
    "for l in p1.stdout:\n",
    "    line = l.decode(encoding=\"utf-8\", errors=\"ignore\").strip()\n",
    "    print(line)"
   ]
  },
  {
   "cell_type": "code",
   "execution_count": null,
   "id": "02b06ffe-9605-4e57-a2d8-dae167438bb9",
   "metadata": {},
   "outputs": [],
   "source": [
    "p1.stdout:"
   ]
  },
  {
   "cell_type": "code",
   "execution_count": null,
   "id": "16b77e1e-25bf-489d-bff6-ec1e559da00e",
   "metadata": {},
   "outputs": [],
   "source": []
  },
  {
   "cell_type": "code",
   "execution_count": null,
   "id": "92d8d580-a2b9-447b-8f77-226c3bb0e4b6",
   "metadata": {},
   "outputs": [],
   "source": []
  },
  {
   "cell_type": "code",
   "execution_count": null,
   "id": "effa0466-34ce-4be5-8aa7-85054eb080d2",
   "metadata": {},
   "outputs": [],
   "source": []
  },
  {
   "cell_type": "code",
   "execution_count": null,
   "id": "a43d8253-f3d4-41cc-880c-89c2edcc3252",
   "metadata": {},
   "outputs": [],
   "source": []
  }
 ],
 "metadata": {
  "kernelspec": {
   "display_name": "Python 3 (ipykernel)",
   "language": "python",
   "name": "python3"
  },
  "language_info": {
   "codemirror_mode": {
    "name": "ipython",
    "version": 3
   },
   "file_extension": ".py",
   "mimetype": "text/x-python",
   "name": "python",
   "nbconvert_exporter": "python",
   "pygments_lexer": "ipython3",
   "version": "3.10.0"
  }
 },
 "nbformat": 4,
 "nbformat_minor": 5
}
