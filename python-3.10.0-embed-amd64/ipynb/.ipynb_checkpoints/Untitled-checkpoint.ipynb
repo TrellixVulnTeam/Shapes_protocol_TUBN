{
 "cells": [
  {
   "cell_type": "code",
   "execution_count": 1,
   "id": "80b5a564-e90f-40be-a87b-0123d777a938",
   "metadata": {},
   "outputs": [],
   "source": [
    "import serial\n",
    "import pyautogui\n",
    "\n",
    "import time"
   ]
  },
  {
   "cell_type": "code",
   "execution_count": 2,
   "id": "1ea9673e-0b87-401c-afd7-377ad9f469a5",
   "metadata": {},
   "outputs": [],
   "source": [
    "ser = serial.Serial('COM4', 9600)\n",
    "# time.sleep(3)"
   ]
  },
  {
   "cell_type": "code",
   "execution_count": 3,
   "id": "21e9d294-e225-4d92-9479-e72ad10d3c17",
   "metadata": {},
   "outputs": [
    {
     "data": {
      "text/plain": [
       "Point(x=0, y=0)"
      ]
     },
     "execution_count": 3,
     "metadata": {},
     "output_type": "execute_result"
    }
   ],
   "source": [
    "pyautogui.position()"
   ]
  },
  {
   "cell_type": "code",
   "execution_count": 4,
   "id": "264309d2-f0b8-41e9-96cb-b23b18d9c599",
   "metadata": {},
   "outputs": [
    {
     "data": {
      "text/plain": [
       "b'\\xfa0\\r\\n'"
      ]
     },
     "execution_count": 4,
     "metadata": {},
     "output_type": "execute_result"
    }
   ],
   "source": [
    "ser.read_until(b'\\r\\n')"
   ]
  },
  {
   "cell_type": "code",
   "execution_count": 5,
   "id": "43205751-774a-40af-a41d-add81cfe0244",
   "metadata": {},
   "outputs": [],
   "source": [
    "def read_tensometer():\n",
    "    while True:\n",
    "        try:\n",
    "            ser.flush()\n",
    "            ser.read_all()\n",
    "            ser.readline()\n",
    "            time.sleep(0.001)\n",
    "            return int(ser.readline().decode('UTF-8').split('\\r\\n')[0])\n",
    "        except:\n",
    "            pass\n",
    "        \n",
    "# while True:\n",
    "#     print(read_tensometer())\n",
    "#     time.sleep(0.1);"
   ]
  },
  {
   "cell_type": "code",
   "execution_count": 3,
   "id": "a313178e-2516-4161-8a42-5797ca6d2298",
   "metadata": {},
   "outputs": [],
   "source": [
    "amplitudeLeft = (1680, 265)\n",
    "amplitudeRight = (1810, 265)\n",
    "collapseButton = (1800, 15)"
   ]
  },
  {
   "cell_type": "markdown",
   "id": "40c9ed90-5cd3-4bf2-871e-6679badc2236",
   "metadata": {},
   "source": [
    "# Immitate sensation"
   ]
  },
  {
   "cell_type": "code",
   "execution_count": 9,
   "id": "4f1bee59-1888-41c3-ae1c-f1ea4b7a8e46",
   "metadata": {},
   "outputs": [
    {
     "ename": "KeyboardInterrupt",
     "evalue": "",
     "output_type": "error",
     "traceback": [
      "\u001b[1;31m---------------------------------------------------------------------------\u001b[0m",
      "\u001b[1;31mKeyboardInterrupt\u001b[0m                         Traceback (most recent call last)",
      "\u001b[1;32m~\\AppData\\Local\\Temp/ipykernel_6268/3248035521.py\u001b[0m in \u001b[0;36m<module>\u001b[1;34m\u001b[0m\n\u001b[0;32m     13\u001b[0m \u001b[1;32mwhile\u001b[0m \u001b[1;32mTrue\u001b[0m\u001b[1;33m:\u001b[0m\u001b[1;33m\u001b[0m\u001b[1;33m\u001b[0m\u001b[0m\n\u001b[0;32m     14\u001b[0m     \u001b[0mx\u001b[0m \u001b[1;33m=\u001b[0m \u001b[0mint\u001b[0m\u001b[1;33m(\u001b[0m\u001b[1;33m(\u001b[0m\u001b[0mread_tensometer\u001b[0m\u001b[1;33m(\u001b[0m\u001b[1;33m)\u001b[0m\u001b[1;33m/\u001b[0m\u001b[1;36m600.\u001b[0m\u001b[1;33m)\u001b[0m \u001b[1;33m*\u001b[0m \u001b[1;36m30\u001b[0m\u001b[1;33m)\u001b[0m\u001b[1;33m\u001b[0m\u001b[1;33m\u001b[0m\u001b[0m\n\u001b[1;32m---> 15\u001b[1;33m     \u001b[0mpyautogui\u001b[0m\u001b[1;33m.\u001b[0m\u001b[0mmoveTo\u001b[0m\u001b[1;33m(\u001b[0m\u001b[0mamplitudeLeft\u001b[0m\u001b[1;33m[\u001b[0m\u001b[1;36m0\u001b[0m\u001b[1;33m]\u001b[0m\u001b[1;33m+\u001b[0m\u001b[0mx\u001b[0m\u001b[1;33m,\u001b[0m \u001b[0my\u001b[0m\u001b[1;33m=\u001b[0m\u001b[0mamplitudeLeft\u001b[0m\u001b[1;33m[\u001b[0m\u001b[1;36m1\u001b[0m\u001b[1;33m]\u001b[0m\u001b[1;33m,\u001b[0m \u001b[0mduration\u001b[0m\u001b[1;33m=\u001b[0m\u001b[1;36m0.01\u001b[0m\u001b[1;33m)\u001b[0m\u001b[1;33m\u001b[0m\u001b[1;33m\u001b[0m\u001b[0m\n\u001b[0m\u001b[0;32m     16\u001b[0m     \u001b[1;31m# print(x)\u001b[0m\u001b[1;33m\u001b[0m\u001b[1;33m\u001b[0m\u001b[0m\n",
      "\u001b[1;32m~\\Desktop\\python-3.10.0-embed-amd64\\lib\\site-packages\\pyautogui\\__init__.py\u001b[0m in \u001b[0;36mwrapper\u001b[1;34m(*args, **kwargs)\u001b[0m\n\u001b[0;32m    597\u001b[0m         \u001b[0mfailSafeCheck\u001b[0m\u001b[1;33m(\u001b[0m\u001b[1;33m)\u001b[0m\u001b[1;33m\u001b[0m\u001b[1;33m\u001b[0m\u001b[0m\n\u001b[0;32m    598\u001b[0m         \u001b[0mreturnVal\u001b[0m \u001b[1;33m=\u001b[0m \u001b[0mwrappedFunction\u001b[0m\u001b[1;33m(\u001b[0m\u001b[1;33m*\u001b[0m\u001b[0margs\u001b[0m\u001b[1;33m,\u001b[0m \u001b[1;33m**\u001b[0m\u001b[0mkwargs\u001b[0m\u001b[1;33m)\u001b[0m\u001b[1;33m\u001b[0m\u001b[1;33m\u001b[0m\u001b[0m\n\u001b[1;32m--> 599\u001b[1;33m         \u001b[0m_handlePause\u001b[0m\u001b[1;33m(\u001b[0m\u001b[0mkwargs\u001b[0m\u001b[1;33m.\u001b[0m\u001b[0mget\u001b[0m\u001b[1;33m(\u001b[0m\u001b[1;34m\"_pause\"\u001b[0m\u001b[1;33m,\u001b[0m \u001b[1;32mTrue\u001b[0m\u001b[1;33m)\u001b[0m\u001b[1;33m)\u001b[0m\u001b[1;33m\u001b[0m\u001b[1;33m\u001b[0m\u001b[0m\n\u001b[0m\u001b[0;32m    600\u001b[0m         \u001b[1;32mreturn\u001b[0m \u001b[0mreturnVal\u001b[0m\u001b[1;33m\u001b[0m\u001b[1;33m\u001b[0m\u001b[0m\n\u001b[0;32m    601\u001b[0m \u001b[1;33m\u001b[0m\u001b[0m\n",
      "\u001b[1;32m~\\Desktop\\python-3.10.0-embed-amd64\\lib\\site-packages\\pyautogui\\__init__.py\u001b[0m in \u001b[0;36m_handlePause\u001b[1;34m(_pause)\u001b[0m\n\u001b[0;32m    641\u001b[0m     \u001b[1;32mif\u001b[0m \u001b[0m_pause\u001b[0m\u001b[1;33m:\u001b[0m\u001b[1;33m\u001b[0m\u001b[1;33m\u001b[0m\u001b[0m\n\u001b[0;32m    642\u001b[0m         \u001b[1;32massert\u001b[0m \u001b[0misinstance\u001b[0m\u001b[1;33m(\u001b[0m\u001b[0mPAUSE\u001b[0m\u001b[1;33m,\u001b[0m \u001b[0mint\u001b[0m\u001b[1;33m)\u001b[0m \u001b[1;32mor\u001b[0m \u001b[0misinstance\u001b[0m\u001b[1;33m(\u001b[0m\u001b[0mPAUSE\u001b[0m\u001b[1;33m,\u001b[0m \u001b[0mfloat\u001b[0m\u001b[1;33m)\u001b[0m\u001b[1;33m\u001b[0m\u001b[1;33m\u001b[0m\u001b[0m\n\u001b[1;32m--> 643\u001b[1;33m         \u001b[0mtime\u001b[0m\u001b[1;33m.\u001b[0m\u001b[0msleep\u001b[0m\u001b[1;33m(\u001b[0m\u001b[0mPAUSE\u001b[0m\u001b[1;33m)\u001b[0m\u001b[1;33m\u001b[0m\u001b[1;33m\u001b[0m\u001b[0m\n\u001b[0m\u001b[0;32m    644\u001b[0m \u001b[1;33m\u001b[0m\u001b[0m\n\u001b[0;32m    645\u001b[0m \u001b[1;33m\u001b[0m\u001b[0m\n",
      "\u001b[1;31mKeyboardInterrupt\u001b[0m: "
     ]
    }
   ],
   "source": [
    "pyautogui.moveTo(*collapseButton, duration=0)\n",
    "pyautogui.leftClick()\n",
    "time.sleep(0.5)\n",
    "\n",
    "pyautogui.moveTo(*amplitudeLeft, duration=0)\n",
    "for i in range(10):\n",
    "    pyautogui.leftClick()\n",
    "    time.sleep(0.1);    \n",
    "    \n",
    "pyautogui.moveTo(*amplitudeLeft, duration=0)\n",
    "pyautogui.mouseDown(button='left')\n",
    "\n",
    "while True:\n",
    "    x = int((read_tensometer()/600.) * 30)\n",
    "    pyautogui.moveTo(amplitudeLeft[0]+x, y=amplitudeLeft[1], duration=0.01)\n",
    "    # print(x)"
   ]
  },
  {
   "cell_type": "markdown",
   "id": "befb7a0f-4afb-40ee-9e61-b913602095b2",
   "metadata": {},
   "source": [
    "# Slider movements"
   ]
  },
  {
   "cell_type": "code",
   "execution_count": 31,
   "id": "f595b383-1349-4f51-96d1-416dbdb2b011",
   "metadata": {},
   "outputs": [],
   "source": [
    "\n",
    "pyautogui.moveTo(*collapseButton, duration=0)"
   ]
  },
  {
   "cell_type": "code",
   "execution_count": 32,
   "id": "ce601400-6c71-4c32-b9bf-96a8b30dd80d",
   "metadata": {},
   "outputs": [
    {
     "ename": "KeyboardInterrupt",
     "evalue": "",
     "output_type": "error",
     "traceback": [
      "\u001b[1;31m---------------------------------------------------------------------------\u001b[0m",
      "\u001b[1;31mKeyboardInterrupt\u001b[0m                         Traceback (most recent call last)",
      "\u001b[1;32m~\\AppData\\Local\\Temp/ipykernel_10924/3440443030.py\u001b[0m in \u001b[0;36m<module>\u001b[1;34m\u001b[0m\n\u001b[0;32m     23\u001b[0m \u001b[1;33m\u001b[0m\u001b[0m\n\u001b[0;32m     24\u001b[0m \u001b[1;33m\u001b[0m\u001b[0m\n\u001b[1;32m---> 25\u001b[1;33m     \u001b[0mtime\u001b[0m\u001b[1;33m.\u001b[0m\u001b[0msleep\u001b[0m\u001b[1;33m(\u001b[0m\u001b[1;36m5\u001b[0m\u001b[1;33m)\u001b[0m\u001b[1;33m;\u001b[0m\u001b[1;33m\u001b[0m\u001b[1;33m\u001b[0m\u001b[0m\n\u001b[0m",
      "\u001b[1;31mKeyboardInterrupt\u001b[0m: "
     ]
    }
   ],
   "source": [
    "pyautogui.moveTo(*collapseButton, duration=0)\n",
    "pyautogui.leftClick()\n",
    "time.sleep(0.5)\n",
    "\n",
    "pyautogui.moveTo(*amplitudeLeft, duration=0)\n",
    "for i in range(10):\n",
    "    pyautogui.leftClick()\n",
    "    time.sleep(0.1);    \n",
    "\n",
    "# pyautogui.moveTo(*startButton, duration=0)\n",
    "# pyautogui.leftClick()\n",
    "\n",
    "\n",
    "while True:\n",
    "    pyautogui.moveTo(*amplitudeLeft, duration=0)\n",
    "    pyautogui.mouseDown(button='left')\n",
    "    # ser.write(10)\n",
    "    pyautogui.moveTo(*amplitudeRight, duration=1)\n",
    "    time.sleep(0.2);\n",
    "    pyautogui.moveTo(*amplitudeLeft, duration=1);\n",
    "\n",
    "    pyautogui.mouseUp(button='left')\n",
    "\n",
    "\n",
    "    time.sleep(5);"
   ]
  },
  {
   "cell_type": "code",
   "execution_count": 28,
   "id": "4c9ee1e3-d986-446b-be08-31eeb07a4ba8",
   "metadata": {},
   "outputs": [],
   "source": [
    "pyautogui.leftClick("
   ]
  },
  {
   "cell_type": "code",
   "execution_count": null,
   "id": "ed1ab544-86ae-4848-9a2b-ca5f0c34d531",
   "metadata": {},
   "outputs": [],
   "source": []
  }
 ],
 "metadata": {
  "kernelspec": {
   "display_name": "Python 3 (ipykernel)",
   "language": "python",
   "name": "python3"
  },
  "language_info": {
   "codemirror_mode": {
    "name": "ipython",
    "version": 3
   },
   "file_extension": ".py",
   "mimetype": "text/x-python",
   "name": "python",
   "nbconvert_exporter": "python",
   "pygments_lexer": "ipython3",
   "version": "3.10.0"
  }
 },
 "nbformat": 4,
 "nbformat_minor": 5
}
