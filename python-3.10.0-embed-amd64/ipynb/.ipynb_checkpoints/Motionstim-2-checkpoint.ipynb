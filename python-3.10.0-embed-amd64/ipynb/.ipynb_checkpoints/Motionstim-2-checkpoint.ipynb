{
 "cells": [
  {
   "cell_type": "code",
   "execution_count": 1,
   "id": "57442f1e-5b92-47fc-8472-cf35c304375b",
   "metadata": {},
   "outputs": [],
   "source": [
    "trials=[1,1,2,2,3,3,4,4,5,5,6,6]"
   ]
  },
  {
   "cell_type": "code",
   "execution_count": 2,
   "id": "b927cfb7-3d4d-47e7-9874-3ec739f57d09",
   "metadata": {},
   "outputs": [],
   "source": [
    "import random"
   ]
  },
  {
   "cell_type": "code",
   "execution_count": 4,
   "id": "685a6ed4-2c6b-4c4c-90ce-72318b0d9433",
   "metadata": {},
   "outputs": [
    {
     "data": {
      "text/plain": [
       "6"
      ]
     },
     "execution_count": 4,
     "metadata": {},
     "output_type": "execute_result"
    }
   ],
   "source": [
    "random.choice(trials)"
   ]
  },
  {
   "cell_type": "code",
   "execution_count": 6,
   "id": "78a7ead4-0f04-4e64-b3be-8af948bb6623",
   "metadata": {},
   "outputs": [],
   "source": [
    "trials.remove(6)"
   ]
  },
  {
   "cell_type": "code",
   "execution_count": 7,
   "id": "6409c3dc-caad-42f5-88bf-ae0af2bd5920",
   "metadata": {},
   "outputs": [
    {
     "data": {
      "text/plain": [
       "[1, 1, 2, 2, 3, 3, 4, 4, 5, 5, 6]"
      ]
     },
     "execution_count": 7,
     "metadata": {},
     "output_type": "execute_result"
    }
   ],
   "source": [
    "trials"
   ]
  },
  {
   "cell_type": "code",
   "execution_count": null,
   "id": "b556224c-a134-4f2e-82a6-069875e563e8",
   "metadata": {},
   "outputs": [],
   "source": []
  }
 ],
 "metadata": {
  "kernelspec": {
   "display_name": "Python 3 (ipykernel)",
   "language": "python",
   "name": "python3"
  },
  "language_info": {
   "codemirror_mode": {
    "name": "ipython",
    "version": 3
   },
   "file_extension": ".py",
   "mimetype": "text/x-python",
   "name": "python",
   "nbconvert_exporter": "python",
   "pygments_lexer": "ipython3",
   "version": "3.10.0"
  }
 },
 "nbformat": 4,
 "nbformat_minor": 5
}
